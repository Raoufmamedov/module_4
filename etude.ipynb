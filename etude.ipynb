{
 "cells": [
  {
   "cell_type": "code",
   "execution_count": 1,
   "metadata": {},
   "outputs": [],
   "source": [
    "from pandas import Series\n",
    "import pandas as pd\n",
    "import numpy as np\n",
    "\n",
    "import matplotlib.pyplot as plt\n",
    "import seaborn as sns\n",
    "\n",
    "from sklearn.feature_selection import f_classif, mutual_info_classif\n",
    "from sklearn.preprocessing import LabelEncoder, OneHotEncoder, StandardScaler\n",
    "\n",
    "from sklearn.model_selection import train_test_split, cross_val_score, train_test_split, GridSearchCV\n",
    "from sklearn.linear_model import LogisticRegression\n",
    "\n",
    "from sklearn.metrics import confusion_matrix, auc, roc_auc_score, roc_curve, f1_score, accuracy_score, precision_score, recall_score\n",
    "\n",
    "from scipy.stats.mstats import winsorize \n",
    "from scipy.stats import pointbiserialr, zscore, chi2_contingency\n",
    "import itertools\n",
    "from collections import OrderedDict \n",
    "import pandas_profiling\n",
    "import phik\n",
    "\n",
    "from phik import resources\n",
    "from phik.binning import bin_data\n",
    "from phik.report import plot_correlation_matrix\n"
   ]
  },
  {
   "cell_type": "markdown",
   "metadata": {},
   "source": [
    "Этот notebook представляет собой этюд для изучения основных закономерностей, присутствующих в обучающем датасете train.csv\n",
    "Его задачей является поиск значимых корреляций между независимыми признаками и целевой переменной, подготовка данных к анализу, \n",
    "конструирование новых  признаков.  Находки этого этюда, будет использованы при построении модели и её обучении.\n",
    "\n",
    "Для того чтобы понять какие действия нам необходимо предпринять, мы начнём с анализа данных в обучающем сете и поймём как из них можно извлечь побольше информации. После этого мы объединим тестовый и тренировочный сеты для совместной обработки согласно сформулированнм правилам обработки. Сделаем мы это в отдельном ноутбуке"
   ]
  },
  {
   "cell_type": "code",
   "execution_count": 2,
   "metadata": {},
   "outputs": [],
   "source": [
    "#модуль оценки значимости корреляций Phi.\n",
    "\n",
    "def fik(dataframe):\n",
    "    dataframe=pd.concat([dataframe, train['default']], axis=1)\n",
    "    significance_overview = dataframe.significance_matrix()\n",
    "    plot_correlation_matrix(significance_overview.fillna(0).values, x_labels=significance_overview.columns, \n",
    "                        y_labels=significance_overview.index,  title='significance', \n",
    "                        usetex=False, fontsize_factor=1.5, figsize=(20,25))\n",
    "    plt.tight_layout()\n",
    "    "
   ]
  },
  {
   "cell_type": "code",
   "execution_count": 3,
   "metadata": {},
   "outputs": [],
   "source": [
    "   \n",
    "# #Таблица метрик для сравнения результатов каждой модели\n",
    "# metrics = ['accuracy', 'precision', 'recall', 'f1_score', 'ROC_AUC']\n",
    "# summary = pd.DataFrame(index = metrics)\n",
    "# def summary_metrics(summary,col,y_valid,y_pred,y_pred_probs):\n",
    "#     values = [accuracy_score(y_valid,y_pred), precision_score(y_valid,y_pred), recall_score(y_valid,y_pred), f1_score(y_valid,y_pred), roc_auc_score(y_valid, y_pred_probs)]\n",
    "#     summary[col] = values\n",
    "#     return summary\n",
    "\n",
    "# кривая ROC_AUC \n",
    "def roc_auc_curve(y_valid, y_pred_probs):\n",
    "    fpr, tpr, threshold = roc_curve(y_yest, y_probs)\n",
    "    roc_auc = roc_auc_score(y_test, y_probs)\n",
    "    plt.figure()\n",
    "    plt.plot([0, 1], label='Baseline', linestyle='--')\n",
    "    plt.plot(fpr, tpr, label = 'Regression')\n",
    "    plt.title('Logistic Regression ROC AUC = %0.3f' % roc_auc)\n",
    "    plt.ylabel('True Positive Rate')\n",
    "    plt.xlabel('False Positive Rate')\n",
    "    plt.legend(loc = 'lower right')\n",
    "    plt.show()\n",
    "\n",
    "# Confusion matrix\n",
    "def conf_mat(y_valid, y_pred):\n",
    "    P = np.sum(y_valid==1)\n",
    "    N = np.sum(y_valid==0)\n",
    "    print('Positive: {0}, Negative: {1}'.format(P,N))\n",
    "    \n",
    "    tn, fp, fn, tp = confusion_matrix(y_valid, y_pred).ravel()\n",
    "    print(tp, fp) \n",
    "    print(fn, tn)"
   ]
  },
  {
   "cell_type": "code",
   "execution_count": null,
   "metadata": {},
   "outputs": [],
   "source": []
  },
  {
   "cell_type": "markdown",
   "metadata": {},
   "source": [
    "Data Description\n",
    "Вам предоставлена информация из анкетных данных заемщиков и факт наличия дефолта.\n",
    "\n",
    "Описания полей\n",
    "client_id - идентификатор клиента\n",
    "\n",
    "education - уровень образования\n",
    "\n",
    "sex - пол заемщика\n",
    "\n",
    "age - возраст заемщика\n",
    "\n",
    "car - флаг наличия автомобиля\n",
    "\n",
    "car_type - флаг автомобиля иномарки\n",
    "\n",
    "decline_app_cnt - количество отказанных прошлых заявок\n",
    "\n",
    "good_work - флаг наличия “хорошей” работы\n",
    "\n",
    "bki_request_cnt - количество запросов в БКИ\n",
    "\n",
    "home_address - категоризатор домашнего адреса\n",
    "\n",
    "work_address - категоризатор рабочего адреса\n",
    "\n",
    "income - доход заемщика\n",
    "\n",
    "foreign_passport - наличие загранпаспорта\n",
    "\n",
    "sna - связь заемщика с клиентами банка\n",
    "\n",
    "first_time - давность наличия информации о заемщике\n",
    "\n",
    "score_bki - скоринговый балл по данным из БКИ\n",
    "\n",
    "region_rating - рейтинг региона\n",
    "\n",
    "app_date - дата подачи заявки\n",
    "\n",
    "default - флаг дефолта по кредиту"
   ]
  },
  {
   "cell_type": "code",
   "execution_count": 4,
   "metadata": {},
   "outputs": [],
   "source": [
    "# программа поиска отношения значений у соседствующих значений недефолт-деволт\n",
    "def ratio(df, digs=2):\n",
    "    z=round(df[1]/df[0], digs)\n",
    "    return z"
   ]
  },
  {
   "cell_type": "code",
   "execution_count": 5,
   "metadata": {},
   "outputs": [],
   "source": [
    "pd.set_option('display.max_rows', 50)\n",
    "pd.set_option('display.max_columns', 30)"
   ]
  },
  {
   "cell_type": "markdown",
   "metadata": {},
   "source": [
    "Для начала рассмотрим обучающий и тестовый датасеты и попытаемся понять, насколько сильно они между собой различаются."
   ]
  },
  {
   "cell_type": "code",
   "execution_count": 6,
   "metadata": {},
   "outputs": [],
   "source": [
    "train=pd.read_csv('train.csv')\n",
    "test=pd.read_csv('test.csv')"
   ]
  },
  {
   "cell_type": "markdown",
   "metadata": {},
   "source": [
    "Проверим датасет на наличие пропусков"
   ]
  },
  {
   "cell_type": "code",
   "execution_count": 7,
   "metadata": {},
   "outputs": [
    {
     "data": {
      "text/html": [
       "<div>\n",
       "<style scoped>\n",
       "    .dataframe tbody tr th:only-of-type {\n",
       "        vertical-align: middle;\n",
       "    }\n",
       "\n",
       "    .dataframe tbody tr th {\n",
       "        vertical-align: top;\n",
       "    }\n",
       "\n",
       "    .dataframe thead th {\n",
       "        text-align: right;\n",
       "    }\n",
       "</style>\n",
       "<table border=\"1\" class=\"dataframe\">\n",
       "  <thead>\n",
       "    <tr style=\"text-align: right;\">\n",
       "      <th></th>\n",
       "      <th>Train</th>\n",
       "      <th>Test</th>\n",
       "    </tr>\n",
       "  </thead>\n",
       "  <tbody>\n",
       "    <tr>\n",
       "      <th>client_id</th>\n",
       "      <td>0</td>\n",
       "      <td>0.0</td>\n",
       "    </tr>\n",
       "    <tr>\n",
       "      <th>app_date</th>\n",
       "      <td>0</td>\n",
       "      <td>0.0</td>\n",
       "    </tr>\n",
       "    <tr>\n",
       "      <th>education</th>\n",
       "      <td>307</td>\n",
       "      <td>171.0</td>\n",
       "    </tr>\n",
       "    <tr>\n",
       "      <th>sex</th>\n",
       "      <td>0</td>\n",
       "      <td>0.0</td>\n",
       "    </tr>\n",
       "    <tr>\n",
       "      <th>age</th>\n",
       "      <td>0</td>\n",
       "      <td>0.0</td>\n",
       "    </tr>\n",
       "    <tr>\n",
       "      <th>car</th>\n",
       "      <td>0</td>\n",
       "      <td>0.0</td>\n",
       "    </tr>\n",
       "    <tr>\n",
       "      <th>car_type</th>\n",
       "      <td>0</td>\n",
       "      <td>0.0</td>\n",
       "    </tr>\n",
       "    <tr>\n",
       "      <th>decline_app_cnt</th>\n",
       "      <td>0</td>\n",
       "      <td>0.0</td>\n",
       "    </tr>\n",
       "    <tr>\n",
       "      <th>good_work</th>\n",
       "      <td>0</td>\n",
       "      <td>0.0</td>\n",
       "    </tr>\n",
       "    <tr>\n",
       "      <th>score_bki</th>\n",
       "      <td>0</td>\n",
       "      <td>0.0</td>\n",
       "    </tr>\n",
       "    <tr>\n",
       "      <th>bki_request_cnt</th>\n",
       "      <td>0</td>\n",
       "      <td>0.0</td>\n",
       "    </tr>\n",
       "    <tr>\n",
       "      <th>region_rating</th>\n",
       "      <td>0</td>\n",
       "      <td>0.0</td>\n",
       "    </tr>\n",
       "    <tr>\n",
       "      <th>home_address</th>\n",
       "      <td>0</td>\n",
       "      <td>0.0</td>\n",
       "    </tr>\n",
       "    <tr>\n",
       "      <th>work_address</th>\n",
       "      <td>0</td>\n",
       "      <td>0.0</td>\n",
       "    </tr>\n",
       "    <tr>\n",
       "      <th>income</th>\n",
       "      <td>0</td>\n",
       "      <td>0.0</td>\n",
       "    </tr>\n",
       "    <tr>\n",
       "      <th>sna</th>\n",
       "      <td>0</td>\n",
       "      <td>0.0</td>\n",
       "    </tr>\n",
       "    <tr>\n",
       "      <th>first_time</th>\n",
       "      <td>0</td>\n",
       "      <td>0.0</td>\n",
       "    </tr>\n",
       "    <tr>\n",
       "      <th>foreign_passport</th>\n",
       "      <td>0</td>\n",
       "      <td>0.0</td>\n",
       "    </tr>\n",
       "    <tr>\n",
       "      <th>default</th>\n",
       "      <td>0</td>\n",
       "      <td>NaN</td>\n",
       "    </tr>\n",
       "  </tbody>\n",
       "</table>\n",
       "</div>"
      ],
      "text/plain": [
       "                  Train   Test\n",
       "client_id             0    0.0\n",
       "app_date              0    0.0\n",
       "education           307  171.0\n",
       "sex                   0    0.0\n",
       "age                   0    0.0\n",
       "car                   0    0.0\n",
       "car_type              0    0.0\n",
       "decline_app_cnt       0    0.0\n",
       "good_work             0    0.0\n",
       "score_bki             0    0.0\n",
       "bki_request_cnt       0    0.0\n",
       "region_rating         0    0.0\n",
       "home_address          0    0.0\n",
       "work_address          0    0.0\n",
       "income                0    0.0\n",
       "sna                   0    0.0\n",
       "first_time            0    0.0\n",
       "foreign_passport      0    0.0\n",
       "default               0    NaN"
      ]
     },
     "execution_count": 7,
     "metadata": {},
     "output_type": "execute_result"
    }
   ],
   "source": [
    "pd.concat([train.isna().sum(), test.isna().sum()], axis=1).rename(columns={0:'Train', 1:'Test'})"
   ]
  },
  {
   "cell_type": "markdown",
   "metadata": {},
   "source": [
    "Итак, среди признаков, только один признак Education содержит пропуски в количестве 307 записей в обучающей и 171 запись в тестовой части. В разделе конструирование признаков мы проведём иследование этой переменной и определимся со стратегией замены."
   ]
  },
  {
   "cell_type": "markdown",
   "metadata": {},
   "source": [
    "А пока посмотрим сколько у нас невозвратов по кредитам в тренировочном сете."
   ]
  },
  {
   "cell_type": "code",
   "execution_count": 8,
   "metadata": {},
   "outputs": [
    {
     "data": {
      "text/plain": [
       "0    0.873006\n",
       "1    0.126994\n",
       "Name: default, dtype: float64"
      ]
     },
     "execution_count": 8,
     "metadata": {},
     "output_type": "execute_result"
    }
   ],
   "source": [
    "train['default'].value_counts(normalize=True)"
   ]
  },
  {
   "cell_type": "markdown",
   "metadata": {},
   "source": [
    "Почти 13% клиентов в обучающей выборке имеют дефолт."
   ]
  },
  {
   "cell_type": "code",
   "execution_count": 9,
   "metadata": {
    "scrolled": true
   },
   "outputs": [],
   "source": [
    "# pandas_profiling.ProfileReport(train)"
   ]
  },
  {
   "cell_type": "markdown",
   "metadata": {},
   "source": [
    "Посмотрим теперь как у нас какой тип имеют данные в наших датафреймах, сколько значений принимают признаки, и имеются ли преобладающие значения признаков."
   ]
  },
  {
   "cell_type": "code",
   "execution_count": 10,
   "metadata": {},
   "outputs": [
    {
     "data": {
      "text/plain": [
       "' client_id            73799     0.0        int64'"
      ]
     },
     "metadata": {},
     "output_type": "display_data"
    },
    {
     "data": {
      "text/plain": [
       "' app_date             120       0.01       object'"
      ]
     },
     "metadata": {},
     "output_type": "display_data"
    },
    {
     "data": {
      "text/plain": [
       "' education            5         0.53       object'"
      ]
     },
     "metadata": {},
     "output_type": "display_data"
    },
    {
     "data": {
      "text/plain": [
       "' sex                  2         0.56       object'"
      ]
     },
     "metadata": {},
     "output_type": "display_data"
    },
    {
     "data": {
      "text/plain": [
       "' age                  52        0.04       int64'"
      ]
     },
     "metadata": {},
     "output_type": "display_data"
    },
    {
     "data": {
      "text/plain": [
       "' car                  2         0.68       object'"
      ]
     },
     "metadata": {},
     "output_type": "display_data"
    },
    {
     "data": {
      "text/plain": [
       "' car_type             2         0.81       object'"
      ]
     },
     "metadata": {},
     "output_type": "display_data"
    },
    {
     "data": {
      "text/plain": [
       "' decline_app_cnt      21        0.83       int64'"
      ]
     },
     "metadata": {},
     "output_type": "display_data"
    },
    {
     "data": {
      "text/plain": [
       "' good_work            2         0.84       int64'"
      ]
     },
     "metadata": {},
     "output_type": "display_data"
    },
    {
     "data": {
      "text/plain": [
       "' score_bki            69096     0.0        float64'"
      ]
     },
     "metadata": {},
     "output_type": "display_data"
    },
    {
     "data": {
      "text/plain": [
       "' bki_request_cnt      38        0.26       int64'"
      ]
     },
     "metadata": {},
     "output_type": "display_data"
    },
    {
     "data": {
      "text/plain": [
       "' region_rating        7         0.37       int64'"
      ]
     },
     "metadata": {},
     "output_type": "display_data"
    },
    {
     "data": {
      "text/plain": [
       "' home_address         3         0.54       int64'"
      ]
     },
     "metadata": {},
     "output_type": "display_data"
    },
    {
     "data": {
      "text/plain": [
       "' work_address         3         0.61       int64'"
      ]
     },
     "metadata": {},
     "output_type": "display_data"
    },
    {
     "data": {
      "text/plain": [
       "' income               966       0.09       int64'"
      ]
     },
     "metadata": {},
     "output_type": "display_data"
    },
    {
     "data": {
      "text/plain": [
       "' sna                  4         0.64       int64'"
      ]
     },
     "metadata": {},
     "output_type": "display_data"
    },
    {
     "data": {
      "text/plain": [
       "' first_time           4         0.42       int64'"
      ]
     },
     "metadata": {},
     "output_type": "display_data"
    },
    {
     "data": {
      "text/plain": [
       "' foreign_passport     2         0.85       object'"
      ]
     },
     "metadata": {},
     "output_type": "display_data"
    },
    {
     "data": {
      "text/plain": [
       "' default              2         0.87       int64'"
      ]
     },
     "metadata": {},
     "output_type": "display_data"
    },
    {
     "name": "stdout",
     "output_type": "stream",
     "text": [
      "____________________________________________________\n"
     ]
    },
    {
     "data": {
      "text/plain": [
       "' client_id            36349     0.0        int64'"
      ]
     },
     "metadata": {},
     "output_type": "display_data"
    },
    {
     "data": {
      "text/plain": [
       "' app_date             120       0.01       object'"
      ]
     },
     "metadata": {},
     "output_type": "display_data"
    },
    {
     "data": {
      "text/plain": [
       "' education            5         0.53       object'"
      ]
     },
     "metadata": {},
     "output_type": "display_data"
    },
    {
     "data": {
      "text/plain": [
       "' sex                  2         0.56       object'"
      ]
     },
     "metadata": {},
     "output_type": "display_data"
    },
    {
     "data": {
      "text/plain": [
       "' age                  51        0.04       int64'"
      ]
     },
     "metadata": {},
     "output_type": "display_data"
    },
    {
     "data": {
      "text/plain": [
       "' car                  2         0.67       object'"
      ]
     },
     "metadata": {},
     "output_type": "display_data"
    },
    {
     "data": {
      "text/plain": [
       "' car_type             2         0.81       object'"
      ]
     },
     "metadata": {},
     "output_type": "display_data"
    },
    {
     "data": {
      "text/plain": [
       "' decline_app_cnt      19        0.83       int64'"
      ]
     },
     "metadata": {},
     "output_type": "display_data"
    },
    {
     "data": {
      "text/plain": [
       "' good_work            2         0.83       int64'"
      ]
     },
     "metadata": {},
     "output_type": "display_data"
    },
    {
     "data": {
      "text/plain": [
       "' score_bki            34287     0.0        float64'"
      ]
     },
     "metadata": {},
     "output_type": "display_data"
    },
    {
     "data": {
      "text/plain": [
       "' bki_request_cnt      34        0.26       int64'"
      ]
     },
     "metadata": {},
     "output_type": "display_data"
    },
    {
     "data": {
      "text/plain": [
       "' region_rating        7         0.37       int64'"
      ]
     },
     "metadata": {},
     "output_type": "display_data"
    },
    {
     "data": {
      "text/plain": [
       "' home_address         3         0.54       int64'"
      ]
     },
     "metadata": {},
     "output_type": "display_data"
    },
    {
     "data": {
      "text/plain": [
       "' work_address         3         0.61       int64'"
      ]
     },
     "metadata": {},
     "output_type": "display_data"
    },
    {
     "data": {
      "text/plain": [
       "' income               685       0.09       int64'"
      ]
     },
     "metadata": {},
     "output_type": "display_data"
    },
    {
     "data": {
      "text/plain": [
       "' sna                  4         0.64       int64'"
      ]
     },
     "metadata": {},
     "output_type": "display_data"
    },
    {
     "data": {
      "text/plain": [
       "' first_time           4         0.42       int64'"
      ]
     },
     "metadata": {},
     "output_type": "display_data"
    },
    {
     "data": {
      "text/plain": [
       "' foreign_passport     2         0.85       object'"
      ]
     },
     "metadata": {},
     "output_type": "display_data"
    },
    {
     "name": "stdout",
     "output_type": "stream",
     "text": [
      "____________________________________________________\n"
     ]
    }
   ],
   "source": [
    "for dataset in [train, test]:\n",
    "#     display(dataset.head()) \n",
    "    for col in dataset.columns: \n",
    "        display(f' {col :<20} {dataset[col].nunique() :<10}{dataset[col].value_counts(normalize=True).max().round(2) :<10} {dataset[col].dtypes}')\n",
    "#         if dataset[col].value_counts(normalize=True).max()>0.20:\n",
    "            \n",
    "    print('____________________________________________________')"
   ]
  },
  {
   "cell_type": "markdown",
   "metadata": {},
   "source": [
    "Исходя из сходства частот преобладающих значений независимых признаков для обеих сетов, мы можем предположить что сеты образуют весьма однородную совокупность и тенденции наблюдаемые в первом сете, скорее всего будут проявляться и во втором."
   ]
  },
  {
   "cell_type": "markdown",
   "metadata": {},
   "source": [
    "Итак, какие данные имеются в нашем распоряжении?"
   ]
  },
  {
   "cell_type": "markdown",
   "metadata": {},
   "source": [
    "В датасете присутствуют 13 численных (12 int64 и 1 float64)  и 6 категориальных признаков. Численный признак default  является нашей целевой переменной. \n",
    "\n",
    "По своему типу данны подразделяются на:\n",
    "\n",
    "* Номинальные:\n",
    "    * Бинарные:\n",
    "        * sex\n",
    "        * car\n",
    "        * car_type            \n",
    "        * foreign_passport\n",
    "        * default            \n",
    "        * good_work\n",
    "    * Тринарные:            \n",
    "        * home_address\n",
    "        * work_address\n",
    "* Ординальные:\n",
    "    * education\n",
    "    * sna\n",
    "* Относительные:\n",
    "    * client_id\n",
    "    * age\n",
    "    * decline_app_cnt\n",
    "    * bki_request_cnt\n",
    "    * region_rating\n",
    "    * income\n",
    "    \n",
    "    * first_time"
   ]
  },
  {
   "cell_type": "markdown",
   "metadata": {},
   "source": [
    "Посмотрим, имеются ли у нас межпризнаковые корреляции и кореляции признаков с целевой переменной default"
   ]
  },
  {
   "cell_type": "code",
   "execution_count": 11,
   "metadata": {},
   "outputs": [
    {
     "data": {
      "text/plain": [
       "default            1.000000\n",
       "score_bki          0.140014\n",
       "sna                0.117971\n",
       "decline_app_cnt    0.116654\n",
       "home_address       0.087258\n",
       "work_address       0.079038\n",
       "bki_request_cnt    0.067042\n",
       "age               -0.022108\n",
       "client_id         -0.032073\n",
       "good_work         -0.043361\n",
       "income            -0.049028\n",
       "region_rating     -0.077723\n",
       "first_time        -0.097052\n",
       "Name: default, dtype: float64"
      ]
     },
     "execution_count": 11,
     "metadata": {},
     "output_type": "execute_result"
    }
   ],
   "source": [
    "train.corr(method='kendall').default.sort_values(ascending=False)"
   ]
  },
  {
   "cell_type": "markdown",
   "metadata": {},
   "source": [
    "Корреляция независимых признаков с целевой переменной слабая, самую тесную положительную связь демонстрируют\n",
    "score_bki, sna, decline_app_cnt, а самую тесную отрицательную- first_time."
   ]
  },
  {
   "cell_type": "markdown",
   "metadata": {},
   "source": [
    "Проведём раздельную предобработку данных и конструирование  признаков."
   ]
  },
  {
   "cell_type": "markdown",
   "metadata": {},
   "source": [
    "### 1. Работа с бинарными данными"
   ]
  },
  {
   "cell_type": "markdown",
   "metadata": {},
   "source": [
    "Отберём все бинарные данные и изучим их"
   ]
  },
  {
   "cell_type": "code",
   "execution_count": 12,
   "metadata": {},
   "outputs": [],
   "source": [
    "bin_cols=train.columns[train.apply(pd.Series.nunique).values==2] "
   ]
  },
  {
   "cell_type": "code",
   "execution_count": 13,
   "metadata": {},
   "outputs": [],
   "source": [
    "bins=train[bin_cols]"
   ]
  },
  {
   "cell_type": "code",
   "execution_count": 14,
   "metadata": {},
   "outputs": [
    {
     "data": {
      "text/html": [
       "<div>\n",
       "<style scoped>\n",
       "    .dataframe tbody tr th:only-of-type {\n",
       "        vertical-align: middle;\n",
       "    }\n",
       "\n",
       "    .dataframe tbody tr th {\n",
       "        vertical-align: top;\n",
       "    }\n",
       "\n",
       "    .dataframe thead th {\n",
       "        text-align: right;\n",
       "    }\n",
       "</style>\n",
       "<table border=\"1\" class=\"dataframe\">\n",
       "  <thead>\n",
       "    <tr style=\"text-align: right;\">\n",
       "      <th></th>\n",
       "      <th>sex</th>\n",
       "      <th>car</th>\n",
       "      <th>car_type</th>\n",
       "      <th>good_work</th>\n",
       "      <th>foreign_passport</th>\n",
       "      <th>default</th>\n",
       "    </tr>\n",
       "  </thead>\n",
       "  <tbody>\n",
       "    <tr>\n",
       "      <th>0</th>\n",
       "      <td>M</td>\n",
       "      <td>Y</td>\n",
       "      <td>Y</td>\n",
       "      <td>0</td>\n",
       "      <td>N</td>\n",
       "      <td>0</td>\n",
       "    </tr>\n",
       "    <tr>\n",
       "      <th>1</th>\n",
       "      <td>F</td>\n",
       "      <td>N</td>\n",
       "      <td>N</td>\n",
       "      <td>0</td>\n",
       "      <td>N</td>\n",
       "      <td>0</td>\n",
       "    </tr>\n",
       "    <tr>\n",
       "      <th>2</th>\n",
       "      <td>M</td>\n",
       "      <td>Y</td>\n",
       "      <td>N</td>\n",
       "      <td>0</td>\n",
       "      <td>Y</td>\n",
       "      <td>0</td>\n",
       "    </tr>\n",
       "    <tr>\n",
       "      <th>3</th>\n",
       "      <td>F</td>\n",
       "      <td>N</td>\n",
       "      <td>N</td>\n",
       "      <td>0</td>\n",
       "      <td>N</td>\n",
       "      <td>0</td>\n",
       "    </tr>\n",
       "    <tr>\n",
       "      <th>4</th>\n",
       "      <td>M</td>\n",
       "      <td>N</td>\n",
       "      <td>N</td>\n",
       "      <td>1</td>\n",
       "      <td>Y</td>\n",
       "      <td>0</td>\n",
       "    </tr>\n",
       "  </tbody>\n",
       "</table>\n",
       "</div>"
      ],
      "text/plain": [
       "  sex car car_type  good_work foreign_passport  default\n",
       "0   M   Y        Y          0                N        0\n",
       "1   F   N        N          0                N        0\n",
       "2   M   Y        N          0                Y        0\n",
       "3   F   N        N          0                N        0\n",
       "4   M   N        N          1                Y        0"
      ]
     },
     "execution_count": 14,
     "metadata": {},
     "output_type": "execute_result"
    }
   ],
   "source": [
    "bins.head()"
   ]
  },
  {
   "cell_type": "code",
   "execution_count": 15,
   "metadata": {},
   "outputs": [],
   "source": [
    "bins=pd.concat([bins, pd.get_dummies(bins.select_dtypes(exclude='int64'), \n",
    "                                     drop_first=True, dtype='float64' )], \n",
    "               axis=1).select_dtypes(exclude='object')"
   ]
  },
  {
   "cell_type": "markdown",
   "metadata": {},
   "source": [
    "Векторизируем наши переменные и проверим насколько коррелированы будут переменные. При векторизации будем убирать одну из получившихся при разбиении переменных, а также исходные категориальные параметры."
   ]
  },
  {
   "cell_type": "code",
   "execution_count": 16,
   "metadata": {},
   "outputs": [
    {
     "data": {
      "text/html": [
       "<div>\n",
       "<style scoped>\n",
       "    .dataframe tbody tr th:only-of-type {\n",
       "        vertical-align: middle;\n",
       "    }\n",
       "\n",
       "    .dataframe tbody tr th {\n",
       "        vertical-align: top;\n",
       "    }\n",
       "\n",
       "    .dataframe thead th {\n",
       "        text-align: right;\n",
       "    }\n",
       "</style>\n",
       "<table border=\"1\" class=\"dataframe\">\n",
       "  <thead>\n",
       "    <tr style=\"text-align: right;\">\n",
       "      <th></th>\n",
       "      <th>good_work</th>\n",
       "      <th>default</th>\n",
       "      <th>sex_M</th>\n",
       "      <th>car_Y</th>\n",
       "      <th>car_type_Y</th>\n",
       "      <th>foreign_passport_Y</th>\n",
       "    </tr>\n",
       "  </thead>\n",
       "  <tbody>\n",
       "    <tr>\n",
       "      <th>good_work</th>\n",
       "      <td>1.000</td>\n",
       "      <td>-0.043</td>\n",
       "      <td>-0.040</td>\n",
       "      <td>0.002</td>\n",
       "      <td>0.018</td>\n",
       "      <td>0.046</td>\n",
       "    </tr>\n",
       "    <tr>\n",
       "      <th>default</th>\n",
       "      <td>-0.043</td>\n",
       "      <td>1.000</td>\n",
       "      <td>0.020</td>\n",
       "      <td>-0.043</td>\n",
       "      <td>-0.057</td>\n",
       "      <td>-0.067</td>\n",
       "    </tr>\n",
       "    <tr>\n",
       "      <th>sex_M</th>\n",
       "      <td>-0.040</td>\n",
       "      <td>0.020</td>\n",
       "      <td>1.000</td>\n",
       "      <td>0.279</td>\n",
       "      <td>0.226</td>\n",
       "      <td>0.086</td>\n",
       "    </tr>\n",
       "    <tr>\n",
       "      <th>car_Y</th>\n",
       "      <td>0.002</td>\n",
       "      <td>-0.043</td>\n",
       "      <td>0.279</td>\n",
       "      <td>1.000</td>\n",
       "      <td>0.698</td>\n",
       "      <td>0.108</td>\n",
       "    </tr>\n",
       "    <tr>\n",
       "      <th>car_type_Y</th>\n",
       "      <td>0.018</td>\n",
       "      <td>-0.057</td>\n",
       "      <td>0.226</td>\n",
       "      <td>0.698</td>\n",
       "      <td>1.000</td>\n",
       "      <td>0.146</td>\n",
       "    </tr>\n",
       "    <tr>\n",
       "      <th>foreign_passport_Y</th>\n",
       "      <td>0.046</td>\n",
       "      <td>-0.067</td>\n",
       "      <td>0.086</td>\n",
       "      <td>0.108</td>\n",
       "      <td>0.146</td>\n",
       "      <td>1.000</td>\n",
       "    </tr>\n",
       "  </tbody>\n",
       "</table>\n",
       "</div>"
      ],
      "text/plain": [
       "                    good_work  default  sex_M  car_Y  car_type_Y  \\\n",
       "good_work               1.000   -0.043 -0.040  0.002       0.018   \n",
       "default                -0.043    1.000  0.020 -0.043      -0.057   \n",
       "sex_M                  -0.040    0.020  1.000  0.279       0.226   \n",
       "car_Y                   0.002   -0.043  0.279  1.000       0.698   \n",
       "car_type_Y              0.018   -0.057  0.226  0.698       1.000   \n",
       "foreign_passport_Y      0.046   -0.067  0.086  0.108       0.146   \n",
       "\n",
       "                    foreign_passport_Y  \n",
       "good_work                        0.046  \n",
       "default                         -0.067  \n",
       "sex_M                            0.086  \n",
       "car_Y                            0.108  \n",
       "car_type_Y                       0.146  \n",
       "foreign_passport_Y               1.000  "
      ]
     },
     "execution_count": 16,
     "metadata": {},
     "output_type": "execute_result"
    }
   ],
   "source": [
    "bins.corr(method='kendall').round(3)"
   ]
  },
  {
   "cell_type": "markdown",
   "metadata": {},
   "source": [
    "Обратим внимание на коэффициенты корреляции независимых признаков между собой. и целевой переменной"
   ]
  },
  {
   "cell_type": "code",
   "execution_count": 17,
   "metadata": {},
   "outputs": [],
   "source": [
    "bin_cols=bins.columns # количество ппризнаков у нас увеличилось соответственно обновляем их список"
   ]
  },
  {
   "cell_type": "code",
   "execution_count": 18,
   "metadata": {},
   "outputs": [
    {
     "data": {
      "text/plain": [
       "good_work               int64\n",
       "default                 int64\n",
       "sex_M                 float64\n",
       "car_Y                 float64\n",
       "car_type_Y            float64\n",
       "foreign_passport_Y    float64\n",
       "dtype: object"
      ]
     },
     "execution_count": 18,
     "metadata": {},
     "output_type": "execute_result"
    }
   ],
   "source": [
    "bins.dtypes"
   ]
  },
  {
   "cell_type": "markdown",
   "metadata": {},
   "source": [
    "Из данных корреляции видно что корреляции бинарных признаков с целевой переменной по модулю не превышают значений 0,067. Попробуем сконструировать критерий с более высокой степенью корреляции. Для этого:\n",
    "1) построим кросстабуляции бинарных признаков протв целевой переменной. \n",
    "\n",
    "2) оценим отношения дефолт/недефолт для каждого из бинарных значений. После этого считаем их отношения и вычитаем из результата единицу, полученный коэффициент далее будем называть коэффициентом преобладания. Более высокие значения коэффициента соответствуют более высоким значениям корреляции.\n",
    "\n",
    "3) Осуществим отбор переменных имеющих максимальные значения нашего коэффициента (от большего к меньшему) и их аггрегирование в единый параметр с попутной проверки корреляции с целевой переменной."
   ]
  },
  {
   "cell_type": "code",
   "execution_count": null,
   "metadata": {},
   "outputs": [],
   "source": []
  },
  {
   "cell_type": "code",
   "execution_count": 19,
   "metadata": {},
   "outputs": [
    {
     "data": {
      "text/plain": [
       "-0.0667181142401042"
      ]
     },
     "execution_count": 19,
     "metadata": {},
     "output_type": "execute_result"
    }
   ],
   "source": [
    "bins['fp']=np.where((bins['foreign_passport_Y']==0), 0.0, 1.0)\n",
    "bins['fp'].corr(bins['default'], method='kendall')"
   ]
  },
  {
   "cell_type": "code",
   "execution_count": 20,
   "metadata": {},
   "outputs": [
    {
     "data": {
      "text/plain": [
       "-0.07743386426794659"
      ]
     },
     "execution_count": 20,
     "metadata": {},
     "output_type": "execute_result"
    }
   ],
   "source": [
    "bins['fp_ct']=np.where((bins['foreign_passport_Y']==0)\n",
    "                       & (bins['car_type_Y']==0), 0.0, 1.0) \n",
    "bins['fp_ct'].corr(bins['default'], method='kendall')"
   ]
  },
  {
   "cell_type": "code",
   "execution_count": 21,
   "metadata": {},
   "outputs": [
    {
     "data": {
      "text/plain": [
       "-0.08346744841847348"
      ]
     },
     "execution_count": 21,
     "metadata": {},
     "output_type": "execute_result"
    }
   ],
   "source": [
    "bins['fp_ct_gw']=np.where((bins['foreign_passport_Y']==0)\n",
    "                          & (bins['car_type_Y']==0) \n",
    "                          & (bins['good_work']==0), 0.0, 1.0) \n",
    "bins['fp_ct_gw'].corr(bins['default'], method='kendall')"
   ]
  },
  {
   "cell_type": "markdown",
   "metadata": {},
   "source": [
    "Итак, из трёх бинарных категориальных признаков мы создали один признак комбинации сочетания следующих свойств: Отсутствие паспорта, машины и оценки в качестве хорошего работника, который демонстрирует слабое отрицательное влиение на риск дефолта."
   ]
  },
  {
   "cell_type": "markdown",
   "metadata": {},
   "source": [
    "Этому признаку мы и доверим представлять бинарные данные  в нашей модели."
   ]
  },
  {
   "cell_type": "code",
   "execution_count": 22,
   "metadata": {},
   "outputs": [],
   "source": [
    "# bins=bins[['fp_ct_gw', 'foreign_passport_Y', 'car_type_Y']]     "
   ]
  },
  {
   "cell_type": "markdown",
   "metadata": {},
   "source": [
    "### Тринарные признаки"
   ]
  },
  {
   "cell_type": "code",
   "execution_count": 23,
   "metadata": {},
   "outputs": [],
   "source": [
    "trin_cols=train.columns[train.apply(pd.Series.nunique).values==3]\n",
    "trins=train[trin_cols]\n",
    "#для векторизации меняем тип данных с int64 на float64\n"
   ]
  },
  {
   "cell_type": "markdown",
   "metadata": {},
   "source": [
    "Двигаемся дальше. Вспоминаем наши тринарные категориальные переменные и также подвергнем их  преобразованию. Мы попробуем рассмотретиь их в качестве порядковой шкалы (предполагая наличие какой-то связи номера и верояности дефолта, к примеру номер зоны характеризующей расстояние от центра города и  т. п.), а также подвергнуть векторизации чтобы понять насколько тесно они сами по себе (абстрагируясь от присвоенного кода) коррелируют с регрессиией.\n",
    "\n",
    "Преобразуем наши переменные. для начала соберём все бинарные данные  \n",
    "Здесь мы попытаемся понять, несёт ли какую-то смысловую нагрузку кодификация адресов работы и проживания. Поэтому мы не будем удалять исходные столбцы до сопоставления.\n",
    "\n",
    "По результатам сопоставления мы выберем тринарные признаки которые будем использовать в нашей модели."
   ]
  },
  {
   "cell_type": "code",
   "execution_count": 24,
   "metadata": {},
   "outputs": [
    {
     "data": {
      "text/html": [
       "<div>\n",
       "<style scoped>\n",
       "    .dataframe tbody tr th:only-of-type {\n",
       "        vertical-align: middle;\n",
       "    }\n",
       "\n",
       "    .dataframe tbody tr th {\n",
       "        vertical-align: top;\n",
       "    }\n",
       "\n",
       "    .dataframe thead th {\n",
       "        text-align: right;\n",
       "    }\n",
       "</style>\n",
       "<table border=\"1\" class=\"dataframe\">\n",
       "  <thead>\n",
       "    <tr style=\"text-align: right;\">\n",
       "      <th></th>\n",
       "      <th>home_address</th>\n",
       "      <th>work_address</th>\n",
       "      <th>home_address_1</th>\n",
       "      <th>home_address_2</th>\n",
       "      <th>home_address_3</th>\n",
       "      <th>work_address_1</th>\n",
       "      <th>work_address_2</th>\n",
       "      <th>work_address_3</th>\n",
       "    </tr>\n",
       "  </thead>\n",
       "  <tbody>\n",
       "    <tr>\n",
       "      <th>0</th>\n",
       "      <td>1</td>\n",
       "      <td>2</td>\n",
       "      <td>1.0</td>\n",
       "      <td>0.0</td>\n",
       "      <td>0.0</td>\n",
       "      <td>0.0</td>\n",
       "      <td>1.0</td>\n",
       "      <td>0.0</td>\n",
       "    </tr>\n",
       "    <tr>\n",
       "      <th>1</th>\n",
       "      <td>2</td>\n",
       "      <td>3</td>\n",
       "      <td>0.0</td>\n",
       "      <td>1.0</td>\n",
       "      <td>0.0</td>\n",
       "      <td>0.0</td>\n",
       "      <td>0.0</td>\n",
       "      <td>1.0</td>\n",
       "    </tr>\n",
       "    <tr>\n",
       "      <th>2</th>\n",
       "      <td>1</td>\n",
       "      <td>2</td>\n",
       "      <td>1.0</td>\n",
       "      <td>0.0</td>\n",
       "      <td>0.0</td>\n",
       "      <td>0.0</td>\n",
       "      <td>1.0</td>\n",
       "      <td>0.0</td>\n",
       "    </tr>\n",
       "    <tr>\n",
       "      <th>3</th>\n",
       "      <td>2</td>\n",
       "      <td>3</td>\n",
       "      <td>0.0</td>\n",
       "      <td>1.0</td>\n",
       "      <td>0.0</td>\n",
       "      <td>0.0</td>\n",
       "      <td>0.0</td>\n",
       "      <td>1.0</td>\n",
       "    </tr>\n",
       "    <tr>\n",
       "      <th>4</th>\n",
       "      <td>2</td>\n",
       "      <td>3</td>\n",
       "      <td>0.0</td>\n",
       "      <td>1.0</td>\n",
       "      <td>0.0</td>\n",
       "      <td>0.0</td>\n",
       "      <td>0.0</td>\n",
       "      <td>1.0</td>\n",
       "    </tr>\n",
       "  </tbody>\n",
       "</table>\n",
       "</div>"
      ],
      "text/plain": [
       "   home_address  work_address  home_address_1  home_address_2  home_address_3  \\\n",
       "0             1             2             1.0             0.0             0.0   \n",
       "1             2             3             0.0             1.0             0.0   \n",
       "2             1             2             1.0             0.0             0.0   \n",
       "3             2             3             0.0             1.0             0.0   \n",
       "4             2             3             0.0             1.0             0.0   \n",
       "\n",
       "   work_address_1  work_address_2  work_address_3  \n",
       "0             0.0             1.0             0.0  \n",
       "1             0.0             0.0             1.0  \n",
       "2             0.0             1.0             0.0  \n",
       "3             0.0             0.0             1.0  \n",
       "4             0.0             0.0             1.0  "
      ]
     },
     "execution_count": 24,
     "metadata": {},
     "output_type": "execute_result"
    }
   ],
   "source": [
    "trins=pd.concat([trins, pd.get_dummies(trins.astype('object'), dtype='float64')], axis=1)\n",
    "trins.head()"
   ]
  },
  {
   "cell_type": "code",
   "execution_count": 25,
   "metadata": {},
   "outputs": [
    {
     "data": {
      "text/plain": [
       "home_address      0.087961\n",
       "home_address_1   -0.091058\n",
       "home_address_2    0.091869\n",
       "home_address_3   -0.004325\n",
       "work_address      0.082000\n",
       "work_address_1   -0.056622\n",
       "work_address_2   -0.045619\n",
       "work_address_3    0.078609\n",
       "dtype: float64"
      ]
     },
     "execution_count": 25,
     "metadata": {},
     "output_type": "execute_result"
    }
   ],
   "source": [
    "trins.corrwith(train.default, method='spearman').sort_index()"
   ]
  },
  {
   "cell_type": "markdown",
   "metadata": {},
   "source": [
    "Мы видим что:\n",
    "    \n",
    "1) для домашних адресов 1 и 2 мы имеем слабые корреляции с целевой переменной (отрицательную и положительную) причём их связь с ней тесне чем у исходного категориального признака при его восприятии в качестве порядковой шкалы. Следовательно для этих адресов важнее скрытые признаки не отражённые упорядочиванием.\n",
    "\n",
    "2) рабочие адреса ведут себя по другому, у них порядковая переменная связана с целевой переменной теснее, хотя рабочий адрес 3 практически дотягивает до значения корреляции для исходного порядкового признака. При этом отсутствуют векторизированны признаки близкие к нулю (как home_3). Возможно присутствует какая-то географическая либо иная закономерность позволяющяя качественно их сравнивать."
   ]
  },
  {
   "cell_type": "markdown",
   "metadata": {},
   "source": [
    "Посмотрим как распределены наши значения для исходных тринарных признаков"
   ]
  },
  {
   "cell_type": "code",
   "execution_count": 26,
   "metadata": {},
   "outputs": [
    {
     "data": {
      "text/html": [
       "<div>\n",
       "<style scoped>\n",
       "    .dataframe tbody tr th:only-of-type {\n",
       "        vertical-align: middle;\n",
       "    }\n",
       "\n",
       "    .dataframe tbody tr th {\n",
       "        vertical-align: top;\n",
       "    }\n",
       "\n",
       "    .dataframe thead th {\n",
       "        text-align: right;\n",
       "    }\n",
       "</style>\n",
       "<table border=\"1\" class=\"dataframe\">\n",
       "  <thead>\n",
       "    <tr style=\"text-align: right;\">\n",
       "      <th></th>\n",
       "      <th>1</th>\n",
       "      <th>2</th>\n",
       "      <th>3</th>\n",
       "    </tr>\n",
       "  </thead>\n",
       "  <tbody>\n",
       "    <tr>\n",
       "      <th>home_address</th>\n",
       "      <td>44.0</td>\n",
       "      <td>54.0</td>\n",
       "      <td>2.0</td>\n",
       "    </tr>\n",
       "    <tr>\n",
       "      <th>work_address</th>\n",
       "      <td>11.0</td>\n",
       "      <td>28.0</td>\n",
       "      <td>61.0</td>\n",
       "    </tr>\n",
       "  </tbody>\n",
       "</table>\n",
       "</div>"
      ],
      "text/plain": [
       "                 1     2     3\n",
       "home_address  44.0  54.0   2.0\n",
       "work_address  11.0  28.0  61.0"
      ]
     },
     "execution_count": 26,
     "metadata": {},
     "output_type": "execute_result"
    }
   ],
   "source": [
    "a=trins[['home_address', 'work_address']].apply(pd.value_counts, normalize=True).round(2).T*100\n",
    "a"
   ]
  },
  {
   "cell_type": "markdown",
   "metadata": {},
   "source": [
    "Рассмотрим комбинацию \"рабочий адрес2- домашний адрес 3\", которая преобладала в наших подсетах для дефолтников и недефолтников."
   ]
  },
  {
   "cell_type": "code",
   "execution_count": 27,
   "metadata": {},
   "outputs": [],
   "source": [
    "trin_cols=trins.columns"
   ]
  },
  {
   "cell_type": "code",
   "execution_count": 28,
   "metadata": {},
   "outputs": [
    {
     "name": "stdout",
     "output_type": "stream",
     "text": [
      "adresses_h2w3    0.094\n",
      "dtype: float64\n"
     ]
    },
    {
     "data": {
      "text/plain": [
       "adresses_h2w3     1.000000\n",
       "home_address      0.879803\n",
       "home_address_1   -0.932101\n",
       "home_address_2    0.964762\n",
       "home_address_3   -0.138046\n",
       "work_address      0.789189\n",
       "work_address_1   -0.374023\n",
       "work_address_2   -0.650253\n",
       "work_address_3    0.839588\n",
       "dtype: float64"
      ]
     },
     "execution_count": 28,
     "metadata": {},
     "output_type": "execute_result"
    }
   ],
   "source": [
    "trins['adresses_h2w3']=np.where((trins['home_address']==2) & (trins['work_address']==3), 1.0, 0.0) \n",
    "print(trins[['adresses_h2w3']].corrwith(train['default'], method='kendall').round(3))\n",
    "trins.corrwith(trins.adresses_h2w3, method='kendall').sort_index()"
   ]
  },
  {
   "cell_type": "markdown",
   "metadata": {},
   "source": [
    "Мы получили признак который связан с целевой переменной теснее чем любой из порядковых и вектороизированных признаков выражающих адреса. "
   ]
  },
  {
   "cell_type": "markdown",
   "metadata": {},
   "source": [
    "### квартенарные переменные"
   ]
  },
  {
   "cell_type": "markdown",
   "metadata": {},
   "source": [
    "С квартенарным признаками мы поступим аналогично тринарным."
   ]
  },
  {
   "cell_type": "code",
   "execution_count": 29,
   "metadata": {},
   "outputs": [],
   "source": [
    "quart_cols=train.columns[train.apply(pd.Series.nunique).values==4]\n",
    "quartins=train[quart_cols]"
   ]
  },
  {
   "cell_type": "markdown",
   "metadata": {},
   "source": [
    "Проведём оценку их коррелированности с целевой переменной, кросс-табуляцю и векторизацию"
   ]
  },
  {
   "cell_type": "code",
   "execution_count": 30,
   "metadata": {},
   "outputs": [
    {
     "data": {
      "text/html": [
       "<div>\n",
       "<style scoped>\n",
       "    .dataframe tbody tr th:only-of-type {\n",
       "        vertical-align: middle;\n",
       "    }\n",
       "\n",
       "    .dataframe tbody tr th {\n",
       "        vertical-align: top;\n",
       "    }\n",
       "\n",
       "    .dataframe thead th {\n",
       "        text-align: right;\n",
       "    }\n",
       "</style>\n",
       "<table border=\"1\" class=\"dataframe\">\n",
       "  <thead>\n",
       "    <tr style=\"text-align: right;\">\n",
       "      <th></th>\n",
       "      <th>1</th>\n",
       "      <th>2</th>\n",
       "      <th>3</th>\n",
       "      <th>4</th>\n",
       "    </tr>\n",
       "  </thead>\n",
       "  <tbody>\n",
       "    <tr>\n",
       "      <th>sna</th>\n",
       "      <td>64.0</td>\n",
       "      <td>14.0</td>\n",
       "      <td>6.0</td>\n",
       "      <td>16.0</td>\n",
       "    </tr>\n",
       "    <tr>\n",
       "      <th>first_time</th>\n",
       "      <td>17.0</td>\n",
       "      <td>16.0</td>\n",
       "      <td>42.0</td>\n",
       "      <td>25.0</td>\n",
       "    </tr>\n",
       "  </tbody>\n",
       "</table>\n",
       "</div>"
      ],
      "text/plain": [
       "               1     2     3     4\n",
       "sna         64.0  14.0   6.0  16.0\n",
       "first_time  17.0  16.0  42.0  25.0"
      ]
     },
     "execution_count": 30,
     "metadata": {},
     "output_type": "execute_result"
    }
   ],
   "source": [
    "quartins.apply(pd.value_counts, normalize='index').round(2).T*100 "
   ]
  },
  {
   "cell_type": "code",
   "execution_count": 31,
   "metadata": {},
   "outputs": [
    {
     "data": {
      "text/plain": [
       "first_time   -0.097052\n",
       "sna           0.117971\n",
       "dtype: float64"
      ]
     },
     "execution_count": 31,
     "metadata": {},
     "output_type": "execute_result"
    }
   ],
   "source": [
    "quartins.corrwith(train.default, method='kendall').sort_index()"
   ]
  },
  {
   "cell_type": "code",
   "execution_count": 32,
   "metadata": {},
   "outputs": [
    {
     "data": {
      "text/html": [
       "<div>\n",
       "<style scoped>\n",
       "    .dataframe tbody tr th:only-of-type {\n",
       "        vertical-align: middle;\n",
       "    }\n",
       "\n",
       "    .dataframe tbody tr th {\n",
       "        vertical-align: top;\n",
       "    }\n",
       "\n",
       "    .dataframe thead th {\n",
       "        text-align: right;\n",
       "    }\n",
       "</style>\n",
       "<table border=\"1\" class=\"dataframe\">\n",
       "  <thead>\n",
       "    <tr style=\"text-align: right;\">\n",
       "      <th></th>\n",
       "      <th>sna</th>\n",
       "      <th>first_time</th>\n",
       "      <th>sna_1</th>\n",
       "      <th>sna_2</th>\n",
       "      <th>sna_3</th>\n",
       "      <th>sna_4</th>\n",
       "      <th>first_time_1</th>\n",
       "      <th>first_time_2</th>\n",
       "      <th>first_time_3</th>\n",
       "      <th>first_time_4</th>\n",
       "    </tr>\n",
       "  </thead>\n",
       "  <tbody>\n",
       "    <tr>\n",
       "      <th>0</th>\n",
       "      <td>4</td>\n",
       "      <td>1</td>\n",
       "      <td>0.0</td>\n",
       "      <td>0.0</td>\n",
       "      <td>0.0</td>\n",
       "      <td>1.0</td>\n",
       "      <td>1.0</td>\n",
       "      <td>0.0</td>\n",
       "      <td>0.0</td>\n",
       "      <td>0.0</td>\n",
       "    </tr>\n",
       "    <tr>\n",
       "      <th>1</th>\n",
       "      <td>4</td>\n",
       "      <td>1</td>\n",
       "      <td>0.0</td>\n",
       "      <td>0.0</td>\n",
       "      <td>0.0</td>\n",
       "      <td>1.0</td>\n",
       "      <td>1.0</td>\n",
       "      <td>0.0</td>\n",
       "      <td>0.0</td>\n",
       "      <td>0.0</td>\n",
       "    </tr>\n",
       "    <tr>\n",
       "      <th>2</th>\n",
       "      <td>1</td>\n",
       "      <td>4</td>\n",
       "      <td>1.0</td>\n",
       "      <td>0.0</td>\n",
       "      <td>0.0</td>\n",
       "      <td>0.0</td>\n",
       "      <td>0.0</td>\n",
       "      <td>0.0</td>\n",
       "      <td>0.0</td>\n",
       "      <td>1.0</td>\n",
       "    </tr>\n",
       "    <tr>\n",
       "      <th>3</th>\n",
       "      <td>1</td>\n",
       "      <td>3</td>\n",
       "      <td>1.0</td>\n",
       "      <td>0.0</td>\n",
       "      <td>0.0</td>\n",
       "      <td>0.0</td>\n",
       "      <td>0.0</td>\n",
       "      <td>0.0</td>\n",
       "      <td>1.0</td>\n",
       "      <td>0.0</td>\n",
       "    </tr>\n",
       "    <tr>\n",
       "      <th>4</th>\n",
       "      <td>1</td>\n",
       "      <td>4</td>\n",
       "      <td>1.0</td>\n",
       "      <td>0.0</td>\n",
       "      <td>0.0</td>\n",
       "      <td>0.0</td>\n",
       "      <td>0.0</td>\n",
       "      <td>0.0</td>\n",
       "      <td>0.0</td>\n",
       "      <td>1.0</td>\n",
       "    </tr>\n",
       "  </tbody>\n",
       "</table>\n",
       "</div>"
      ],
      "text/plain": [
       "   sna  first_time  sna_1  sna_2  sna_3  sna_4  first_time_1  first_time_2  \\\n",
       "0    4           1    0.0    0.0    0.0    1.0           1.0           0.0   \n",
       "1    4           1    0.0    0.0    0.0    1.0           1.0           0.0   \n",
       "2    1           4    1.0    0.0    0.0    0.0           0.0           0.0   \n",
       "3    1           3    1.0    0.0    0.0    0.0           0.0           0.0   \n",
       "4    1           4    1.0    0.0    0.0    0.0           0.0           0.0   \n",
       "\n",
       "   first_time_3  first_time_4  \n",
       "0           0.0           0.0  \n",
       "1           0.0           0.0  \n",
       "2           0.0           1.0  \n",
       "3           1.0           0.0  \n",
       "4           0.0           1.0  "
      ]
     },
     "execution_count": 32,
     "metadata": {},
     "output_type": "execute_result"
    }
   ],
   "source": [
    "quartins=pd.concat([quartins, pd.get_dummies(quartins.astype('object'), dtype='float64')], axis=1)\n",
    "quartins.head()"
   ]
  },
  {
   "cell_type": "code",
   "execution_count": 33,
   "metadata": {},
   "outputs": [
    {
     "data": {
      "text/plain": [
       "first_time     -0.097052\n",
       "first_time_1    0.079187\n",
       "first_time_2    0.036820\n",
       "first_time_3   -0.017311\n",
       "first_time_4   -0.078774\n",
       "sna             0.117971\n",
       "sna_1          -0.115534\n",
       "sna_2           0.028118\n",
       "sna_3           0.022398\n",
       "sna_4           0.110448\n",
       "dtype: float64"
      ]
     },
     "execution_count": 33,
     "metadata": {},
     "output_type": "execute_result"
    }
   ],
   "source": [
    "quartins.corrwith(train.default, method='kendall').sort_index()"
   ]
  },
  {
   "cell_type": "markdown",
   "metadata": {},
   "source": [
    "Векторизация результатов не дала, векторизированные компоненты связаны с целевой фунцией слабее, хотя sna_1 практически дотягивается до значения корреляции исходного признака.\n",
    "\n",
    "Посмотри как все получившиеся признаки между собой коррелируют"
   ]
  },
  {
   "cell_type": "code",
   "execution_count": 34,
   "metadata": {},
   "outputs": [
    {
     "data": {
      "text/html": [
       "<div>\n",
       "<style scoped>\n",
       "    .dataframe tbody tr th:only-of-type {\n",
       "        vertical-align: middle;\n",
       "    }\n",
       "\n",
       "    .dataframe tbody tr th {\n",
       "        vertical-align: top;\n",
       "    }\n",
       "\n",
       "    .dataframe thead th {\n",
       "        text-align: right;\n",
       "    }\n",
       "</style>\n",
       "<table border=\"1\" class=\"dataframe\">\n",
       "  <thead>\n",
       "    <tr style=\"text-align: right;\">\n",
       "      <th></th>\n",
       "      <th>sna</th>\n",
       "      <th>first_time</th>\n",
       "      <th>sna_1</th>\n",
       "      <th>sna_2</th>\n",
       "      <th>sna_3</th>\n",
       "      <th>sna_4</th>\n",
       "      <th>first_time_1</th>\n",
       "      <th>first_time_2</th>\n",
       "      <th>first_time_3</th>\n",
       "      <th>first_time_4</th>\n",
       "    </tr>\n",
       "  </thead>\n",
       "  <tbody>\n",
       "    <tr>\n",
       "      <th>sna</th>\n",
       "      <td>1.00</td>\n",
       "      <td>-0.53</td>\n",
       "      <td>-0.87</td>\n",
       "      <td>0.10</td>\n",
       "      <td>0.27</td>\n",
       "      <td>0.88</td>\n",
       "      <td>0.52</td>\n",
       "      <td>0.05</td>\n",
       "      <td>-0.17</td>\n",
       "      <td>-0.29</td>\n",
       "    </tr>\n",
       "    <tr>\n",
       "      <th>first_time</th>\n",
       "      <td>-0.53</td>\n",
       "      <td>1.00</td>\n",
       "      <td>0.49</td>\n",
       "      <td>-0.12</td>\n",
       "      <td>-0.13</td>\n",
       "      <td>-0.45</td>\n",
       "      <td>-0.78</td>\n",
       "      <td>-0.33</td>\n",
       "      <td>0.20</td>\n",
       "      <td>0.71</td>\n",
       "    </tr>\n",
       "    <tr>\n",
       "      <th>sna_1</th>\n",
       "      <td>-0.87</td>\n",
       "      <td>0.49</td>\n",
       "      <td>1.00</td>\n",
       "      <td>-0.55</td>\n",
       "      <td>-0.33</td>\n",
       "      <td>-0.58</td>\n",
       "      <td>-0.42</td>\n",
       "      <td>-0.12</td>\n",
       "      <td>0.13</td>\n",
       "      <td>0.31</td>\n",
       "    </tr>\n",
       "    <tr>\n",
       "      <th>sna_2</th>\n",
       "      <td>0.10</td>\n",
       "      <td>-0.12</td>\n",
       "      <td>-0.55</td>\n",
       "      <td>1.00</td>\n",
       "      <td>-0.10</td>\n",
       "      <td>-0.18</td>\n",
       "      <td>0.00</td>\n",
       "      <td>0.14</td>\n",
       "      <td>0.02</td>\n",
       "      <td>-0.14</td>\n",
       "    </tr>\n",
       "    <tr>\n",
       "      <th>sna_3</th>\n",
       "      <td>0.27</td>\n",
       "      <td>-0.13</td>\n",
       "      <td>-0.33</td>\n",
       "      <td>-0.10</td>\n",
       "      <td>1.00</td>\n",
       "      <td>-0.11</td>\n",
       "      <td>0.06</td>\n",
       "      <td>0.11</td>\n",
       "      <td>-0.03</td>\n",
       "      <td>-0.11</td>\n",
       "    </tr>\n",
       "    <tr>\n",
       "      <th>sna_4</th>\n",
       "      <td>0.88</td>\n",
       "      <td>-0.45</td>\n",
       "      <td>-0.58</td>\n",
       "      <td>-0.18</td>\n",
       "      <td>-0.11</td>\n",
       "      <td>1.00</td>\n",
       "      <td>0.50</td>\n",
       "      <td>-0.04</td>\n",
       "      <td>-0.17</td>\n",
       "      <td>-0.20</td>\n",
       "    </tr>\n",
       "    <tr>\n",
       "      <th>first_time_1</th>\n",
       "      <td>0.52</td>\n",
       "      <td>-0.78</td>\n",
       "      <td>-0.42</td>\n",
       "      <td>0.00</td>\n",
       "      <td>0.06</td>\n",
       "      <td>0.50</td>\n",
       "      <td>1.00</td>\n",
       "      <td>-0.19</td>\n",
       "      <td>-0.38</td>\n",
       "      <td>-0.26</td>\n",
       "    </tr>\n",
       "    <tr>\n",
       "      <th>first_time_2</th>\n",
       "      <td>0.05</td>\n",
       "      <td>-0.33</td>\n",
       "      <td>-0.12</td>\n",
       "      <td>0.14</td>\n",
       "      <td>0.11</td>\n",
       "      <td>-0.04</td>\n",
       "      <td>-0.19</td>\n",
       "      <td>1.00</td>\n",
       "      <td>-0.37</td>\n",
       "      <td>-0.25</td>\n",
       "    </tr>\n",
       "    <tr>\n",
       "      <th>first_time_3</th>\n",
       "      <td>-0.17</td>\n",
       "      <td>0.20</td>\n",
       "      <td>0.13</td>\n",
       "      <td>0.02</td>\n",
       "      <td>-0.03</td>\n",
       "      <td>-0.17</td>\n",
       "      <td>-0.38</td>\n",
       "      <td>-0.37</td>\n",
       "      <td>1.00</td>\n",
       "      <td>-0.50</td>\n",
       "    </tr>\n",
       "    <tr>\n",
       "      <th>first_time_4</th>\n",
       "      <td>-0.29</td>\n",
       "      <td>0.71</td>\n",
       "      <td>0.31</td>\n",
       "      <td>-0.14</td>\n",
       "      <td>-0.11</td>\n",
       "      <td>-0.20</td>\n",
       "      <td>-0.26</td>\n",
       "      <td>-0.25</td>\n",
       "      <td>-0.50</td>\n",
       "      <td>1.00</td>\n",
       "    </tr>\n",
       "  </tbody>\n",
       "</table>\n",
       "</div>"
      ],
      "text/plain": [
       "               sna  first_time  sna_1  sna_2  sna_3  sna_4  first_time_1  \\\n",
       "sna           1.00       -0.53  -0.87   0.10   0.27   0.88          0.52   \n",
       "first_time   -0.53        1.00   0.49  -0.12  -0.13  -0.45         -0.78   \n",
       "sna_1        -0.87        0.49   1.00  -0.55  -0.33  -0.58         -0.42   \n",
       "sna_2         0.10       -0.12  -0.55   1.00  -0.10  -0.18          0.00   \n",
       "sna_3         0.27       -0.13  -0.33  -0.10   1.00  -0.11          0.06   \n",
       "sna_4         0.88       -0.45  -0.58  -0.18  -0.11   1.00          0.50   \n",
       "first_time_1  0.52       -0.78  -0.42   0.00   0.06   0.50          1.00   \n",
       "first_time_2  0.05       -0.33  -0.12   0.14   0.11  -0.04         -0.19   \n",
       "first_time_3 -0.17        0.20   0.13   0.02  -0.03  -0.17         -0.38   \n",
       "first_time_4 -0.29        0.71   0.31  -0.14  -0.11  -0.20         -0.26   \n",
       "\n",
       "              first_time_2  first_time_3  first_time_4  \n",
       "sna                   0.05         -0.17         -0.29  \n",
       "first_time           -0.33          0.20          0.71  \n",
       "sna_1                -0.12          0.13          0.31  \n",
       "sna_2                 0.14          0.02         -0.14  \n",
       "sna_3                 0.11         -0.03         -0.11  \n",
       "sna_4                -0.04         -0.17         -0.20  \n",
       "first_time_1         -0.19         -0.38         -0.26  \n",
       "first_time_2          1.00         -0.37         -0.25  \n",
       "first_time_3         -0.37          1.00         -0.50  \n",
       "first_time_4         -0.25         -0.50          1.00  "
      ]
     },
     "execution_count": 34,
     "metadata": {},
     "output_type": "execute_result"
    }
   ],
   "source": [
    "quartins.corr().round(2)"
   ]
  },
  {
   "cell_type": "markdown",
   "metadata": {},
   "source": [
    "Мы  видим, что параметры sna и first_time имеют высокий уровень отрицательной корреляции. Попробуем агрегировать их и провести бинаризацию. Проводим кросстабуляцию и смотрим на преобладающие сочетания значений признаков. К таколвым у нас относится комбинация sna=1 и first_time=3 или 4."
   ]
  },
  {
   "cell_type": "code",
   "execution_count": 35,
   "metadata": {},
   "outputs": [
    {
     "data": {
      "text/html": [
       "<div>\n",
       "<style scoped>\n",
       "    .dataframe tbody tr th:only-of-type {\n",
       "        vertical-align: middle;\n",
       "    }\n",
       "\n",
       "    .dataframe tbody tr th {\n",
       "        vertical-align: top;\n",
       "    }\n",
       "\n",
       "    .dataframe thead th {\n",
       "        text-align: right;\n",
       "    }\n",
       "</style>\n",
       "<table border=\"1\" class=\"dataframe\">\n",
       "  <thead>\n",
       "    <tr style=\"text-align: right;\">\n",
       "      <th>first_time</th>\n",
       "      <th>1</th>\n",
       "      <th>2</th>\n",
       "      <th>3</th>\n",
       "      <th>4</th>\n",
       "    </tr>\n",
       "    <tr>\n",
       "      <th>sna</th>\n",
       "      <th></th>\n",
       "      <th></th>\n",
       "      <th></th>\n",
       "      <th></th>\n",
       "    </tr>\n",
       "  </thead>\n",
       "  <tbody>\n",
       "    <tr>\n",
       "      <th>1</th>\n",
       "      <td>3.2</td>\n",
       "      <td>7.9</td>\n",
       "      <td>30.2</td>\n",
       "      <td>22.8</td>\n",
       "    </tr>\n",
       "    <tr>\n",
       "      <th>2</th>\n",
       "      <td>2.4</td>\n",
       "      <td>4.0</td>\n",
       "      <td>6.5</td>\n",
       "      <td>1.4</td>\n",
       "    </tr>\n",
       "    <tr>\n",
       "      <th>3</th>\n",
       "      <td>1.5</td>\n",
       "      <td>1.8</td>\n",
       "      <td>2.0</td>\n",
       "      <td>0.3</td>\n",
       "    </tr>\n",
       "    <tr>\n",
       "      <th>4</th>\n",
       "      <td>9.5</td>\n",
       "      <td>2.0</td>\n",
       "      <td>3.6</td>\n",
       "      <td>0.8</td>\n",
       "    </tr>\n",
       "  </tbody>\n",
       "</table>\n",
       "</div>"
      ],
      "text/plain": [
       "first_time    1    2     3     4\n",
       "sna                             \n",
       "1           3.2  7.9  30.2  22.8\n",
       "2           2.4  4.0   6.5   1.4\n",
       "3           1.5  1.8   2.0   0.3\n",
       "4           9.5  2.0   3.6   0.8"
      ]
     },
     "execution_count": 35,
     "metadata": {},
     "output_type": "execute_result"
    }
   ],
   "source": [
    "round(pd.crosstab(quartins.sna, quartins.first_time, normalize=True)*100, 1)"
   ]
  },
  {
   "cell_type": "code",
   "execution_count": 36,
   "metadata": {},
   "outputs": [
    {
     "data": {
      "text/plain": [
       "sna_ft    0.121832\n",
       "dtype: float64"
      ]
     },
     "execution_count": 36,
     "metadata": {},
     "output_type": "execute_result"
    }
   ],
   "source": [
    "quartins['sna_ft']=np.where((quartins['sna']==1) & (quartins['first_time']>2), 0.0, 1.0)\n",
    "quartins[['sna_ft']].corrwith(train['default'], method='kendall')"
   ]
  },
  {
   "cell_type": "code",
   "execution_count": 37,
   "metadata": {},
   "outputs": [
    {
     "data": {
      "text/plain": [
       "sna           0.734102\n",
       "first_time   -0.645339\n",
       "dtype: float64"
      ]
     },
     "execution_count": 37,
     "metadata": {},
     "output_type": "execute_result"
    }
   ],
   "source": [
    "quartins[['sna', 'first_time']].corrwith(quartins['sna_ft'], method='kendall')"
   ]
  },
  {
   "cell_type": "markdown",
   "metadata": {},
   "source": [
    "полученный нами признак превосходит исходные параметры постепени корреляции с целевой переменной, а также более коррелирован с ними чем сами они между собой. Мы берём его в модель"
   ]
  },
  {
   "cell_type": "markdown",
   "metadata": {},
   "source": [
    "### Пятиуровневая переменная Education"
   ]
  },
  {
   "cell_type": "markdown",
   "metadata": {},
   "source": [
    "Порядковый признак Education принимает 5 уровней, самый низкий из которых SCH соответствует школьному образованию, а самый высокий- учёной степени PhD. Для оценки перспективности посмотрим как распределён показатель, заполним пропуски, перекодируем его, а также проведём векторизацию, после чего сравним степень их корреляции с целевой переменной."
   ]
  },
  {
   "cell_type": "markdown",
   "metadata": {},
   "source": [
    "Смотрим как распределён признак"
   ]
  },
  {
   "cell_type": "code",
   "execution_count": 38,
   "metadata": {},
   "outputs": [
    {
     "data": {
      "text/html": [
       "<div>\n",
       "<style scoped>\n",
       "    .dataframe tbody tr th:only-of-type {\n",
       "        vertical-align: middle;\n",
       "    }\n",
       "\n",
       "    .dataframe tbody tr th {\n",
       "        vertical-align: top;\n",
       "    }\n",
       "\n",
       "    .dataframe thead th {\n",
       "        text-align: right;\n",
       "    }\n",
       "</style>\n",
       "<table border=\"1\" class=\"dataframe\">\n",
       "  <thead>\n",
       "    <tr style=\"text-align: right;\">\n",
       "      <th></th>\n",
       "      <th>education</th>\n",
       "      <th>education</th>\n",
       "    </tr>\n",
       "  </thead>\n",
       "  <tbody>\n",
       "    <tr>\n",
       "      <th>SCH</th>\n",
       "      <td>38860</td>\n",
       "      <td>52.66</td>\n",
       "    </tr>\n",
       "    <tr>\n",
       "      <th>GRD</th>\n",
       "      <td>23365</td>\n",
       "      <td>31.66</td>\n",
       "    </tr>\n",
       "    <tr>\n",
       "      <th>UGR</th>\n",
       "      <td>9816</td>\n",
       "      <td>13.30</td>\n",
       "    </tr>\n",
       "    <tr>\n",
       "      <th>PGR</th>\n",
       "      <td>1257</td>\n",
       "      <td>1.70</td>\n",
       "    </tr>\n",
       "    <tr>\n",
       "      <th>NaN</th>\n",
       "      <td>307</td>\n",
       "      <td>0.42</td>\n",
       "    </tr>\n",
       "    <tr>\n",
       "      <th>ACD</th>\n",
       "      <td>194</td>\n",
       "      <td>0.26</td>\n",
       "    </tr>\n",
       "  </tbody>\n",
       "</table>\n",
       "</div>"
      ],
      "text/plain": [
       "     education  education\n",
       "SCH      38860      52.66\n",
       "GRD      23365      31.66\n",
       "UGR       9816      13.30\n",
       "PGR       1257       1.70\n",
       "NaN        307       0.42\n",
       "ACD        194       0.26"
      ]
     },
     "execution_count": 38,
     "metadata": {},
     "output_type": "execute_result"
    }
   ],
   "source": [
    "pd.concat([train.education.value_counts(dropna=False), \n",
    "           train.education.value_counts(dropna=False,\n",
    "                                        normalize=True).round(4)*100], axis=1)"
   ]
  },
  {
   "cell_type": "markdown",
   "metadata": {},
   "source": [
    "Смотрим как распределены по уровням образования соответствующие частоты дефолтов"
   ]
  },
  {
   "cell_type": "code",
   "execution_count": 39,
   "metadata": {},
   "outputs": [
    {
     "data": {
      "text/html": [
       "<div>\n",
       "<style scoped>\n",
       "    .dataframe tbody tr th:only-of-type {\n",
       "        vertical-align: middle;\n",
       "    }\n",
       "\n",
       "    .dataframe tbody tr th {\n",
       "        vertical-align: top;\n",
       "    }\n",
       "\n",
       "    .dataframe thead th {\n",
       "        text-align: right;\n",
       "    }\n",
       "</style>\n",
       "<table border=\"1\" class=\"dataframe\">\n",
       "  <thead>\n",
       "    <tr style=\"text-align: right;\">\n",
       "      <th></th>\n",
       "      <th>0</th>\n",
       "      <th>1</th>\n",
       "    </tr>\n",
       "    <tr>\n",
       "      <th>education</th>\n",
       "      <th></th>\n",
       "      <th></th>\n",
       "    </tr>\n",
       "  </thead>\n",
       "  <tbody>\n",
       "    <tr>\n",
       "      <th>ACD</th>\n",
       "      <td>95.88</td>\n",
       "      <td>4.12</td>\n",
       "    </tr>\n",
       "    <tr>\n",
       "      <th>GRD</th>\n",
       "      <td>90.99</td>\n",
       "      <td>9.01</td>\n",
       "    </tr>\n",
       "    <tr>\n",
       "      <th>PGR</th>\n",
       "      <td>93.56</td>\n",
       "      <td>6.44</td>\n",
       "    </tr>\n",
       "    <tr>\n",
       "      <th>SCH</th>\n",
       "      <td>84.94</td>\n",
       "      <td>15.06</td>\n",
       "    </tr>\n",
       "    <tr>\n",
       "      <th>UGR</th>\n",
       "      <td>86.85</td>\n",
       "      <td>13.15</td>\n",
       "    </tr>\n",
       "    <tr>\n",
       "      <th>NaN</th>\n",
       "      <td>88.60</td>\n",
       "      <td>11.40</td>\n",
       "    </tr>\n",
       "  </tbody>\n",
       "</table>\n",
       "</div>"
      ],
      "text/plain": [
       "               0      1\n",
       "education              \n",
       "ACD        95.88   4.12\n",
       "GRD        90.99   9.01\n",
       "PGR        93.56   6.44\n",
       "SCH        84.94  15.06\n",
       "UGR        86.85  13.15\n",
       "NaN        88.60  11.40"
      ]
     },
     "execution_count": 39,
     "metadata": {},
     "output_type": "execute_result"
    }
   ],
   "source": [
    "train['default'].groupby(train['education'], \n",
    "                         dropna=False).apply(pd.value_counts, \n",
    "                                             normalize=True).unstack().round(4)*100"
   ]
  },
  {
   "cell_type": "markdown",
   "metadata": {},
   "source": [
    "Для отсутствующих данных, частота невозврата занимает промежуточное положение между частотами невозврата для имеющих степень бакалавра и степень магистра. \n",
    "\n",
    "Поскольку в нашем датасете доля группы заёмщиков UGR меньше доли группы заёмщиков GRD (32 и 13% соответственно), представляется логичным отнести заёмщиков с неизвестным уровнем образования к более крупной группе GRD, что мы и сделаем"
   ]
  },
  {
   "cell_type": "code",
   "execution_count": 40,
   "metadata": {},
   "outputs": [],
   "source": [
    "train.education.fillna('GRD', inplace=True)"
   ]
  },
  {
   "cell_type": "markdown",
   "metadata": {},
   "source": [
    "Вклад наблюдений с отсутствующим образованием незначителен (0,42%), и в принципе мы могли бы удалить эти данные. Но с другой стороны датасет вполне однородный и эти наблюдения можно оставить заменив их значениями одного из соседних уровней образования."
   ]
  },
  {
   "cell_type": "code",
   "execution_count": 41,
   "metadata": {},
   "outputs": [
    {
     "data": {
      "text/html": [
       "<div>\n",
       "<style scoped>\n",
       "    .dataframe tbody tr th:only-of-type {\n",
       "        vertical-align: middle;\n",
       "    }\n",
       "\n",
       "    .dataframe tbody tr th {\n",
       "        vertical-align: top;\n",
       "    }\n",
       "\n",
       "    .dataframe thead th {\n",
       "        text-align: right;\n",
       "    }\n",
       "</style>\n",
       "<table border=\"1\" class=\"dataframe\">\n",
       "  <thead>\n",
       "    <tr style=\"text-align: right;\">\n",
       "      <th>default</th>\n",
       "      <th>0</th>\n",
       "      <th>1</th>\n",
       "    </tr>\n",
       "    <tr>\n",
       "      <th>education</th>\n",
       "      <th></th>\n",
       "      <th></th>\n",
       "    </tr>\n",
       "  </thead>\n",
       "  <tbody>\n",
       "    <tr>\n",
       "      <th>ACD</th>\n",
       "      <td>95.88</td>\n",
       "      <td>4.12</td>\n",
       "    </tr>\n",
       "    <tr>\n",
       "      <th>PGR</th>\n",
       "      <td>93.56</td>\n",
       "      <td>6.44</td>\n",
       "    </tr>\n",
       "    <tr>\n",
       "      <th>GRD</th>\n",
       "      <td>90.96</td>\n",
       "      <td>9.04</td>\n",
       "    </tr>\n",
       "    <tr>\n",
       "      <th>UGR</th>\n",
       "      <td>86.85</td>\n",
       "      <td>13.15</td>\n",
       "    </tr>\n",
       "    <tr>\n",
       "      <th>SCH</th>\n",
       "      <td>84.94</td>\n",
       "      <td>15.06</td>\n",
       "    </tr>\n",
       "  </tbody>\n",
       "</table>\n",
       "</div>"
      ],
      "text/plain": [
       "default        0      1\n",
       "education              \n",
       "ACD        95.88   4.12\n",
       "PGR        93.56   6.44\n",
       "GRD        90.96   9.04\n",
       "UGR        86.85  13.15\n",
       "SCH        84.94  15.06"
      ]
     },
     "execution_count": 41,
     "metadata": {},
     "output_type": "execute_result"
    }
   ],
   "source": [
    "train.default.groupby(train['education'], dropna=False).value_counts(normalize=True).round(4).unstack().sort_values(\n",
    "    by=0, ascending=False)*100\n"
   ]
  },
  {
   "cell_type": "markdown",
   "metadata": {},
   "source": [
    "Мы пришли к выводу о том что самыми надёжными заёмщиками в нашей выборке предсказуемо оказались лица с научными степенями, в то время заёмщики имеющие школьное образование и закончившие бакалавриат имели максимальный риск невозврата."
   ]
  },
  {
   "cell_type": "markdown",
   "metadata": {},
   "source": [
    "Проведём векторизацию, а далее отранжируем уровни образования согласно наблюдаемым частотам дефолта."
   ]
  },
  {
   "cell_type": "code",
   "execution_count": 42,
   "metadata": {},
   "outputs": [],
   "source": [
    "pents=pd.concat([train['education'], pd.get_dummies(train['education'], dtype='float64')], axis=1)"
   ]
  },
  {
   "cell_type": "markdown",
   "metadata": {},
   "source": [
    "Корреляции векторизированных признаков образования с целевой переменной невысоки (в районе 0,075 по модулю для значений SCH и GRD).\n",
    "Проведём кодирование"
   ]
  },
  {
   "cell_type": "code",
   "execution_count": 43,
   "metadata": {},
   "outputs": [],
   "source": [
    "pents['education'].replace({'SCH':4.0, 'UGR':3.0, 'GRD':2.0, 'PGR':1.0, 'ACD':0.0}, inplace=True)\n"
   ]
  },
  {
   "cell_type": "code",
   "execution_count": 44,
   "metadata": {},
   "outputs": [
    {
     "data": {
      "text/plain": [
       "Index(['education', 'ACD', 'GRD', 'PGR', 'SCH', 'UGR'], dtype='object')"
      ]
     },
     "execution_count": 44,
     "metadata": {},
     "output_type": "execute_result"
    }
   ],
   "source": [
    "# pents=pd.concat([pents, coder], axis=1)\n",
    "# drop('education', axis=1).astype('float')\n",
    "pents.columns"
   ]
  },
  {
   "cell_type": "code",
   "execution_count": 45,
   "metadata": {},
   "outputs": [],
   "source": [
    "a=pents.corrwith(train['default'])"
   ]
  },
  {
   "cell_type": "code",
   "execution_count": 46,
   "metadata": {},
   "outputs": [
    {
     "data": {
      "text/plain": [
       "education    float64\n",
       "ACD          float64\n",
       "GRD          float64\n",
       "PGR          float64\n",
       "SCH          float64\n",
       "UGR          float64\n",
       "dtype: object"
      ]
     },
     "execution_count": 46,
     "metadata": {},
     "output_type": "execute_result"
    }
   ],
   "source": [
    "pents.dtypes"
   ]
  },
  {
   "cell_type": "code",
   "execution_count": 47,
   "metadata": {},
   "outputs": [
    {
     "data": {
      "text/plain": [
       "education    0.084806\n",
       "dtype: float64"
      ]
     },
     "execution_count": 47,
     "metadata": {},
     "output_type": "execute_result"
    }
   ],
   "source": [
    "pents[[\"education\"]].corrwith(train['default'])"
   ]
  },
  {
   "cell_type": "code",
   "execution_count": 48,
   "metadata": {},
   "outputs": [],
   "source": [
    "b=pents.corrwith(pents['education'])"
   ]
  },
  {
   "cell_type": "code",
   "execution_count": 49,
   "metadata": {},
   "outputs": [],
   "source": [
    "# pents=pents['education']"
   ]
  },
  {
   "cell_type": "markdown",
   "metadata": {},
   "source": [
    "### Семииуровневая переменная region rating"
   ]
  },
  {
   "cell_type": "markdown",
   "metadata": {},
   "source": [
    "Проделываем аналогичные операции"
   ]
  },
  {
   "cell_type": "code",
   "execution_count": 50,
   "metadata": {},
   "outputs": [
    {
     "data": {
      "text/html": [
       "<div>\n",
       "<style scoped>\n",
       "    .dataframe tbody tr th:only-of-type {\n",
       "        vertical-align: middle;\n",
       "    }\n",
       "\n",
       "    .dataframe tbody tr th {\n",
       "        vertical-align: top;\n",
       "    }\n",
       "\n",
       "    .dataframe thead th {\n",
       "        text-align: right;\n",
       "    }\n",
       "</style>\n",
       "<table border=\"1\" class=\"dataframe\">\n",
       "  <thead>\n",
       "    <tr style=\"text-align: right;\">\n",
       "      <th></th>\n",
       "      <th>region_rating</th>\n",
       "      <th>region_rating</th>\n",
       "    </tr>\n",
       "  </thead>\n",
       "  <tbody>\n",
       "    <tr>\n",
       "      <th>50</th>\n",
       "      <td>27523</td>\n",
       "      <td>37.29</td>\n",
       "    </tr>\n",
       "    <tr>\n",
       "      <th>60</th>\n",
       "      <td>16075</td>\n",
       "      <td>21.78</td>\n",
       "    </tr>\n",
       "    <tr>\n",
       "      <th>40</th>\n",
       "      <td>12027</td>\n",
       "      <td>16.30</td>\n",
       "    </tr>\n",
       "    <tr>\n",
       "      <th>80</th>\n",
       "      <td>11469</td>\n",
       "      <td>15.54</td>\n",
       "    </tr>\n",
       "    <tr>\n",
       "      <th>70</th>\n",
       "      <td>6199</td>\n",
       "      <td>8.40</td>\n",
       "    </tr>\n",
       "    <tr>\n",
       "      <th>30</th>\n",
       "      <td>300</td>\n",
       "      <td>0.41</td>\n",
       "    </tr>\n",
       "    <tr>\n",
       "      <th>20</th>\n",
       "      <td>206</td>\n",
       "      <td>0.28</td>\n",
       "    </tr>\n",
       "  </tbody>\n",
       "</table>\n",
       "</div>"
      ],
      "text/plain": [
       "    region_rating  region_rating\n",
       "50          27523          37.29\n",
       "60          16075          21.78\n",
       "40          12027          16.30\n",
       "80          11469          15.54\n",
       "70           6199           8.40\n",
       "30            300           0.41\n",
       "20            206           0.28"
      ]
     },
     "execution_count": 50,
     "metadata": {},
     "output_type": "execute_result"
    }
   ],
   "source": [
    "pd.concat([train.region_rating.value_counts(dropna=False),\n",
    "           train.region_rating.value_counts(dropna=False, \n",
    "                                            normalize=True).round(4)*100], axis=1)"
   ]
  },
  {
   "cell_type": "markdown",
   "metadata": {},
   "source": [
    "Распределение регионов по рейтингу близкое к нормальному."
   ]
  },
  {
   "cell_type": "markdown",
   "metadata": {},
   "source": [
    "Посмотрим как распределены по регионам дефолты"
   ]
  },
  {
   "cell_type": "code",
   "execution_count": 51,
   "metadata": {},
   "outputs": [
    {
     "data": {
      "text/html": [
       "<div>\n",
       "<style scoped>\n",
       "    .dataframe tbody tr th:only-of-type {\n",
       "        vertical-align: middle;\n",
       "    }\n",
       "\n",
       "    .dataframe tbody tr th {\n",
       "        vertical-align: top;\n",
       "    }\n",
       "\n",
       "    .dataframe thead th {\n",
       "        text-align: right;\n",
       "    }\n",
       "</style>\n",
       "<table border=\"1\" class=\"dataframe\">\n",
       "  <thead>\n",
       "    <tr style=\"text-align: right;\">\n",
       "      <th>default</th>\n",
       "      <th>0</th>\n",
       "      <th>1</th>\n",
       "    </tr>\n",
       "    <tr>\n",
       "      <th>region_rating</th>\n",
       "      <th></th>\n",
       "      <th></th>\n",
       "    </tr>\n",
       "  </thead>\n",
       "  <tbody>\n",
       "    <tr>\n",
       "      <th>80</th>\n",
       "      <td>92.68</td>\n",
       "      <td>7.32</td>\n",
       "    </tr>\n",
       "    <tr>\n",
       "      <th>70</th>\n",
       "      <td>90.76</td>\n",
       "      <td>9.24</td>\n",
       "    </tr>\n",
       "    <tr>\n",
       "      <th>60</th>\n",
       "      <td>87.12</td>\n",
       "      <td>12.88</td>\n",
       "    </tr>\n",
       "    <tr>\n",
       "      <th>50</th>\n",
       "      <td>86.39</td>\n",
       "      <td>13.61</td>\n",
       "    </tr>\n",
       "    <tr>\n",
       "      <th>40</th>\n",
       "      <td>83.03</td>\n",
       "      <td>16.97</td>\n",
       "    </tr>\n",
       "    <tr>\n",
       "      <th>30</th>\n",
       "      <td>81.00</td>\n",
       "      <td>19.00</td>\n",
       "    </tr>\n",
       "    <tr>\n",
       "      <th>20</th>\n",
       "      <td>78.64</td>\n",
       "      <td>21.36</td>\n",
       "    </tr>\n",
       "  </tbody>\n",
       "</table>\n",
       "</div>"
      ],
      "text/plain": [
       "default            0      1\n",
       "region_rating              \n",
       "80             92.68   7.32\n",
       "70             90.76   9.24\n",
       "60             87.12  12.88\n",
       "50             86.39  13.61\n",
       "40             83.03  16.97\n",
       "30             81.00  19.00\n",
       "20             78.64  21.36"
      ]
     },
     "execution_count": 51,
     "metadata": {},
     "output_type": "execute_result"
    }
   ],
   "source": [
    "train.default.groupby(train['region_rating'], \n",
    "                      dropna=False).value_counts(normalize=True).round(4).unstack().sort_values(by=0,\n",
    "                                                                                                ascending=False)*100"
   ]
  },
  {
   "cell_type": "markdown",
   "metadata": {},
   "source": [
    "Между рейтингом и количеством невозвратов прослеживается обратная связь, скорее всего рейтинги определяют надёжность жителей региона в качестве заёмщиков. Посмотрим какова корреляция этого признака с целевым."
   ]
  },
  {
   "cell_type": "code",
   "execution_count": 52,
   "metadata": {},
   "outputs": [
    {
     "data": {
      "text/plain": [
       "region_rating   -0.089035\n",
       "20               0.013760\n",
       "30               0.012089\n",
       "40               0.056597\n",
       "50               0.021186\n",
       "60               0.002916\n",
       "70              -0.031431\n",
       "80              -0.069362\n",
       "dtype: float64"
      ]
     },
     "execution_count": 52,
     "metadata": {},
     "output_type": "execute_result"
    }
   ],
   "source": [
    "hepts=pd.concat([train['region_rating'], pd.get_dummies(train['region_rating'], dtype='float64')], axis=1)\n",
    "hepts.corrwith(train['default'])"
   ]
  },
  {
   "cell_type": "markdown",
   "metadata": {},
   "source": [
    "В модели будем использовать упорядоченный рейтинг."
   ]
  },
  {
   "cell_type": "code",
   "execution_count": 53,
   "metadata": {},
   "outputs": [],
   "source": [
    "hepts=hepts['region_rating']"
   ]
  },
  {
   "cell_type": "markdown",
   "metadata": {},
   "source": [
    "Соберём в единый датафрейм все признаки которые мы рассмотрели"
   ]
  },
  {
   "cell_type": "code",
   "execution_count": 54,
   "metadata": {},
   "outputs": [],
   "source": [
    "X_low=pd.concat([bins, trins, quartins, pents, hepts], axis=1)"
   ]
  },
  {
   "cell_type": "code",
   "execution_count": 55,
   "metadata": {},
   "outputs": [
    {
     "data": {
      "text/html": [
       "<div>\n",
       "<style scoped>\n",
       "    .dataframe tbody tr th:only-of-type {\n",
       "        vertical-align: middle;\n",
       "    }\n",
       "\n",
       "    .dataframe tbody tr th {\n",
       "        vertical-align: top;\n",
       "    }\n",
       "\n",
       "    .dataframe thead th {\n",
       "        text-align: right;\n",
       "    }\n",
       "</style>\n",
       "<table border=\"1\" class=\"dataframe\">\n",
       "  <thead>\n",
       "    <tr style=\"text-align: right;\">\n",
       "      <th></th>\n",
       "      <th>good_work</th>\n",
       "      <th>default</th>\n",
       "      <th>sex_M</th>\n",
       "      <th>car_Y</th>\n",
       "      <th>car_type_Y</th>\n",
       "      <th>foreign_passport_Y</th>\n",
       "      <th>fp</th>\n",
       "      <th>fp_ct</th>\n",
       "      <th>fp_ct_gw</th>\n",
       "      <th>home_address</th>\n",
       "      <th>work_address</th>\n",
       "      <th>home_address_1</th>\n",
       "      <th>home_address_2</th>\n",
       "      <th>home_address_3</th>\n",
       "      <th>work_address_1</th>\n",
       "      <th>...</th>\n",
       "      <th>sna_2</th>\n",
       "      <th>sna_3</th>\n",
       "      <th>sna_4</th>\n",
       "      <th>first_time_1</th>\n",
       "      <th>first_time_2</th>\n",
       "      <th>first_time_3</th>\n",
       "      <th>first_time_4</th>\n",
       "      <th>sna_ft</th>\n",
       "      <th>education</th>\n",
       "      <th>ACD</th>\n",
       "      <th>GRD</th>\n",
       "      <th>PGR</th>\n",
       "      <th>SCH</th>\n",
       "      <th>UGR</th>\n",
       "      <th>region_rating</th>\n",
       "    </tr>\n",
       "  </thead>\n",
       "  <tbody>\n",
       "    <tr>\n",
       "      <th>0</th>\n",
       "      <td>0</td>\n",
       "      <td>0</td>\n",
       "      <td>1.0</td>\n",
       "      <td>1.0</td>\n",
       "      <td>1.0</td>\n",
       "      <td>0.0</td>\n",
       "      <td>0.0</td>\n",
       "      <td>1.0</td>\n",
       "      <td>1.0</td>\n",
       "      <td>1</td>\n",
       "      <td>2</td>\n",
       "      <td>1.0</td>\n",
       "      <td>0.0</td>\n",
       "      <td>0.0</td>\n",
       "      <td>0.0</td>\n",
       "      <td>...</td>\n",
       "      <td>0.0</td>\n",
       "      <td>0.0</td>\n",
       "      <td>1.0</td>\n",
       "      <td>1.0</td>\n",
       "      <td>0.0</td>\n",
       "      <td>0.0</td>\n",
       "      <td>0.0</td>\n",
       "      <td>1.0</td>\n",
       "      <td>4.0</td>\n",
       "      <td>0.0</td>\n",
       "      <td>0.0</td>\n",
       "      <td>0.0</td>\n",
       "      <td>1.0</td>\n",
       "      <td>0.0</td>\n",
       "      <td>50</td>\n",
       "    </tr>\n",
       "    <tr>\n",
       "      <th>1</th>\n",
       "      <td>0</td>\n",
       "      <td>0</td>\n",
       "      <td>0.0</td>\n",
       "      <td>0.0</td>\n",
       "      <td>0.0</td>\n",
       "      <td>0.0</td>\n",
       "      <td>0.0</td>\n",
       "      <td>0.0</td>\n",
       "      <td>0.0</td>\n",
       "      <td>2</td>\n",
       "      <td>3</td>\n",
       "      <td>0.0</td>\n",
       "      <td>1.0</td>\n",
       "      <td>0.0</td>\n",
       "      <td>0.0</td>\n",
       "      <td>...</td>\n",
       "      <td>0.0</td>\n",
       "      <td>0.0</td>\n",
       "      <td>1.0</td>\n",
       "      <td>1.0</td>\n",
       "      <td>0.0</td>\n",
       "      <td>0.0</td>\n",
       "      <td>0.0</td>\n",
       "      <td>1.0</td>\n",
       "      <td>4.0</td>\n",
       "      <td>0.0</td>\n",
       "      <td>0.0</td>\n",
       "      <td>0.0</td>\n",
       "      <td>1.0</td>\n",
       "      <td>0.0</td>\n",
       "      <td>50</td>\n",
       "    </tr>\n",
       "    <tr>\n",
       "      <th>2</th>\n",
       "      <td>0</td>\n",
       "      <td>0</td>\n",
       "      <td>1.0</td>\n",
       "      <td>1.0</td>\n",
       "      <td>0.0</td>\n",
       "      <td>1.0</td>\n",
       "      <td>1.0</td>\n",
       "      <td>1.0</td>\n",
       "      <td>1.0</td>\n",
       "      <td>1</td>\n",
       "      <td>2</td>\n",
       "      <td>1.0</td>\n",
       "      <td>0.0</td>\n",
       "      <td>0.0</td>\n",
       "      <td>0.0</td>\n",
       "      <td>...</td>\n",
       "      <td>0.0</td>\n",
       "      <td>0.0</td>\n",
       "      <td>0.0</td>\n",
       "      <td>0.0</td>\n",
       "      <td>0.0</td>\n",
       "      <td>0.0</td>\n",
       "      <td>1.0</td>\n",
       "      <td>0.0</td>\n",
       "      <td>4.0</td>\n",
       "      <td>0.0</td>\n",
       "      <td>0.0</td>\n",
       "      <td>0.0</td>\n",
       "      <td>1.0</td>\n",
       "      <td>0.0</td>\n",
       "      <td>80</td>\n",
       "    </tr>\n",
       "    <tr>\n",
       "      <th>3</th>\n",
       "      <td>0</td>\n",
       "      <td>0</td>\n",
       "      <td>0.0</td>\n",
       "      <td>0.0</td>\n",
       "      <td>0.0</td>\n",
       "      <td>0.0</td>\n",
       "      <td>0.0</td>\n",
       "      <td>0.0</td>\n",
       "      <td>0.0</td>\n",
       "      <td>2</td>\n",
       "      <td>3</td>\n",
       "      <td>0.0</td>\n",
       "      <td>1.0</td>\n",
       "      <td>0.0</td>\n",
       "      <td>0.0</td>\n",
       "      <td>...</td>\n",
       "      <td>0.0</td>\n",
       "      <td>0.0</td>\n",
       "      <td>0.0</td>\n",
       "      <td>0.0</td>\n",
       "      <td>0.0</td>\n",
       "      <td>1.0</td>\n",
       "      <td>0.0</td>\n",
       "      <td>0.0</td>\n",
       "      <td>4.0</td>\n",
       "      <td>0.0</td>\n",
       "      <td>0.0</td>\n",
       "      <td>0.0</td>\n",
       "      <td>1.0</td>\n",
       "      <td>0.0</td>\n",
       "      <td>50</td>\n",
       "    </tr>\n",
       "    <tr>\n",
       "      <th>4</th>\n",
       "      <td>1</td>\n",
       "      <td>0</td>\n",
       "      <td>1.0</td>\n",
       "      <td>0.0</td>\n",
       "      <td>0.0</td>\n",
       "      <td>1.0</td>\n",
       "      <td>1.0</td>\n",
       "      <td>1.0</td>\n",
       "      <td>1.0</td>\n",
       "      <td>2</td>\n",
       "      <td>3</td>\n",
       "      <td>0.0</td>\n",
       "      <td>1.0</td>\n",
       "      <td>0.0</td>\n",
       "      <td>0.0</td>\n",
       "      <td>...</td>\n",
       "      <td>0.0</td>\n",
       "      <td>0.0</td>\n",
       "      <td>0.0</td>\n",
       "      <td>0.0</td>\n",
       "      <td>0.0</td>\n",
       "      <td>0.0</td>\n",
       "      <td>1.0</td>\n",
       "      <td>0.0</td>\n",
       "      <td>2.0</td>\n",
       "      <td>0.0</td>\n",
       "      <td>1.0</td>\n",
       "      <td>0.0</td>\n",
       "      <td>0.0</td>\n",
       "      <td>0.0</td>\n",
       "      <td>60</td>\n",
       "    </tr>\n",
       "  </tbody>\n",
       "</table>\n",
       "<p>5 rows × 36 columns</p>\n",
       "</div>"
      ],
      "text/plain": [
       "   good_work  default  sex_M  car_Y  car_type_Y  foreign_passport_Y   fp  \\\n",
       "0          0        0    1.0    1.0         1.0                 0.0  0.0   \n",
       "1          0        0    0.0    0.0         0.0                 0.0  0.0   \n",
       "2          0        0    1.0    1.0         0.0                 1.0  1.0   \n",
       "3          0        0    0.0    0.0         0.0                 0.0  0.0   \n",
       "4          1        0    1.0    0.0         0.0                 1.0  1.0   \n",
       "\n",
       "   fp_ct  fp_ct_gw  home_address  work_address  home_address_1  \\\n",
       "0    1.0       1.0             1             2             1.0   \n",
       "1    0.0       0.0             2             3             0.0   \n",
       "2    1.0       1.0             1             2             1.0   \n",
       "3    0.0       0.0             2             3             0.0   \n",
       "4    1.0       1.0             2             3             0.0   \n",
       "\n",
       "   home_address_2  home_address_3  work_address_1  ...  sna_2  sna_3  sna_4  \\\n",
       "0             0.0             0.0             0.0  ...    0.0    0.0    1.0   \n",
       "1             1.0             0.0             0.0  ...    0.0    0.0    1.0   \n",
       "2             0.0             0.0             0.0  ...    0.0    0.0    0.0   \n",
       "3             1.0             0.0             0.0  ...    0.0    0.0    0.0   \n",
       "4             1.0             0.0             0.0  ...    0.0    0.0    0.0   \n",
       "\n",
       "   first_time_1  first_time_2  first_time_3  first_time_4  sna_ft  education  \\\n",
       "0           1.0           0.0           0.0           0.0     1.0        4.0   \n",
       "1           1.0           0.0           0.0           0.0     1.0        4.0   \n",
       "2           0.0           0.0           0.0           1.0     0.0        4.0   \n",
       "3           0.0           0.0           1.0           0.0     0.0        4.0   \n",
       "4           0.0           0.0           0.0           1.0     0.0        2.0   \n",
       "\n",
       "   ACD  GRD  PGR  SCH  UGR  region_rating  \n",
       "0  0.0  0.0  0.0  1.0  0.0             50  \n",
       "1  0.0  0.0  0.0  1.0  0.0             50  \n",
       "2  0.0  0.0  0.0  1.0  0.0             80  \n",
       "3  0.0  0.0  0.0  1.0  0.0             50  \n",
       "4  0.0  1.0  0.0  0.0  0.0             60  \n",
       "\n",
       "[5 rows x 36 columns]"
      ]
     },
     "execution_count": 55,
     "metadata": {},
     "output_type": "execute_result"
    }
   ],
   "source": [
    "X_low.head()"
   ]
  },
  {
   "cell_type": "markdown",
   "metadata": {},
   "source": [
    "проведём нормализацию параметров education и region_rating."
   ]
  },
  {
   "cell_type": "code",
   "execution_count": 56,
   "metadata": {},
   "outputs": [],
   "source": [
    "from sklearn.preprocessing import MinMaxScaler"
   ]
  },
  {
   "cell_type": "code",
   "execution_count": 57,
   "metadata": {},
   "outputs": [],
   "source": [
    "mms=MinMaxScaler()"
   ]
  },
  {
   "cell_type": "code",
   "execution_count": null,
   "metadata": {},
   "outputs": [],
   "source": []
  },
  {
   "cell_type": "code",
   "execution_count": 58,
   "metadata": {},
   "outputs": [],
   "source": [
    "X_low[['education', 'region_rating']] = mms.fit_transform(X_low[['education', 'region_rating']])"
   ]
  },
  {
   "cell_type": "code",
   "execution_count": 59,
   "metadata": {},
   "outputs": [
    {
     "data": {
      "text/html": [
       "<div>\n",
       "<style scoped>\n",
       "    .dataframe tbody tr th:only-of-type {\n",
       "        vertical-align: middle;\n",
       "    }\n",
       "\n",
       "    .dataframe tbody tr th {\n",
       "        vertical-align: top;\n",
       "    }\n",
       "\n",
       "    .dataframe thead th {\n",
       "        text-align: right;\n",
       "    }\n",
       "</style>\n",
       "<table border=\"1\" class=\"dataframe\">\n",
       "  <thead>\n",
       "    <tr style=\"text-align: right;\">\n",
       "      <th></th>\n",
       "      <th>good_work</th>\n",
       "      <th>default</th>\n",
       "      <th>sex_M</th>\n",
       "      <th>car_Y</th>\n",
       "      <th>car_type_Y</th>\n",
       "      <th>foreign_passport_Y</th>\n",
       "      <th>fp</th>\n",
       "      <th>fp_ct</th>\n",
       "      <th>fp_ct_gw</th>\n",
       "      <th>home_address</th>\n",
       "      <th>work_address</th>\n",
       "      <th>home_address_1</th>\n",
       "      <th>home_address_2</th>\n",
       "      <th>home_address_3</th>\n",
       "      <th>work_address_1</th>\n",
       "      <th>...</th>\n",
       "      <th>sna_2</th>\n",
       "      <th>sna_3</th>\n",
       "      <th>sna_4</th>\n",
       "      <th>first_time_1</th>\n",
       "      <th>first_time_2</th>\n",
       "      <th>first_time_3</th>\n",
       "      <th>first_time_4</th>\n",
       "      <th>sna_ft</th>\n",
       "      <th>education</th>\n",
       "      <th>ACD</th>\n",
       "      <th>GRD</th>\n",
       "      <th>PGR</th>\n",
       "      <th>SCH</th>\n",
       "      <th>UGR</th>\n",
       "      <th>region_rating</th>\n",
       "    </tr>\n",
       "  </thead>\n",
       "  <tbody>\n",
       "    <tr>\n",
       "      <th>good_work</th>\n",
       "      <td>1.000000</td>\n",
       "      <td>-0.043361</td>\n",
       "      <td>-0.040247</td>\n",
       "      <td>0.002027</td>\n",
       "      <td>0.017521</td>\n",
       "      <td>0.046361</td>\n",
       "      <td>0.046361</td>\n",
       "      <td>0.033786</td>\n",
       "      <td>0.541828</td>\n",
       "      <td>-0.003624</td>\n",
       "      <td>-0.008535</td>\n",
       "      <td>0.004775</td>\n",
       "      <td>-0.005679</td>\n",
       "      <td>0.003544</td>\n",
       "      <td>0.029394</td>\n",
       "      <td>...</td>\n",
       "      <td>-0.020611</td>\n",
       "      <td>-0.020487</td>\n",
       "      <td>-0.040156</td>\n",
       "      <td>-0.046058</td>\n",
       "      <td>-0.016622</td>\n",
       "      <td>0.014429</td>\n",
       "      <td>0.036863</td>\n",
       "      <td>-0.057790</td>\n",
       "      <td>-0.178534</td>\n",
       "      <td>0.042083</td>\n",
       "      <td>0.151503</td>\n",
       "      <td>0.048745</td>\n",
       "      <td>-0.161683</td>\n",
       "      <td>0.004559</td>\n",
       "      <td>0.073041</td>\n",
       "    </tr>\n",
       "    <tr>\n",
       "      <th>default</th>\n",
       "      <td>-0.043361</td>\n",
       "      <td>1.000000</td>\n",
       "      <td>0.019619</td>\n",
       "      <td>-0.043161</td>\n",
       "      <td>-0.057484</td>\n",
       "      <td>-0.066718</td>\n",
       "      <td>-0.066718</td>\n",
       "      <td>-0.077434</td>\n",
       "      <td>-0.083467</td>\n",
       "      <td>0.084637</td>\n",
       "      <td>0.081582</td>\n",
       "      <td>-0.091058</td>\n",
       "      <td>0.091869</td>\n",
       "      <td>-0.004325</td>\n",
       "      <td>-0.056622</td>\n",
       "      <td>...</td>\n",
       "      <td>0.028118</td>\n",
       "      <td>0.022398</td>\n",
       "      <td>0.110448</td>\n",
       "      <td>0.079187</td>\n",
       "      <td>0.036820</td>\n",
       "      <td>-0.017311</td>\n",
       "      <td>-0.078774</td>\n",
       "      <td>0.121832</td>\n",
       "      <td>0.084806</td>\n",
       "      <td>-0.013223</td>\n",
       "      <td>-0.075520</td>\n",
       "      <td>-0.024730</td>\n",
       "      <td>0.074744</td>\n",
       "      <td>0.005325</td>\n",
       "      <td>-0.089035</td>\n",
       "    </tr>\n",
       "    <tr>\n",
       "      <th>sex_M</th>\n",
       "      <td>-0.040247</td>\n",
       "      <td>0.019619</td>\n",
       "      <td>1.000000</td>\n",
       "      <td>0.279488</td>\n",
       "      <td>0.225578</td>\n",
       "      <td>0.086326</td>\n",
       "      <td>0.086326</td>\n",
       "      <td>0.207091</td>\n",
       "      <td>0.138339</td>\n",
       "      <td>0.037607</td>\n",
       "      <td>0.068967</td>\n",
       "      <td>-0.036522</td>\n",
       "      <td>0.032971</td>\n",
       "      <td>0.013186</td>\n",
       "      <td>-0.059426</td>\n",
       "      <td>...</td>\n",
       "      <td>0.006407</td>\n",
       "      <td>-0.002857</td>\n",
       "      <td>-0.004497</td>\n",
       "      <td>-0.017648</td>\n",
       "      <td>0.008254</td>\n",
       "      <td>-0.001153</td>\n",
       "      <td>0.009495</td>\n",
       "      <td>-0.000635</td>\n",
       "      <td>-0.041018</td>\n",
       "      <td>0.016143</td>\n",
       "      <td>0.024790</td>\n",
       "      <td>0.017084</td>\n",
       "      <td>-0.041469</td>\n",
       "      <td>0.017953</td>\n",
       "      <td>0.107711</td>\n",
       "    </tr>\n",
       "    <tr>\n",
       "      <th>car_Y</th>\n",
       "      <td>0.002027</td>\n",
       "      <td>-0.043161</td>\n",
       "      <td>0.279488</td>\n",
       "      <td>1.000000</td>\n",
       "      <td>0.697939</td>\n",
       "      <td>0.107568</td>\n",
       "      <td>0.107568</td>\n",
       "      <td>0.532017</td>\n",
       "      <td>0.409521</td>\n",
       "      <td>-0.025240</td>\n",
       "      <td>-0.007523</td>\n",
       "      <td>0.027078</td>\n",
       "      <td>-0.027243</td>\n",
       "      <td>0.000995</td>\n",
       "      <td>-0.006176</td>\n",
       "      <td>...</td>\n",
       "      <td>-0.008811</td>\n",
       "      <td>-0.016629</td>\n",
       "      <td>-0.064032</td>\n",
       "      <td>-0.077856</td>\n",
       "      <td>-0.022669</td>\n",
       "      <td>0.025393</td>\n",
       "      <td>0.056641</td>\n",
       "      <td>-0.073078</td>\n",
       "      <td>-0.139420</td>\n",
       "      <td>0.023733</td>\n",
       "      <td>0.110177</td>\n",
       "      <td>0.066591</td>\n",
       "      <td>-0.121888</td>\n",
       "      <td>-0.001180</td>\n",
       "      <td>0.064685</td>\n",
       "    </tr>\n",
       "    <tr>\n",
       "      <th>car_type_Y</th>\n",
       "      <td>0.017521</td>\n",
       "      <td>-0.057484</td>\n",
       "      <td>0.225578</td>\n",
       "      <td>0.697939</td>\n",
       "      <td>1.000000</td>\n",
       "      <td>0.145807</td>\n",
       "      <td>0.145807</td>\n",
       "      <td>0.755733</td>\n",
       "      <td>0.590201</td>\n",
       "      <td>-0.012032</td>\n",
       "      <td>0.000506</td>\n",
       "      <td>0.013287</td>\n",
       "      <td>-0.013742</td>\n",
       "      <td>0.001926</td>\n",
       "      <td>-0.002173</td>\n",
       "      <td>...</td>\n",
       "      <td>-0.012200</td>\n",
       "      <td>-0.020100</td>\n",
       "      <td>-0.075566</td>\n",
       "      <td>-0.088267</td>\n",
       "      <td>-0.024782</td>\n",
       "      <td>0.023385</td>\n",
       "      <td>0.069584</td>\n",
       "      <td>-0.085283</td>\n",
       "      <td>-0.184836</td>\n",
       "      <td>0.030486</td>\n",
       "      <td>0.150997</td>\n",
       "      <td>0.087431</td>\n",
       "      <td>-0.157727</td>\n",
       "      <td>-0.013554</td>\n",
       "      <td>0.104110</td>\n",
       "    </tr>\n",
       "    <tr>\n",
       "      <th>foreign_passport_Y</th>\n",
       "      <td>0.046361</td>\n",
       "      <td>-0.066718</td>\n",
       "      <td>0.086326</td>\n",
       "      <td>0.107568</td>\n",
       "      <td>0.145807</td>\n",
       "      <td>1.000000</td>\n",
       "      <td>1.000000</td>\n",
       "      <td>0.655761</td>\n",
       "      <td>0.512126</td>\n",
       "      <td>0.038658</td>\n",
       "      <td>0.041769</td>\n",
       "      <td>-0.044411</td>\n",
       "      <td>0.047582</td>\n",
       "      <td>-0.012794</td>\n",
       "      <td>-0.002958</td>\n",
       "      <td>...</td>\n",
       "      <td>-0.010956</td>\n",
       "      <td>-0.041022</td>\n",
       "      <td>-0.157757</td>\n",
       "      <td>-0.147270</td>\n",
       "      <td>-0.036600</td>\n",
       "      <td>-0.010955</td>\n",
       "      <td>0.168862</td>\n",
       "      <td>-0.163249</td>\n",
       "      <td>-0.181605</td>\n",
       "      <td>0.034771</td>\n",
       "      <td>0.151357</td>\n",
       "      <td>0.062922</td>\n",
       "      <td>-0.162594</td>\n",
       "      <td>0.001801</td>\n",
       "      <td>0.255456</td>\n",
       "    </tr>\n",
       "    <tr>\n",
       "      <th>fp</th>\n",
       "      <td>0.046361</td>\n",
       "      <td>-0.066718</td>\n",
       "      <td>0.086326</td>\n",
       "      <td>0.107568</td>\n",
       "      <td>0.145807</td>\n",
       "      <td>1.000000</td>\n",
       "      <td>1.000000</td>\n",
       "      <td>0.655761</td>\n",
       "      <td>0.512126</td>\n",
       "      <td>0.038658</td>\n",
       "      <td>0.041769</td>\n",
       "      <td>-0.044411</td>\n",
       "      <td>0.047582</td>\n",
       "      <td>-0.012794</td>\n",
       "      <td>-0.002958</td>\n",
       "      <td>...</td>\n",
       "      <td>-0.010956</td>\n",
       "      <td>-0.041022</td>\n",
       "      <td>-0.157757</td>\n",
       "      <td>-0.147270</td>\n",
       "      <td>-0.036600</td>\n",
       "      <td>-0.010955</td>\n",
       "      <td>0.168862</td>\n",
       "      <td>-0.163249</td>\n",
       "      <td>-0.181605</td>\n",
       "      <td>0.034771</td>\n",
       "      <td>0.151357</td>\n",
       "      <td>0.062922</td>\n",
       "      <td>-0.162594</td>\n",
       "      <td>0.001801</td>\n",
       "      <td>0.255456</td>\n",
       "    </tr>\n",
       "    <tr>\n",
       "      <th>fp_ct</th>\n",
       "      <td>0.033786</td>\n",
       "      <td>-0.077434</td>\n",
       "      <td>0.207091</td>\n",
       "      <td>0.532017</td>\n",
       "      <td>0.755733</td>\n",
       "      <td>0.655761</td>\n",
       "      <td>0.655761</td>\n",
       "      <td>1.000000</td>\n",
       "      <td>0.780965</td>\n",
       "      <td>0.009700</td>\n",
       "      <td>0.019824</td>\n",
       "      <td>-0.012165</td>\n",
       "      <td>0.013976</td>\n",
       "      <td>-0.007130</td>\n",
       "      <td>-0.000965</td>\n",
       "      <td>...</td>\n",
       "      <td>-0.011893</td>\n",
       "      <td>-0.035636</td>\n",
       "      <td>-0.148629</td>\n",
       "      <td>-0.150415</td>\n",
       "      <td>-0.035037</td>\n",
       "      <td>0.012221</td>\n",
       "      <td>0.143933</td>\n",
       "      <td>-0.152377</td>\n",
       "      <td>-0.227511</td>\n",
       "      <td>0.031796</td>\n",
       "      <td>0.191831</td>\n",
       "      <td>0.087933</td>\n",
       "      <td>-0.200525</td>\n",
       "      <td>-0.007145</td>\n",
       "      <td>0.212412</td>\n",
       "    </tr>\n",
       "    <tr>\n",
       "      <th>fp_ct_gw</th>\n",
       "      <td>0.541828</td>\n",
       "      <td>-0.083467</td>\n",
       "      <td>0.138339</td>\n",
       "      <td>0.409521</td>\n",
       "      <td>0.590201</td>\n",
       "      <td>0.512126</td>\n",
       "      <td>0.512126</td>\n",
       "      <td>0.780965</td>\n",
       "      <td>1.000000</td>\n",
       "      <td>-0.002347</td>\n",
       "      <td>0.000256</td>\n",
       "      <td>0.002000</td>\n",
       "      <td>-0.001502</td>\n",
       "      <td>-0.001893</td>\n",
       "      <td>0.021893</td>\n",
       "      <td>...</td>\n",
       "      <td>-0.014477</td>\n",
       "      <td>-0.038257</td>\n",
       "      <td>-0.138039</td>\n",
       "      <td>-0.141806</td>\n",
       "      <td>-0.033576</td>\n",
       "      <td>0.019394</td>\n",
       "      <td>0.127212</td>\n",
       "      <td>-0.144879</td>\n",
       "      <td>-0.263713</td>\n",
       "      <td>0.038313</td>\n",
       "      <td>0.223503</td>\n",
       "      <td>0.089603</td>\n",
       "      <td>-0.237300</td>\n",
       "      <td>0.001774</td>\n",
       "      <td>0.190566</td>\n",
       "    </tr>\n",
       "    <tr>\n",
       "      <th>home_address</th>\n",
       "      <td>-0.003624</td>\n",
       "      <td>0.084637</td>\n",
       "      <td>0.037607</td>\n",
       "      <td>-0.025240</td>\n",
       "      <td>-0.012032</td>\n",
       "      <td>0.038658</td>\n",
       "      <td>0.038658</td>\n",
       "      <td>0.009700</td>\n",
       "      <td>-0.002347</td>\n",
       "      <td>1.000000</td>\n",
       "      <td>0.728139</td>\n",
       "      <td>-0.969865</td>\n",
       "      <td>0.874173</td>\n",
       "      <td>0.355534</td>\n",
       "      <td>-0.362887</td>\n",
       "      <td>...</td>\n",
       "      <td>-0.029653</td>\n",
       "      <td>-0.014964</td>\n",
       "      <td>0.133674</td>\n",
       "      <td>0.087369</td>\n",
       "      <td>-0.013456</td>\n",
       "      <td>-0.058032</td>\n",
       "      <td>0.002460</td>\n",
       "      <td>0.063555</td>\n",
       "      <td>-0.001400</td>\n",
       "      <td>0.007198</td>\n",
       "      <td>-0.006792</td>\n",
       "      <td>-0.000479</td>\n",
       "      <td>-0.007061</td>\n",
       "      <td>0.018816</td>\n",
       "      <td>0.233820</td>\n",
       "    </tr>\n",
       "    <tr>\n",
       "      <th>work_address</th>\n",
       "      <td>-0.008535</td>\n",
       "      <td>0.081582</td>\n",
       "      <td>0.068967</td>\n",
       "      <td>-0.007523</td>\n",
       "      <td>0.000506</td>\n",
       "      <td>0.041769</td>\n",
       "      <td>0.041769</td>\n",
       "      <td>0.019824</td>\n",
       "      <td>0.000256</td>\n",
       "      <td>0.728139</td>\n",
       "      <td>1.000000</td>\n",
       "      <td>-0.753398</td>\n",
       "      <td>0.730600</td>\n",
       "      <td>0.077800</td>\n",
       "      <td>-0.773933</td>\n",
       "      <td>...</td>\n",
       "      <td>-0.030633</td>\n",
       "      <td>-0.009251</td>\n",
       "      <td>0.127418</td>\n",
       "      <td>0.085929</td>\n",
       "      <td>-0.006968</td>\n",
       "      <td>-0.054673</td>\n",
       "      <td>-0.005543</td>\n",
       "      <td>0.068719</td>\n",
       "      <td>-0.000144</td>\n",
       "      <td>0.008717</td>\n",
       "      <td>-0.009593</td>\n",
       "      <td>-0.001643</td>\n",
       "      <td>-0.007414</td>\n",
       "      <td>0.023399</td>\n",
       "      <td>0.253541</td>\n",
       "    </tr>\n",
       "    <tr>\n",
       "      <th>home_address_1</th>\n",
       "      <td>0.004775</td>\n",
       "      <td>-0.091058</td>\n",
       "      <td>-0.036522</td>\n",
       "      <td>0.027078</td>\n",
       "      <td>0.013287</td>\n",
       "      <td>-0.044411</td>\n",
       "      <td>-0.044411</td>\n",
       "      <td>-0.012165</td>\n",
       "      <td>0.002000</td>\n",
       "      <td>-0.969865</td>\n",
       "      <td>-0.753398</td>\n",
       "      <td>1.000000</td>\n",
       "      <td>-0.966147</td>\n",
       "      <td>-0.117094</td>\n",
       "      <td>0.375404</td>\n",
       "      <td>...</td>\n",
       "      <td>0.032196</td>\n",
       "      <td>0.016817</td>\n",
       "      <td>-0.139519</td>\n",
       "      <td>-0.089285</td>\n",
       "      <td>0.013533</td>\n",
       "      <td>0.060403</td>\n",
       "      <td>-0.003579</td>\n",
       "      <td>-0.064850</td>\n",
       "      <td>0.001541</td>\n",
       "      <td>-0.007812</td>\n",
       "      <td>0.007128</td>\n",
       "      <td>0.001474</td>\n",
       "      <td>0.007972</td>\n",
       "      <td>-0.020903</td>\n",
       "      <td>-0.257225</td>\n",
       "    </tr>\n",
       "    <tr>\n",
       "      <th>home_address_2</th>\n",
       "      <td>-0.005679</td>\n",
       "      <td>0.091869</td>\n",
       "      <td>0.032971</td>\n",
       "      <td>-0.027243</td>\n",
       "      <td>-0.013742</td>\n",
       "      <td>0.047582</td>\n",
       "      <td>0.047582</td>\n",
       "      <td>0.013976</td>\n",
       "      <td>-0.001502</td>\n",
       "      <td>0.874173</td>\n",
       "      <td>0.730600</td>\n",
       "      <td>-0.966147</td>\n",
       "      <td>1.000000</td>\n",
       "      <td>-0.143089</td>\n",
       "      <td>-0.363971</td>\n",
       "      <td>...</td>\n",
       "      <td>-0.032772</td>\n",
       "      <td>-0.017673</td>\n",
       "      <td>0.136533</td>\n",
       "      <td>0.085442</td>\n",
       "      <td>-0.012724</td>\n",
       "      <td>-0.058942</td>\n",
       "      <td>0.004529</td>\n",
       "      <td>0.061957</td>\n",
       "      <td>-0.001589</td>\n",
       "      <td>0.007948</td>\n",
       "      <td>-0.007015</td>\n",
       "      <td>-0.002430</td>\n",
       "      <td>-0.008412</td>\n",
       "      <td>0.021738</td>\n",
       "      <td>0.265091</td>\n",
       "    </tr>\n",
       "    <tr>\n",
       "      <th>home_address_3</th>\n",
       "      <td>0.003544</td>\n",
       "      <td>-0.004325</td>\n",
       "      <td>0.013186</td>\n",
       "      <td>0.000995</td>\n",
       "      <td>0.001926</td>\n",
       "      <td>-0.012794</td>\n",
       "      <td>-0.012794</td>\n",
       "      <td>-0.007130</td>\n",
       "      <td>-0.001893</td>\n",
       "      <td>0.355534</td>\n",
       "      <td>0.077800</td>\n",
       "      <td>-0.117094</td>\n",
       "      <td>-0.143089</td>\n",
       "      <td>1.000000</td>\n",
       "      <td>-0.039048</td>\n",
       "      <td>...</td>\n",
       "      <td>0.002644</td>\n",
       "      <td>0.003518</td>\n",
       "      <td>0.009649</td>\n",
       "      <td>0.013614</td>\n",
       "      <td>-0.002934</td>\n",
       "      <td>-0.004827</td>\n",
       "      <td>-0.003703</td>\n",
       "      <td>0.010279</td>\n",
       "      <td>0.000206</td>\n",
       "      <td>-0.000628</td>\n",
       "      <td>-0.000341</td>\n",
       "      <td>0.003699</td>\n",
       "      <td>0.001799</td>\n",
       "      <td>-0.003492</td>\n",
       "      <td>-0.033683</td>\n",
       "    </tr>\n",
       "    <tr>\n",
       "      <th>work_address_1</th>\n",
       "      <td>0.029394</td>\n",
       "      <td>-0.056622</td>\n",
       "      <td>-0.059426</td>\n",
       "      <td>-0.006176</td>\n",
       "      <td>-0.002173</td>\n",
       "      <td>-0.002958</td>\n",
       "      <td>-0.002958</td>\n",
       "      <td>-0.000965</td>\n",
       "      <td>0.021893</td>\n",
       "      <td>-0.362887</td>\n",
       "      <td>-0.773933</td>\n",
       "      <td>0.375404</td>\n",
       "      <td>-0.363971</td>\n",
       "      <td>-0.039048</td>\n",
       "      <td>1.000000</td>\n",
       "      <td>...</td>\n",
       "      <td>0.012807</td>\n",
       "      <td>-0.004773</td>\n",
       "      <td>-0.082707</td>\n",
       "      <td>-0.065971</td>\n",
       "      <td>-0.003575</td>\n",
       "      <td>0.030276</td>\n",
       "      <td>0.024991</td>\n",
       "      <td>-0.061696</td>\n",
       "      <td>-0.016564</td>\n",
       "      <td>0.000913</td>\n",
       "      <td>0.019790</td>\n",
       "      <td>0.007295</td>\n",
       "      <td>-0.009123</td>\n",
       "      <td>-0.016705</td>\n",
       "      <td>-0.132749</td>\n",
       "    </tr>\n",
       "    <tr>\n",
       "      <th>work_address_2</th>\n",
       "      <td>-0.028394</td>\n",
       "      <td>-0.045619</td>\n",
       "      <td>-0.022228</td>\n",
       "      <td>0.020313</td>\n",
       "      <td>0.002291</td>\n",
       "      <td>-0.060143</td>\n",
       "      <td>-0.060143</td>\n",
       "      <td>-0.029165</td>\n",
       "      <td>-0.031332</td>\n",
       "      <td>-0.608487</td>\n",
       "      <td>-0.446273</td>\n",
       "      <td>0.629697</td>\n",
       "      <td>-0.610745</td>\n",
       "      <td>-0.064628</td>\n",
       "      <td>-0.221324</td>\n",
       "      <td>...</td>\n",
       "      <td>0.029074</td>\n",
       "      <td>0.020991</td>\n",
       "      <td>-0.079341</td>\n",
       "      <td>-0.039101</td>\n",
       "      <td>0.015782</td>\n",
       "      <td>0.041409</td>\n",
       "      <td>-0.026780</td>\n",
       "      <td>-0.018638</td>\n",
       "      <td>0.023629</td>\n",
       "      <td>-0.014713</td>\n",
       "      <td>-0.013193</td>\n",
       "      <td>-0.007779</td>\n",
       "      <td>0.024310</td>\n",
       "      <td>-0.012427</td>\n",
       "      <td>-0.202847</td>\n",
       "    </tr>\n",
       "    <tr>\n",
       "      <th>work_address_3</th>\n",
       "      <td>0.007000</td>\n",
       "      <td>0.078609</td>\n",
       "      <td>0.058955</td>\n",
       "      <td>-0.014643</td>\n",
       "      <td>-0.000694</td>\n",
       "      <td>0.057133</td>\n",
       "      <td>0.057133</td>\n",
       "      <td>0.027401</td>\n",
       "      <td>0.014563</td>\n",
       "      <td>0.794020</td>\n",
       "      <td>0.911733</td>\n",
       "      <td>-0.821612</td>\n",
       "      <td>0.796796</td>\n",
       "      <td>0.084662</td>\n",
       "      <td>-0.445485</td>\n",
       "      <td>...</td>\n",
       "      <td>-0.034999</td>\n",
       "      <td>-0.016175</td>\n",
       "      <td>0.126489</td>\n",
       "      <td>0.078690</td>\n",
       "      <td>-0.012170</td>\n",
       "      <td>-0.057655</td>\n",
       "      <td>0.008375</td>\n",
       "      <td>0.057131</td>\n",
       "      <td>-0.010949</td>\n",
       "      <td>0.012916</td>\n",
       "      <td>-0.000725</td>\n",
       "      <td>0.002409</td>\n",
       "      <td>-0.016400</td>\n",
       "      <td>0.022245</td>\n",
       "      <td>0.272336</td>\n",
       "    </tr>\n",
       "    <tr>\n",
       "      <th>adresses_h2w3</th>\n",
       "      <td>-0.003156</td>\n",
       "      <td>0.094374</td>\n",
       "      <td>0.027847</td>\n",
       "      <td>-0.030828</td>\n",
       "      <td>-0.017849</td>\n",
       "      <td>0.044251</td>\n",
       "      <td>0.044251</td>\n",
       "      <td>0.008829</td>\n",
       "      <td>-0.004487</td>\n",
       "      <td>0.843369</td>\n",
       "      <td>0.765480</td>\n",
       "      <td>-0.932101</td>\n",
       "      <td>0.964762</td>\n",
       "      <td>-0.138046</td>\n",
       "      <td>-0.374023</td>\n",
       "      <td>...</td>\n",
       "      <td>-0.033873</td>\n",
       "      <td>-0.018502</td>\n",
       "      <td>0.142432</td>\n",
       "      <td>0.088495</td>\n",
       "      <td>-0.013470</td>\n",
       "      <td>-0.060002</td>\n",
       "      <td>0.003747</td>\n",
       "      <td>0.065139</td>\n",
       "      <td>-0.000308</td>\n",
       "      <td>0.006586</td>\n",
       "      <td>-0.007652</td>\n",
       "      <td>-0.002539</td>\n",
       "      <td>-0.007033</td>\n",
       "      <td>0.020833</td>\n",
       "      <td>0.260410</td>\n",
       "    </tr>\n",
       "    <tr>\n",
       "      <th>sna</th>\n",
       "      <td>-0.054041</td>\n",
       "      <td>0.125832</td>\n",
       "      <td>-0.003558</td>\n",
       "      <td>-0.072100</td>\n",
       "      <td>-0.085844</td>\n",
       "      <td>-0.174298</td>\n",
       "      <td>-0.174298</td>\n",
       "      <td>-0.163471</td>\n",
       "      <td>-0.155005</td>\n",
       "      <td>0.115196</td>\n",
       "      <td>0.111114</td>\n",
       "      <td>-0.119353</td>\n",
       "      <td>0.115907</td>\n",
       "      <td>0.011689</td>\n",
       "      <td>-0.078741</td>\n",
       "      <td>...</td>\n",
       "      <td>0.097337</td>\n",
       "      <td>0.274228</td>\n",
       "      <td>0.877810</td>\n",
       "      <td>0.518769</td>\n",
       "      <td>0.050447</td>\n",
       "      <td>-0.172754</td>\n",
       "      <td>-0.289339</td>\n",
       "      <td>0.693353</td>\n",
       "      <td>0.108592</td>\n",
       "      <td>-0.010426</td>\n",
       "      <td>-0.100539</td>\n",
       "      <td>-0.033533</td>\n",
       "      <td>0.093155</td>\n",
       "      <td>0.015577</td>\n",
       "      <td>-0.078199</td>\n",
       "    </tr>\n",
       "    <tr>\n",
       "      <th>first_time</th>\n",
       "      <td>0.055821</td>\n",
       "      <td>-0.105579</td>\n",
       "      <td>0.014126</td>\n",
       "      <td>0.089959</td>\n",
       "      <td>0.103973</td>\n",
       "      <td>0.194513</td>\n",
       "      <td>0.194513</td>\n",
       "      <td>0.185520</td>\n",
       "      <td>0.171439</td>\n",
       "      <td>-0.058476</td>\n",
       "      <td>-0.063202</td>\n",
       "      <td>0.059378</td>\n",
       "      <td>-0.056428</td>\n",
       "      <td>-0.010572</td>\n",
       "      <td>0.060677</td>\n",
       "      <td>...</td>\n",
       "      <td>-0.115460</td>\n",
       "      <td>-0.132324</td>\n",
       "      <td>-0.445350</td>\n",
       "      <td>-0.779818</td>\n",
       "      <td>-0.326933</td>\n",
       "      <td>0.199147</td>\n",
       "      <td>0.713416</td>\n",
       "      <td>-0.700058</td>\n",
       "      <td>-0.125445</td>\n",
       "      <td>0.021890</td>\n",
       "      <td>0.117537</td>\n",
       "      <td>0.041063</td>\n",
       "      <td>-0.102073</td>\n",
       "      <td>-0.030427</td>\n",
       "      <td>0.088777</td>\n",
       "    </tr>\n",
       "    <tr>\n",
       "      <th>sna_1</th>\n",
       "      <td>0.055517</td>\n",
       "      <td>-0.115534</td>\n",
       "      <td>0.000108</td>\n",
       "      <td>0.063244</td>\n",
       "      <td>0.076181</td>\n",
       "      <td>0.147972</td>\n",
       "      <td>0.147972</td>\n",
       "      <td>0.139117</td>\n",
       "      <td>0.134187</td>\n",
       "      <td>-0.073083</td>\n",
       "      <td>-0.070330</td>\n",
       "      <td>0.074792</td>\n",
       "      <td>-0.071683</td>\n",
       "      <td>-0.010978</td>\n",
       "      <td>0.055989</td>\n",
       "      <td>...</td>\n",
       "      <td>-0.547959</td>\n",
       "      <td>-0.325008</td>\n",
       "      <td>-0.581377</td>\n",
       "      <td>-0.417192</td>\n",
       "      <td>-0.123797</td>\n",
       "      <td>0.128353</td>\n",
       "      <td>0.314214</td>\n",
       "      <td>-0.795140</td>\n",
       "      <td>-0.101622</td>\n",
       "      <td>0.015257</td>\n",
       "      <td>0.093832</td>\n",
       "      <td>0.036747</td>\n",
       "      <td>-0.082939</td>\n",
       "      <td>-0.023332</td>\n",
       "      <td>0.079093</td>\n",
       "    </tr>\n",
       "    <tr>\n",
       "      <th>sna_2</th>\n",
       "      <td>-0.020611</td>\n",
       "      <td>0.028118</td>\n",
       "      <td>0.006407</td>\n",
       "      <td>-0.008811</td>\n",
       "      <td>-0.012200</td>\n",
       "      <td>-0.010956</td>\n",
       "      <td>-0.010956</td>\n",
       "      <td>-0.011893</td>\n",
       "      <td>-0.014477</td>\n",
       "      <td>-0.029653</td>\n",
       "      <td>-0.030633</td>\n",
       "      <td>0.032196</td>\n",
       "      <td>-0.032772</td>\n",
       "      <td>0.002644</td>\n",
       "      <td>0.012807</td>\n",
       "      <td>...</td>\n",
       "      <td>1.000000</td>\n",
       "      <td>-0.099766</td>\n",
       "      <td>-0.178463</td>\n",
       "      <td>0.004541</td>\n",
       "      <td>0.137731</td>\n",
       "      <td>0.022944</td>\n",
       "      <td>-0.144979</td>\n",
       "      <td>0.435704</td>\n",
       "      <td>0.024162</td>\n",
       "      <td>-0.011256</td>\n",
       "      <td>-0.022113</td>\n",
       "      <td>-0.016701</td>\n",
       "      <td>0.013429</td>\n",
       "      <td>0.018712</td>\n",
       "      <td>-0.028757</td>\n",
       "    </tr>\n",
       "    <tr>\n",
       "      <th>sna_3</th>\n",
       "      <td>-0.020487</td>\n",
       "      <td>0.022398</td>\n",
       "      <td>-0.002857</td>\n",
       "      <td>-0.016629</td>\n",
       "      <td>-0.020100</td>\n",
       "      <td>-0.041022</td>\n",
       "      <td>-0.041022</td>\n",
       "      <td>-0.035636</td>\n",
       "      <td>-0.038257</td>\n",
       "      <td>-0.014964</td>\n",
       "      <td>-0.009251</td>\n",
       "      <td>0.016817</td>\n",
       "      <td>-0.017673</td>\n",
       "      <td>0.003518</td>\n",
       "      <td>-0.004773</td>\n",
       "      <td>...</td>\n",
       "      <td>-0.099766</td>\n",
       "      <td>1.000000</td>\n",
       "      <td>-0.105851</td>\n",
       "      <td>0.062378</td>\n",
       "      <td>0.107872</td>\n",
       "      <td>-0.029273</td>\n",
       "      <td>-0.110182</td>\n",
       "      <td>0.258427</td>\n",
       "      <td>0.031655</td>\n",
       "      <td>-0.010184</td>\n",
       "      <td>-0.028504</td>\n",
       "      <td>-0.015150</td>\n",
       "      <td>0.022921</td>\n",
       "      <td>0.012787</td>\n",
       "      <td>-0.025127</td>\n",
       "    </tr>\n",
       "    <tr>\n",
       "      <th>sna_4</th>\n",
       "      <td>-0.040156</td>\n",
       "      <td>0.110448</td>\n",
       "      <td>-0.004497</td>\n",
       "      <td>-0.064032</td>\n",
       "      <td>-0.075566</td>\n",
       "      <td>-0.157757</td>\n",
       "      <td>-0.157757</td>\n",
       "      <td>-0.148629</td>\n",
       "      <td>-0.138039</td>\n",
       "      <td>0.133674</td>\n",
       "      <td>0.127418</td>\n",
       "      <td>-0.139519</td>\n",
       "      <td>0.136533</td>\n",
       "      <td>0.009649</td>\n",
       "      <td>-0.082707</td>\n",
       "      <td>...</td>\n",
       "      <td>-0.178463</td>\n",
       "      <td>-0.105851</td>\n",
       "      <td>1.000000</td>\n",
       "      <td>0.503510</td>\n",
       "      <td>-0.037555</td>\n",
       "      <td>-0.171938</td>\n",
       "      <td>-0.203715</td>\n",
       "      <td>0.462277</td>\n",
       "      <td>0.090191</td>\n",
       "      <td>-0.002810</td>\n",
       "      <td>-0.083920</td>\n",
       "      <td>-0.022646</td>\n",
       "      <td>0.081475</td>\n",
       "      <td>0.004610</td>\n",
       "      <td>-0.060340</td>\n",
       "    </tr>\n",
       "    <tr>\n",
       "      <th>first_time_1</th>\n",
       "      <td>-0.046058</td>\n",
       "      <td>0.079187</td>\n",
       "      <td>-0.017648</td>\n",
       "      <td>-0.077856</td>\n",
       "      <td>-0.088267</td>\n",
       "      <td>-0.147270</td>\n",
       "      <td>-0.147270</td>\n",
       "      <td>-0.150415</td>\n",
       "      <td>-0.141806</td>\n",
       "      <td>0.087369</td>\n",
       "      <td>0.085929</td>\n",
       "      <td>-0.089285</td>\n",
       "      <td>0.085442</td>\n",
       "      <td>0.013614</td>\n",
       "      <td>-0.065971</td>\n",
       "      <td>...</td>\n",
       "      <td>0.004541</td>\n",
       "      <td>0.062378</td>\n",
       "      <td>0.503510</td>\n",
       "      <td>1.000000</td>\n",
       "      <td>-0.192243</td>\n",
       "      <td>-0.382177</td>\n",
       "      <td>-0.260104</td>\n",
       "      <td>0.473692</td>\n",
       "      <td>0.102133</td>\n",
       "      <td>-0.013642</td>\n",
       "      <td>-0.093256</td>\n",
       "      <td>-0.030539</td>\n",
       "      <td>0.088170</td>\n",
       "      <td>0.012240</td>\n",
       "      <td>-0.061044</td>\n",
       "    </tr>\n",
       "    <tr>\n",
       "      <th>first_time_2</th>\n",
       "      <td>-0.016622</td>\n",
       "      <td>0.036820</td>\n",
       "      <td>0.008254</td>\n",
       "      <td>-0.022669</td>\n",
       "      <td>-0.024782</td>\n",
       "      <td>-0.036600</td>\n",
       "      <td>-0.036600</td>\n",
       "      <td>-0.035037</td>\n",
       "      <td>-0.033576</td>\n",
       "      <td>-0.013456</td>\n",
       "      <td>-0.006968</td>\n",
       "      <td>0.013533</td>\n",
       "      <td>-0.012724</td>\n",
       "      <td>-0.002934</td>\n",
       "      <td>-0.003575</td>\n",
       "      <td>...</td>\n",
       "      <td>0.137731</td>\n",
       "      <td>0.107872</td>\n",
       "      <td>-0.037555</td>\n",
       "      <td>-0.192243</td>\n",
       "      <td>1.000000</td>\n",
       "      <td>-0.369544</td>\n",
       "      <td>-0.251507</td>\n",
       "      <td>0.458035</td>\n",
       "      <td>0.028313</td>\n",
       "      <td>-0.006849</td>\n",
       "      <td>-0.031507</td>\n",
       "      <td>-0.010092</td>\n",
       "      <td>0.017370</td>\n",
       "      <td>0.022647</td>\n",
       "      <td>-0.002235</td>\n",
       "    </tr>\n",
       "    <tr>\n",
       "      <th>first_time_3</th>\n",
       "      <td>0.014429</td>\n",
       "      <td>-0.017311</td>\n",
       "      <td>-0.001153</td>\n",
       "      <td>0.025393</td>\n",
       "      <td>0.023385</td>\n",
       "      <td>-0.010955</td>\n",
       "      <td>-0.010955</td>\n",
       "      <td>0.012221</td>\n",
       "      <td>0.019394</td>\n",
       "      <td>-0.058032</td>\n",
       "      <td>-0.054673</td>\n",
       "      <td>0.060403</td>\n",
       "      <td>-0.058942</td>\n",
       "      <td>-0.004827</td>\n",
       "      <td>0.030276</td>\n",
       "      <td>...</td>\n",
       "      <td>0.022944</td>\n",
       "      <td>-0.029273</td>\n",
       "      <td>-0.171938</td>\n",
       "      <td>-0.382177</td>\n",
       "      <td>-0.369544</td>\n",
       "      <td>1.000000</td>\n",
       "      <td>-0.499994</td>\n",
       "      <td>-0.313543</td>\n",
       "      <td>-0.016025</td>\n",
       "      <td>-0.003836</td>\n",
       "      <td>0.016835</td>\n",
       "      <td>-0.000076</td>\n",
       "      <td>-0.016137</td>\n",
       "      <td>0.001193</td>\n",
       "      <td>-0.040228</td>\n",
       "    </tr>\n",
       "    <tr>\n",
       "      <th>first_time_4</th>\n",
       "      <td>0.036863</td>\n",
       "      <td>-0.078774</td>\n",
       "      <td>0.009495</td>\n",
       "      <td>0.056641</td>\n",
       "      <td>0.069584</td>\n",
       "      <td>0.168862</td>\n",
       "      <td>0.168862</td>\n",
       "      <td>0.143933</td>\n",
       "      <td>0.127212</td>\n",
       "      <td>0.002460</td>\n",
       "      <td>-0.005543</td>\n",
       "      <td>-0.003579</td>\n",
       "      <td>0.004529</td>\n",
       "      <td>-0.003703</td>\n",
       "      <td>0.024991</td>\n",
       "      <td>...</td>\n",
       "      <td>-0.144979</td>\n",
       "      <td>-0.110182</td>\n",
       "      <td>-0.203715</td>\n",
       "      <td>-0.260104</td>\n",
       "      <td>-0.251507</td>\n",
       "      <td>-0.499994</td>\n",
       "      <td>1.000000</td>\n",
       "      <td>-0.431451</td>\n",
       "      <td>-0.092737</td>\n",
       "      <td>0.021734</td>\n",
       "      <td>0.086900</td>\n",
       "      <td>0.034613</td>\n",
       "      <td>-0.071537</td>\n",
       "      <td>-0.030732</td>\n",
       "      <td>0.099704</td>\n",
       "    </tr>\n",
       "    <tr>\n",
       "      <th>sna_ft</th>\n",
       "      <td>-0.057790</td>\n",
       "      <td>0.121832</td>\n",
       "      <td>-0.000635</td>\n",
       "      <td>-0.073078</td>\n",
       "      <td>-0.085283</td>\n",
       "      <td>-0.163249</td>\n",
       "      <td>-0.163249</td>\n",
       "      <td>-0.152377</td>\n",
       "      <td>-0.144879</td>\n",
       "      <td>0.063555</td>\n",
       "      <td>0.068719</td>\n",
       "      <td>-0.064850</td>\n",
       "      <td>0.061957</td>\n",
       "      <td>0.010279</td>\n",
       "      <td>-0.061696</td>\n",
       "      <td>...</td>\n",
       "      <td>0.435704</td>\n",
       "      <td>0.258427</td>\n",
       "      <td>0.462277</td>\n",
       "      <td>0.473692</td>\n",
       "      <td>0.458035</td>\n",
       "      <td>-0.313543</td>\n",
       "      <td>-0.431451</td>\n",
       "      <td>1.000000</td>\n",
       "      <td>0.112944</td>\n",
       "      <td>-0.020223</td>\n",
       "      <td>-0.104400</td>\n",
       "      <td>-0.042705</td>\n",
       "      <td>0.090102</td>\n",
       "      <td>0.030345</td>\n",
       "      <td>-0.071205</td>\n",
       "    </tr>\n",
       "    <tr>\n",
       "      <th>education</th>\n",
       "      <td>-0.178534</td>\n",
       "      <td>0.084806</td>\n",
       "      <td>-0.041018</td>\n",
       "      <td>-0.139420</td>\n",
       "      <td>-0.184836</td>\n",
       "      <td>-0.181605</td>\n",
       "      <td>-0.181605</td>\n",
       "      <td>-0.227511</td>\n",
       "      <td>-0.263713</td>\n",
       "      <td>-0.001400</td>\n",
       "      <td>-0.000144</td>\n",
       "      <td>0.001541</td>\n",
       "      <td>-0.001589</td>\n",
       "      <td>0.000206</td>\n",
       "      <td>-0.016564</td>\n",
       "      <td>...</td>\n",
       "      <td>0.024162</td>\n",
       "      <td>0.031655</td>\n",
       "      <td>0.090191</td>\n",
       "      <td>0.102133</td>\n",
       "      <td>0.028313</td>\n",
       "      <td>-0.016025</td>\n",
       "      <td>-0.092737</td>\n",
       "      <td>0.112944</td>\n",
       "      <td>1.000000</td>\n",
       "      <td>-0.170060</td>\n",
       "      <td>-0.837369</td>\n",
       "      <td>-0.298221</td>\n",
       "      <td>0.923247</td>\n",
       "      <td>-0.067192</td>\n",
       "      <td>-0.126005</td>\n",
       "    </tr>\n",
       "    <tr>\n",
       "      <th>ACD</th>\n",
       "      <td>0.042083</td>\n",
       "      <td>-0.013223</td>\n",
       "      <td>0.016143</td>\n",
       "      <td>0.023733</td>\n",
       "      <td>0.030486</td>\n",
       "      <td>0.034771</td>\n",
       "      <td>0.034771</td>\n",
       "      <td>0.031796</td>\n",
       "      <td>0.038313</td>\n",
       "      <td>0.007198</td>\n",
       "      <td>0.008717</td>\n",
       "      <td>-0.007812</td>\n",
       "      <td>0.007948</td>\n",
       "      <td>-0.000628</td>\n",
       "      <td>0.000913</td>\n",
       "      <td>...</td>\n",
       "      <td>-0.011256</td>\n",
       "      <td>-0.010184</td>\n",
       "      <td>-0.002810</td>\n",
       "      <td>-0.013642</td>\n",
       "      <td>-0.006849</td>\n",
       "      <td>-0.003836</td>\n",
       "      <td>0.021734</td>\n",
       "      <td>-0.020223</td>\n",
       "      <td>-0.170060</td>\n",
       "      <td>1.000000</td>\n",
       "      <td>-0.035280</td>\n",
       "      <td>-0.006758</td>\n",
       "      <td>-0.054143</td>\n",
       "      <td>-0.020109</td>\n",
       "      <td>0.029699</td>\n",
       "    </tr>\n",
       "    <tr>\n",
       "      <th>GRD</th>\n",
       "      <td>0.151503</td>\n",
       "      <td>-0.075520</td>\n",
       "      <td>0.024790</td>\n",
       "      <td>0.110177</td>\n",
       "      <td>0.150997</td>\n",
       "      <td>0.151357</td>\n",
       "      <td>0.151357</td>\n",
       "      <td>0.191831</td>\n",
       "      <td>0.223503</td>\n",
       "      <td>-0.006792</td>\n",
       "      <td>-0.009593</td>\n",
       "      <td>0.007128</td>\n",
       "      <td>-0.007015</td>\n",
       "      <td>-0.000341</td>\n",
       "      <td>0.019790</td>\n",
       "      <td>...</td>\n",
       "      <td>-0.022113</td>\n",
       "      <td>-0.028504</td>\n",
       "      <td>-0.083920</td>\n",
       "      <td>-0.093256</td>\n",
       "      <td>-0.031507</td>\n",
       "      <td>0.016835</td>\n",
       "      <td>0.086900</td>\n",
       "      <td>-0.104400</td>\n",
       "      <td>-0.837369</td>\n",
       "      <td>-0.035280</td>\n",
       "      <td>1.000000</td>\n",
       "      <td>-0.090460</td>\n",
       "      <td>-0.724733</td>\n",
       "      <td>-0.269164</td>\n",
       "      <td>0.093076</td>\n",
       "    </tr>\n",
       "    <tr>\n",
       "      <th>PGR</th>\n",
       "      <td>0.048745</td>\n",
       "      <td>-0.024730</td>\n",
       "      <td>0.017084</td>\n",
       "      <td>0.066591</td>\n",
       "      <td>0.087431</td>\n",
       "      <td>0.062922</td>\n",
       "      <td>0.062922</td>\n",
       "      <td>0.087933</td>\n",
       "      <td>0.089603</td>\n",
       "      <td>-0.000479</td>\n",
       "      <td>-0.001643</td>\n",
       "      <td>0.001474</td>\n",
       "      <td>-0.002430</td>\n",
       "      <td>0.003699</td>\n",
       "      <td>0.007295</td>\n",
       "      <td>...</td>\n",
       "      <td>-0.016701</td>\n",
       "      <td>-0.015150</td>\n",
       "      <td>-0.022646</td>\n",
       "      <td>-0.030539</td>\n",
       "      <td>-0.010092</td>\n",
       "      <td>-0.000076</td>\n",
       "      <td>0.034613</td>\n",
       "      <td>-0.042705</td>\n",
       "      <td>-0.298221</td>\n",
       "      <td>-0.006758</td>\n",
       "      <td>-0.090460</td>\n",
       "      <td>1.000000</td>\n",
       "      <td>-0.138825</td>\n",
       "      <td>-0.051559</td>\n",
       "      <td>0.040313</td>\n",
       "    </tr>\n",
       "    <tr>\n",
       "      <th>SCH</th>\n",
       "      <td>-0.161683</td>\n",
       "      <td>0.074744</td>\n",
       "      <td>-0.041469</td>\n",
       "      <td>-0.121888</td>\n",
       "      <td>-0.157727</td>\n",
       "      <td>-0.162594</td>\n",
       "      <td>-0.162594</td>\n",
       "      <td>-0.200525</td>\n",
       "      <td>-0.237300</td>\n",
       "      <td>-0.007061</td>\n",
       "      <td>-0.007414</td>\n",
       "      <td>0.007972</td>\n",
       "      <td>-0.008412</td>\n",
       "      <td>0.001799</td>\n",
       "      <td>-0.009123</td>\n",
       "      <td>...</td>\n",
       "      <td>0.013429</td>\n",
       "      <td>0.022921</td>\n",
       "      <td>0.081475</td>\n",
       "      <td>0.088170</td>\n",
       "      <td>0.017370</td>\n",
       "      <td>-0.016137</td>\n",
       "      <td>-0.071537</td>\n",
       "      <td>0.090102</td>\n",
       "      <td>0.923247</td>\n",
       "      <td>-0.054143</td>\n",
       "      <td>-0.724733</td>\n",
       "      <td>-0.138825</td>\n",
       "      <td>1.000000</td>\n",
       "      <td>-0.413077</td>\n",
       "      <td>-0.123997</td>\n",
       "    </tr>\n",
       "    <tr>\n",
       "      <th>UGR</th>\n",
       "      <td>0.004559</td>\n",
       "      <td>0.005325</td>\n",
       "      <td>0.017953</td>\n",
       "      <td>-0.001180</td>\n",
       "      <td>-0.013554</td>\n",
       "      <td>0.001801</td>\n",
       "      <td>0.001801</td>\n",
       "      <td>-0.007145</td>\n",
       "      <td>0.001774</td>\n",
       "      <td>0.018816</td>\n",
       "      <td>0.023399</td>\n",
       "      <td>-0.020903</td>\n",
       "      <td>0.021738</td>\n",
       "      <td>-0.003492</td>\n",
       "      <td>-0.016705</td>\n",
       "      <td>...</td>\n",
       "      <td>0.018712</td>\n",
       "      <td>0.012787</td>\n",
       "      <td>0.004610</td>\n",
       "      <td>0.012240</td>\n",
       "      <td>0.022647</td>\n",
       "      <td>0.001193</td>\n",
       "      <td>-0.030732</td>\n",
       "      <td>0.030345</td>\n",
       "      <td>-0.067192</td>\n",
       "      <td>-0.020109</td>\n",
       "      <td>-0.269164</td>\n",
       "      <td>-0.051559</td>\n",
       "      <td>-0.413077</td>\n",
       "      <td>1.000000</td>\n",
       "      <td>0.034538</td>\n",
       "    </tr>\n",
       "    <tr>\n",
       "      <th>region_rating</th>\n",
       "      <td>0.073041</td>\n",
       "      <td>-0.089035</td>\n",
       "      <td>0.107711</td>\n",
       "      <td>0.064685</td>\n",
       "      <td>0.104110</td>\n",
       "      <td>0.255456</td>\n",
       "      <td>0.255456</td>\n",
       "      <td>0.212412</td>\n",
       "      <td>0.190566</td>\n",
       "      <td>0.233820</td>\n",
       "      <td>0.253541</td>\n",
       "      <td>-0.257225</td>\n",
       "      <td>0.265091</td>\n",
       "      <td>-0.033683</td>\n",
       "      <td>-0.132749</td>\n",
       "      <td>...</td>\n",
       "      <td>-0.028757</td>\n",
       "      <td>-0.025127</td>\n",
       "      <td>-0.060340</td>\n",
       "      <td>-0.061044</td>\n",
       "      <td>-0.002235</td>\n",
       "      <td>-0.040228</td>\n",
       "      <td>0.099704</td>\n",
       "      <td>-0.071205</td>\n",
       "      <td>-0.126005</td>\n",
       "      <td>0.029699</td>\n",
       "      <td>0.093076</td>\n",
       "      <td>0.040313</td>\n",
       "      <td>-0.123997</td>\n",
       "      <td>0.034538</td>\n",
       "      <td>1.000000</td>\n",
       "    </tr>\n",
       "  </tbody>\n",
       "</table>\n",
       "<p>36 rows × 36 columns</p>\n",
       "</div>"
      ],
      "text/plain": [
       "                    good_work   default     sex_M     car_Y  car_type_Y  \\\n",
       "good_work            1.000000 -0.043361 -0.040247  0.002027    0.017521   \n",
       "default             -0.043361  1.000000  0.019619 -0.043161   -0.057484   \n",
       "sex_M               -0.040247  0.019619  1.000000  0.279488    0.225578   \n",
       "car_Y                0.002027 -0.043161  0.279488  1.000000    0.697939   \n",
       "car_type_Y           0.017521 -0.057484  0.225578  0.697939    1.000000   \n",
       "foreign_passport_Y   0.046361 -0.066718  0.086326  0.107568    0.145807   \n",
       "fp                   0.046361 -0.066718  0.086326  0.107568    0.145807   \n",
       "fp_ct                0.033786 -0.077434  0.207091  0.532017    0.755733   \n",
       "fp_ct_gw             0.541828 -0.083467  0.138339  0.409521    0.590201   \n",
       "home_address        -0.003624  0.084637  0.037607 -0.025240   -0.012032   \n",
       "work_address        -0.008535  0.081582  0.068967 -0.007523    0.000506   \n",
       "home_address_1       0.004775 -0.091058 -0.036522  0.027078    0.013287   \n",
       "home_address_2      -0.005679  0.091869  0.032971 -0.027243   -0.013742   \n",
       "home_address_3       0.003544 -0.004325  0.013186  0.000995    0.001926   \n",
       "work_address_1       0.029394 -0.056622 -0.059426 -0.006176   -0.002173   \n",
       "work_address_2      -0.028394 -0.045619 -0.022228  0.020313    0.002291   \n",
       "work_address_3       0.007000  0.078609  0.058955 -0.014643   -0.000694   \n",
       "adresses_h2w3       -0.003156  0.094374  0.027847 -0.030828   -0.017849   \n",
       "sna                 -0.054041  0.125832 -0.003558 -0.072100   -0.085844   \n",
       "first_time           0.055821 -0.105579  0.014126  0.089959    0.103973   \n",
       "sna_1                0.055517 -0.115534  0.000108  0.063244    0.076181   \n",
       "sna_2               -0.020611  0.028118  0.006407 -0.008811   -0.012200   \n",
       "sna_3               -0.020487  0.022398 -0.002857 -0.016629   -0.020100   \n",
       "sna_4               -0.040156  0.110448 -0.004497 -0.064032   -0.075566   \n",
       "first_time_1        -0.046058  0.079187 -0.017648 -0.077856   -0.088267   \n",
       "first_time_2        -0.016622  0.036820  0.008254 -0.022669   -0.024782   \n",
       "first_time_3         0.014429 -0.017311 -0.001153  0.025393    0.023385   \n",
       "first_time_4         0.036863 -0.078774  0.009495  0.056641    0.069584   \n",
       "sna_ft              -0.057790  0.121832 -0.000635 -0.073078   -0.085283   \n",
       "education           -0.178534  0.084806 -0.041018 -0.139420   -0.184836   \n",
       "ACD                  0.042083 -0.013223  0.016143  0.023733    0.030486   \n",
       "GRD                  0.151503 -0.075520  0.024790  0.110177    0.150997   \n",
       "PGR                  0.048745 -0.024730  0.017084  0.066591    0.087431   \n",
       "SCH                 -0.161683  0.074744 -0.041469 -0.121888   -0.157727   \n",
       "UGR                  0.004559  0.005325  0.017953 -0.001180   -0.013554   \n",
       "region_rating        0.073041 -0.089035  0.107711  0.064685    0.104110   \n",
       "\n",
       "                    foreign_passport_Y        fp     fp_ct  fp_ct_gw  \\\n",
       "good_work                     0.046361  0.046361  0.033786  0.541828   \n",
       "default                      -0.066718 -0.066718 -0.077434 -0.083467   \n",
       "sex_M                         0.086326  0.086326  0.207091  0.138339   \n",
       "car_Y                         0.107568  0.107568  0.532017  0.409521   \n",
       "car_type_Y                    0.145807  0.145807  0.755733  0.590201   \n",
       "foreign_passport_Y            1.000000  1.000000  0.655761  0.512126   \n",
       "fp                            1.000000  1.000000  0.655761  0.512126   \n",
       "fp_ct                         0.655761  0.655761  1.000000  0.780965   \n",
       "fp_ct_gw                      0.512126  0.512126  0.780965  1.000000   \n",
       "home_address                  0.038658  0.038658  0.009700 -0.002347   \n",
       "work_address                  0.041769  0.041769  0.019824  0.000256   \n",
       "home_address_1               -0.044411 -0.044411 -0.012165  0.002000   \n",
       "home_address_2                0.047582  0.047582  0.013976 -0.001502   \n",
       "home_address_3               -0.012794 -0.012794 -0.007130 -0.001893   \n",
       "work_address_1               -0.002958 -0.002958 -0.000965  0.021893   \n",
       "work_address_2               -0.060143 -0.060143 -0.029165 -0.031332   \n",
       "work_address_3                0.057133  0.057133  0.027401  0.014563   \n",
       "adresses_h2w3                 0.044251  0.044251  0.008829 -0.004487   \n",
       "sna                          -0.174298 -0.174298 -0.163471 -0.155005   \n",
       "first_time                    0.194513  0.194513  0.185520  0.171439   \n",
       "sna_1                         0.147972  0.147972  0.139117  0.134187   \n",
       "sna_2                        -0.010956 -0.010956 -0.011893 -0.014477   \n",
       "sna_3                        -0.041022 -0.041022 -0.035636 -0.038257   \n",
       "sna_4                        -0.157757 -0.157757 -0.148629 -0.138039   \n",
       "first_time_1                 -0.147270 -0.147270 -0.150415 -0.141806   \n",
       "first_time_2                 -0.036600 -0.036600 -0.035037 -0.033576   \n",
       "first_time_3                 -0.010955 -0.010955  0.012221  0.019394   \n",
       "first_time_4                  0.168862  0.168862  0.143933  0.127212   \n",
       "sna_ft                       -0.163249 -0.163249 -0.152377 -0.144879   \n",
       "education                    -0.181605 -0.181605 -0.227511 -0.263713   \n",
       "ACD                           0.034771  0.034771  0.031796  0.038313   \n",
       "GRD                           0.151357  0.151357  0.191831  0.223503   \n",
       "PGR                           0.062922  0.062922  0.087933  0.089603   \n",
       "SCH                          -0.162594 -0.162594 -0.200525 -0.237300   \n",
       "UGR                           0.001801  0.001801 -0.007145  0.001774   \n",
       "region_rating                 0.255456  0.255456  0.212412  0.190566   \n",
       "\n",
       "                    home_address  work_address  home_address_1  \\\n",
       "good_work              -0.003624     -0.008535        0.004775   \n",
       "default                 0.084637      0.081582       -0.091058   \n",
       "sex_M                   0.037607      0.068967       -0.036522   \n",
       "car_Y                  -0.025240     -0.007523        0.027078   \n",
       "car_type_Y             -0.012032      0.000506        0.013287   \n",
       "foreign_passport_Y      0.038658      0.041769       -0.044411   \n",
       "fp                      0.038658      0.041769       -0.044411   \n",
       "fp_ct                   0.009700      0.019824       -0.012165   \n",
       "fp_ct_gw               -0.002347      0.000256        0.002000   \n",
       "home_address            1.000000      0.728139       -0.969865   \n",
       "work_address            0.728139      1.000000       -0.753398   \n",
       "home_address_1         -0.969865     -0.753398        1.000000   \n",
       "home_address_2          0.874173      0.730600       -0.966147   \n",
       "home_address_3          0.355534      0.077800       -0.117094   \n",
       "work_address_1         -0.362887     -0.773933        0.375404   \n",
       "work_address_2         -0.608487     -0.446273        0.629697   \n",
       "work_address_3          0.794020      0.911733       -0.821612   \n",
       "adresses_h2w3           0.843369      0.765480       -0.932101   \n",
       "sna                     0.115196      0.111114       -0.119353   \n",
       "first_time             -0.058476     -0.063202        0.059378   \n",
       "sna_1                  -0.073083     -0.070330        0.074792   \n",
       "sna_2                  -0.029653     -0.030633        0.032196   \n",
       "sna_3                  -0.014964     -0.009251        0.016817   \n",
       "sna_4                   0.133674      0.127418       -0.139519   \n",
       "first_time_1            0.087369      0.085929       -0.089285   \n",
       "first_time_2           -0.013456     -0.006968        0.013533   \n",
       "first_time_3           -0.058032     -0.054673        0.060403   \n",
       "first_time_4            0.002460     -0.005543       -0.003579   \n",
       "sna_ft                  0.063555      0.068719       -0.064850   \n",
       "education              -0.001400     -0.000144        0.001541   \n",
       "ACD                     0.007198      0.008717       -0.007812   \n",
       "GRD                    -0.006792     -0.009593        0.007128   \n",
       "PGR                    -0.000479     -0.001643        0.001474   \n",
       "SCH                    -0.007061     -0.007414        0.007972   \n",
       "UGR                     0.018816      0.023399       -0.020903   \n",
       "region_rating           0.233820      0.253541       -0.257225   \n",
       "\n",
       "                    home_address_2  home_address_3  work_address_1  ...  \\\n",
       "good_work                -0.005679        0.003544        0.029394  ...   \n",
       "default                   0.091869       -0.004325       -0.056622  ...   \n",
       "sex_M                     0.032971        0.013186       -0.059426  ...   \n",
       "car_Y                    -0.027243        0.000995       -0.006176  ...   \n",
       "car_type_Y               -0.013742        0.001926       -0.002173  ...   \n",
       "foreign_passport_Y        0.047582       -0.012794       -0.002958  ...   \n",
       "fp                        0.047582       -0.012794       -0.002958  ...   \n",
       "fp_ct                     0.013976       -0.007130       -0.000965  ...   \n",
       "fp_ct_gw                 -0.001502       -0.001893        0.021893  ...   \n",
       "home_address              0.874173        0.355534       -0.362887  ...   \n",
       "work_address              0.730600        0.077800       -0.773933  ...   \n",
       "home_address_1           -0.966147       -0.117094        0.375404  ...   \n",
       "home_address_2            1.000000       -0.143089       -0.363971  ...   \n",
       "home_address_3           -0.143089        1.000000       -0.039048  ...   \n",
       "work_address_1           -0.363971       -0.039048        1.000000  ...   \n",
       "work_address_2           -0.610745       -0.064628       -0.221324  ...   \n",
       "work_address_3            0.796796        0.084662       -0.445485  ...   \n",
       "adresses_h2w3             0.964762       -0.138046       -0.374023  ...   \n",
       "sna                       0.115907        0.011689       -0.078741  ...   \n",
       "first_time               -0.056428       -0.010572        0.060677  ...   \n",
       "sna_1                    -0.071683       -0.010978        0.055989  ...   \n",
       "sna_2                    -0.032772        0.002644        0.012807  ...   \n",
       "sna_3                    -0.017673        0.003518       -0.004773  ...   \n",
       "sna_4                     0.136533        0.009649       -0.082707  ...   \n",
       "first_time_1              0.085442        0.013614       -0.065971  ...   \n",
       "first_time_2             -0.012724       -0.002934       -0.003575  ...   \n",
       "first_time_3             -0.058942       -0.004827        0.030276  ...   \n",
       "first_time_4              0.004529       -0.003703        0.024991  ...   \n",
       "sna_ft                    0.061957        0.010279       -0.061696  ...   \n",
       "education                -0.001589        0.000206       -0.016564  ...   \n",
       "ACD                       0.007948       -0.000628        0.000913  ...   \n",
       "GRD                      -0.007015       -0.000341        0.019790  ...   \n",
       "PGR                      -0.002430        0.003699        0.007295  ...   \n",
       "SCH                      -0.008412        0.001799       -0.009123  ...   \n",
       "UGR                       0.021738       -0.003492       -0.016705  ...   \n",
       "region_rating             0.265091       -0.033683       -0.132749  ...   \n",
       "\n",
       "                       sna_2     sna_3     sna_4  first_time_1  first_time_2  \\\n",
       "good_work          -0.020611 -0.020487 -0.040156     -0.046058     -0.016622   \n",
       "default             0.028118  0.022398  0.110448      0.079187      0.036820   \n",
       "sex_M               0.006407 -0.002857 -0.004497     -0.017648      0.008254   \n",
       "car_Y              -0.008811 -0.016629 -0.064032     -0.077856     -0.022669   \n",
       "car_type_Y         -0.012200 -0.020100 -0.075566     -0.088267     -0.024782   \n",
       "foreign_passport_Y -0.010956 -0.041022 -0.157757     -0.147270     -0.036600   \n",
       "fp                 -0.010956 -0.041022 -0.157757     -0.147270     -0.036600   \n",
       "fp_ct              -0.011893 -0.035636 -0.148629     -0.150415     -0.035037   \n",
       "fp_ct_gw           -0.014477 -0.038257 -0.138039     -0.141806     -0.033576   \n",
       "home_address       -0.029653 -0.014964  0.133674      0.087369     -0.013456   \n",
       "work_address       -0.030633 -0.009251  0.127418      0.085929     -0.006968   \n",
       "home_address_1      0.032196  0.016817 -0.139519     -0.089285      0.013533   \n",
       "home_address_2     -0.032772 -0.017673  0.136533      0.085442     -0.012724   \n",
       "home_address_3      0.002644  0.003518  0.009649      0.013614     -0.002934   \n",
       "work_address_1      0.012807 -0.004773 -0.082707     -0.065971     -0.003575   \n",
       "work_address_2      0.029074  0.020991 -0.079341     -0.039101      0.015782   \n",
       "work_address_3     -0.034999 -0.016175  0.126489      0.078690     -0.012170   \n",
       "adresses_h2w3      -0.033873 -0.018502  0.142432      0.088495     -0.013470   \n",
       "sna                 0.097337  0.274228  0.877810      0.518769      0.050447   \n",
       "first_time         -0.115460 -0.132324 -0.445350     -0.779818     -0.326933   \n",
       "sna_1              -0.547959 -0.325008 -0.581377     -0.417192     -0.123797   \n",
       "sna_2               1.000000 -0.099766 -0.178463      0.004541      0.137731   \n",
       "sna_3              -0.099766  1.000000 -0.105851      0.062378      0.107872   \n",
       "sna_4              -0.178463 -0.105851  1.000000      0.503510     -0.037555   \n",
       "first_time_1        0.004541  0.062378  0.503510      1.000000     -0.192243   \n",
       "first_time_2        0.137731  0.107872 -0.037555     -0.192243      1.000000   \n",
       "first_time_3        0.022944 -0.029273 -0.171938     -0.382177     -0.369544   \n",
       "first_time_4       -0.144979 -0.110182 -0.203715     -0.260104     -0.251507   \n",
       "sna_ft              0.435704  0.258427  0.462277      0.473692      0.458035   \n",
       "education           0.024162  0.031655  0.090191      0.102133      0.028313   \n",
       "ACD                -0.011256 -0.010184 -0.002810     -0.013642     -0.006849   \n",
       "GRD                -0.022113 -0.028504 -0.083920     -0.093256     -0.031507   \n",
       "PGR                -0.016701 -0.015150 -0.022646     -0.030539     -0.010092   \n",
       "SCH                 0.013429  0.022921  0.081475      0.088170      0.017370   \n",
       "UGR                 0.018712  0.012787  0.004610      0.012240      0.022647   \n",
       "region_rating      -0.028757 -0.025127 -0.060340     -0.061044     -0.002235   \n",
       "\n",
       "                    first_time_3  first_time_4    sna_ft  education       ACD  \\\n",
       "good_work               0.014429      0.036863 -0.057790  -0.178534  0.042083   \n",
       "default                -0.017311     -0.078774  0.121832   0.084806 -0.013223   \n",
       "sex_M                  -0.001153      0.009495 -0.000635  -0.041018  0.016143   \n",
       "car_Y                   0.025393      0.056641 -0.073078  -0.139420  0.023733   \n",
       "car_type_Y              0.023385      0.069584 -0.085283  -0.184836  0.030486   \n",
       "foreign_passport_Y     -0.010955      0.168862 -0.163249  -0.181605  0.034771   \n",
       "fp                     -0.010955      0.168862 -0.163249  -0.181605  0.034771   \n",
       "fp_ct                   0.012221      0.143933 -0.152377  -0.227511  0.031796   \n",
       "fp_ct_gw                0.019394      0.127212 -0.144879  -0.263713  0.038313   \n",
       "home_address           -0.058032      0.002460  0.063555  -0.001400  0.007198   \n",
       "work_address           -0.054673     -0.005543  0.068719  -0.000144  0.008717   \n",
       "home_address_1          0.060403     -0.003579 -0.064850   0.001541 -0.007812   \n",
       "home_address_2         -0.058942      0.004529  0.061957  -0.001589  0.007948   \n",
       "home_address_3         -0.004827     -0.003703  0.010279   0.000206 -0.000628   \n",
       "work_address_1          0.030276      0.024991 -0.061696  -0.016564  0.000913   \n",
       "work_address_2          0.041409     -0.026780 -0.018638   0.023629 -0.014713   \n",
       "work_address_3         -0.057655      0.008375  0.057131  -0.010949  0.012916   \n",
       "adresses_h2w3          -0.060002      0.003747  0.065139  -0.000308  0.006586   \n",
       "sna                    -0.172754     -0.289339  0.693353   0.108592 -0.010426   \n",
       "first_time              0.199147      0.713416 -0.700058  -0.125445  0.021890   \n",
       "sna_1                   0.128353      0.314214 -0.795140  -0.101622  0.015257   \n",
       "sna_2                   0.022944     -0.144979  0.435704   0.024162 -0.011256   \n",
       "sna_3                  -0.029273     -0.110182  0.258427   0.031655 -0.010184   \n",
       "sna_4                  -0.171938     -0.203715  0.462277   0.090191 -0.002810   \n",
       "first_time_1           -0.382177     -0.260104  0.473692   0.102133 -0.013642   \n",
       "first_time_2           -0.369544     -0.251507  0.458035   0.028313 -0.006849   \n",
       "first_time_3            1.000000     -0.499994 -0.313543  -0.016025 -0.003836   \n",
       "first_time_4           -0.499994      1.000000 -0.431451  -0.092737  0.021734   \n",
       "sna_ft                 -0.313543     -0.431451  1.000000   0.112944 -0.020223   \n",
       "education              -0.016025     -0.092737  0.112944   1.000000 -0.170060   \n",
       "ACD                    -0.003836      0.021734 -0.020223  -0.170060  1.000000   \n",
       "GRD                     0.016835      0.086900 -0.104400  -0.837369 -0.035280   \n",
       "PGR                    -0.000076      0.034613 -0.042705  -0.298221 -0.006758   \n",
       "SCH                    -0.016137     -0.071537  0.090102   0.923247 -0.054143   \n",
       "UGR                     0.001193     -0.030732  0.030345  -0.067192 -0.020109   \n",
       "region_rating          -0.040228      0.099704 -0.071205  -0.126005  0.029699   \n",
       "\n",
       "                         GRD       PGR       SCH       UGR  region_rating  \n",
       "good_work           0.151503  0.048745 -0.161683  0.004559       0.073041  \n",
       "default            -0.075520 -0.024730  0.074744  0.005325      -0.089035  \n",
       "sex_M               0.024790  0.017084 -0.041469  0.017953       0.107711  \n",
       "car_Y               0.110177  0.066591 -0.121888 -0.001180       0.064685  \n",
       "car_type_Y          0.150997  0.087431 -0.157727 -0.013554       0.104110  \n",
       "foreign_passport_Y  0.151357  0.062922 -0.162594  0.001801       0.255456  \n",
       "fp                  0.151357  0.062922 -0.162594  0.001801       0.255456  \n",
       "fp_ct               0.191831  0.087933 -0.200525 -0.007145       0.212412  \n",
       "fp_ct_gw            0.223503  0.089603 -0.237300  0.001774       0.190566  \n",
       "home_address       -0.006792 -0.000479 -0.007061  0.018816       0.233820  \n",
       "work_address       -0.009593 -0.001643 -0.007414  0.023399       0.253541  \n",
       "home_address_1      0.007128  0.001474  0.007972 -0.020903      -0.257225  \n",
       "home_address_2     -0.007015 -0.002430 -0.008412  0.021738       0.265091  \n",
       "home_address_3     -0.000341  0.003699  0.001799 -0.003492      -0.033683  \n",
       "work_address_1      0.019790  0.007295 -0.009123 -0.016705      -0.132749  \n",
       "work_address_2     -0.013193 -0.007779  0.024310 -0.012427      -0.202847  \n",
       "work_address_3     -0.000725  0.002409 -0.016400  0.022245       0.272336  \n",
       "adresses_h2w3      -0.007652 -0.002539 -0.007033  0.020833       0.260410  \n",
       "sna                -0.100539 -0.033533  0.093155  0.015577      -0.078199  \n",
       "first_time          0.117537  0.041063 -0.102073 -0.030427       0.088777  \n",
       "sna_1               0.093832  0.036747 -0.082939 -0.023332       0.079093  \n",
       "sna_2              -0.022113 -0.016701  0.013429  0.018712      -0.028757  \n",
       "sna_3              -0.028504 -0.015150  0.022921  0.012787      -0.025127  \n",
       "sna_4              -0.083920 -0.022646  0.081475  0.004610      -0.060340  \n",
       "first_time_1       -0.093256 -0.030539  0.088170  0.012240      -0.061044  \n",
       "first_time_2       -0.031507 -0.010092  0.017370  0.022647      -0.002235  \n",
       "first_time_3        0.016835 -0.000076 -0.016137  0.001193      -0.040228  \n",
       "first_time_4        0.086900  0.034613 -0.071537 -0.030732       0.099704  \n",
       "sna_ft             -0.104400 -0.042705  0.090102  0.030345      -0.071205  \n",
       "education          -0.837369 -0.298221  0.923247 -0.067192      -0.126005  \n",
       "ACD                -0.035280 -0.006758 -0.054143 -0.020109       0.029699  \n",
       "GRD                 1.000000 -0.090460 -0.724733 -0.269164       0.093076  \n",
       "PGR                -0.090460  1.000000 -0.138825 -0.051559       0.040313  \n",
       "SCH                -0.724733 -0.138825  1.000000 -0.413077      -0.123997  \n",
       "UGR                -0.269164 -0.051559 -0.413077  1.000000       0.034538  \n",
       "region_rating       0.093076  0.040313 -0.123997  0.034538       1.000000  \n",
       "\n",
       "[36 rows x 36 columns]"
      ]
     },
     "execution_count": 59,
     "metadata": {},
     "output_type": "execute_result"
    }
   ],
   "source": [
    "X_low.corr()"
   ]
  },
  {
   "cell_type": "markdown",
   "metadata": {},
   "source": [
    "На этом мы заколнчили подготовку 2-7 мерных признаков. Далее мы будем обрабатывать количественные признаки боольшей размерности"
   ]
  },
  {
   "cell_type": "code",
   "execution_count": 60,
   "metadata": {},
   "outputs": [],
   "source": [
    "# a=hepts.corrwith(train['default'])"
   ]
  },
  {
   "cell_type": "code",
   "execution_count": 61,
   "metadata": {},
   "outputs": [],
   "source": [
    "# b=hepts.corrwith(hepts['region_rating'])"
   ]
  },
  {
   "cell_type": "code",
   "execution_count": 62,
   "metadata": {},
   "outputs": [],
   "source": [
    "# round(a/b, 3)"
   ]
  },
  {
   "cell_type": "code",
   "execution_count": null,
   "metadata": {},
   "outputs": [],
   "source": []
  },
  {
   "cell_type": "markdown",
   "metadata": {},
   "source": [
    "#### Признаки размерности 8+"
   ]
  },
  {
   "cell_type": "markdown",
   "metadata": {},
   "source": [
    "Итак, перед нами оставшиеся 7 признаков, среди которых один временной ряд. Посмотрим их описания "
   ]
  },
  {
   "cell_type": "code",
   "execution_count": 63,
   "metadata": {},
   "outputs": [
    {
     "data": {
      "text/plain": [
       "Index(['client_id', 'app_date', 'age', 'decline_app_cnt', 'score_bki',\n",
       "       'bki_request_cnt', 'income'],\n",
       "      dtype='object')"
      ]
     },
     "execution_count": 63,
     "metadata": {},
     "output_type": "execute_result"
    }
   ],
   "source": [
    "high_cols=train.columns[train.apply(pd.Series.nunique).values>7]\n",
    "high_cols"
   ]
  },
  {
   "cell_type": "code",
   "execution_count": 64,
   "metadata": {},
   "outputs": [
    {
     "data": {
      "text/html": [
       "<div>\n",
       "<style scoped>\n",
       "    .dataframe tbody tr th:only-of-type {\n",
       "        vertical-align: middle;\n",
       "    }\n",
       "\n",
       "    .dataframe tbody tr th {\n",
       "        vertical-align: top;\n",
       "    }\n",
       "\n",
       "    .dataframe thead th {\n",
       "        text-align: right;\n",
       "    }\n",
       "</style>\n",
       "<table border=\"1\" class=\"dataframe\">\n",
       "  <thead>\n",
       "    <tr style=\"text-align: right;\">\n",
       "      <th></th>\n",
       "      <th>client_id</th>\n",
       "      <th>app_date</th>\n",
       "      <th>age</th>\n",
       "      <th>decline_app_cnt</th>\n",
       "      <th>score_bki</th>\n",
       "      <th>bki_request_cnt</th>\n",
       "      <th>income</th>\n",
       "    </tr>\n",
       "  </thead>\n",
       "  <tbody>\n",
       "    <tr>\n",
       "      <th>0</th>\n",
       "      <td>25905</td>\n",
       "      <td>01FEB2014</td>\n",
       "      <td>62</td>\n",
       "      <td>0</td>\n",
       "      <td>-2.008753</td>\n",
       "      <td>1</td>\n",
       "      <td>18000</td>\n",
       "    </tr>\n",
       "    <tr>\n",
       "      <th>1</th>\n",
       "      <td>63161</td>\n",
       "      <td>12MAR2014</td>\n",
       "      <td>59</td>\n",
       "      <td>0</td>\n",
       "      <td>-1.532276</td>\n",
       "      <td>3</td>\n",
       "      <td>19000</td>\n",
       "    </tr>\n",
       "  </tbody>\n",
       "</table>\n",
       "</div>"
      ],
      "text/plain": [
       "   client_id   app_date  age  decline_app_cnt  score_bki  bki_request_cnt  \\\n",
       "0      25905  01FEB2014   62                0  -2.008753                1   \n",
       "1      63161  12MAR2014   59                0  -1.532276                3   \n",
       "\n",
       "   income  \n",
       "0   18000  \n",
       "1   19000  "
      ]
     },
     "execution_count": 64,
     "metadata": {},
     "output_type": "execute_result"
    }
   ],
   "source": [
    "highs=train[high_cols]\n",
    "highs.head(2)"
   ]
  },
  {
   "cell_type": "code",
   "execution_count": 65,
   "metadata": {},
   "outputs": [
    {
     "data": {
      "text/html": [
       "<div>\n",
       "<style scoped>\n",
       "    .dataframe tbody tr th:only-of-type {\n",
       "        vertical-align: middle;\n",
       "    }\n",
       "\n",
       "    .dataframe tbody tr th {\n",
       "        vertical-align: top;\n",
       "    }\n",
       "\n",
       "    .dataframe thead th {\n",
       "        text-align: right;\n",
       "    }\n",
       "</style>\n",
       "<table border=\"1\" class=\"dataframe\">\n",
       "  <thead>\n",
       "    <tr style=\"text-align: right;\">\n",
       "      <th></th>\n",
       "      <th>client_id</th>\n",
       "      <th>age</th>\n",
       "      <th>decline_app_cnt</th>\n",
       "      <th>score_bki</th>\n",
       "      <th>bki_request_cnt</th>\n",
       "      <th>income</th>\n",
       "    </tr>\n",
       "  </thead>\n",
       "  <tbody>\n",
       "    <tr>\n",
       "      <th>count</th>\n",
       "      <td>73799.00</td>\n",
       "      <td>73799.00</td>\n",
       "      <td>73799.00</td>\n",
       "      <td>73799.00</td>\n",
       "      <td>73799.00</td>\n",
       "      <td>73799.00</td>\n",
       "    </tr>\n",
       "    <tr>\n",
       "      <th>mean</th>\n",
       "      <td>55137.97</td>\n",
       "      <td>39.28</td>\n",
       "      <td>0.28</td>\n",
       "      <td>-1.90</td>\n",
       "      <td>2.00</td>\n",
       "      <td>41099.78</td>\n",
       "    </tr>\n",
       "    <tr>\n",
       "      <th>std</th>\n",
       "      <td>31841.92</td>\n",
       "      <td>11.52</td>\n",
       "      <td>0.80</td>\n",
       "      <td>0.50</td>\n",
       "      <td>2.25</td>\n",
       "      <td>46166.32</td>\n",
       "    </tr>\n",
       "    <tr>\n",
       "      <th>min</th>\n",
       "      <td>1.00</td>\n",
       "      <td>21.00</td>\n",
       "      <td>0.00</td>\n",
       "      <td>-3.62</td>\n",
       "      <td>0.00</td>\n",
       "      <td>1000.00</td>\n",
       "    </tr>\n",
       "    <tr>\n",
       "      <th>25%</th>\n",
       "      <td>27440.50</td>\n",
       "      <td>30.00</td>\n",
       "      <td>0.00</td>\n",
       "      <td>-2.26</td>\n",
       "      <td>0.00</td>\n",
       "      <td>20000.00</td>\n",
       "    </tr>\n",
       "    <tr>\n",
       "      <th>50%</th>\n",
       "      <td>55274.00</td>\n",
       "      <td>37.00</td>\n",
       "      <td>0.00</td>\n",
       "      <td>-1.92</td>\n",
       "      <td>1.00</td>\n",
       "      <td>30000.00</td>\n",
       "    </tr>\n",
       "    <tr>\n",
       "      <th>75%</th>\n",
       "      <td>82758.50</td>\n",
       "      <td>48.00</td>\n",
       "      <td>0.00</td>\n",
       "      <td>-1.57</td>\n",
       "      <td>3.00</td>\n",
       "      <td>48000.00</td>\n",
       "    </tr>\n",
       "    <tr>\n",
       "      <th>max</th>\n",
       "      <td>110147.00</td>\n",
       "      <td>72.00</td>\n",
       "      <td>33.00</td>\n",
       "      <td>0.20</td>\n",
       "      <td>53.00</td>\n",
       "      <td>1000000.00</td>\n",
       "    </tr>\n",
       "  </tbody>\n",
       "</table>\n",
       "</div>"
      ],
      "text/plain": [
       "       client_id       age  decline_app_cnt  score_bki  bki_request_cnt  \\\n",
       "count   73799.00  73799.00         73799.00   73799.00         73799.00   \n",
       "mean    55137.97     39.28             0.28      -1.90             2.00   \n",
       "std     31841.92     11.52             0.80       0.50             2.25   \n",
       "min         1.00     21.00             0.00      -3.62             0.00   \n",
       "25%     27440.50     30.00             0.00      -2.26             0.00   \n",
       "50%     55274.00     37.00             0.00      -1.92             1.00   \n",
       "75%     82758.50     48.00             0.00      -1.57             3.00   \n",
       "max    110147.00     72.00            33.00       0.20            53.00   \n",
       "\n",
       "           income  \n",
       "count    73799.00  \n",
       "mean     41099.78  \n",
       "std      46166.32  \n",
       "min       1000.00  \n",
       "25%      20000.00  \n",
       "50%      30000.00  \n",
       "75%      48000.00  \n",
       "max    1000000.00  "
      ]
     },
     "execution_count": 65,
     "metadata": {},
     "output_type": "execute_result"
    }
   ],
   "source": [
    "highs.describe().round(2)"
   ]
  },
  {
   "cell_type": "code",
   "execution_count": 66,
   "metadata": {},
   "outputs": [
    {
     "data": {
      "text/html": [
       "<div>\n",
       "<style scoped>\n",
       "    .dataframe tbody tr th:only-of-type {\n",
       "        vertical-align: middle;\n",
       "    }\n",
       "\n",
       "    .dataframe tbody tr th {\n",
       "        vertical-align: top;\n",
       "    }\n",
       "\n",
       "    .dataframe thead th {\n",
       "        text-align: right;\n",
       "    }\n",
       "</style>\n",
       "<table border=\"1\" class=\"dataframe\">\n",
       "  <thead>\n",
       "    <tr style=\"text-align: right;\">\n",
       "      <th></th>\n",
       "      <th>client_id</th>\n",
       "      <th>age</th>\n",
       "      <th>decline_app_cnt</th>\n",
       "      <th>score_bki</th>\n",
       "      <th>bki_request_cnt</th>\n",
       "      <th>income</th>\n",
       "    </tr>\n",
       "  </thead>\n",
       "  <tbody>\n",
       "    <tr>\n",
       "      <th>client_id</th>\n",
       "      <td>1.000000</td>\n",
       "      <td>0.015435</td>\n",
       "      <td>-0.021417</td>\n",
       "      <td>-0.063293</td>\n",
       "      <td>-0.029028</td>\n",
       "      <td>-0.000099</td>\n",
       "    </tr>\n",
       "    <tr>\n",
       "      <th>age</th>\n",
       "      <td>0.015435</td>\n",
       "      <td>1.000000</td>\n",
       "      <td>-0.111175</td>\n",
       "      <td>-0.106275</td>\n",
       "      <td>0.046265</td>\n",
       "      <td>-0.018900</td>\n",
       "    </tr>\n",
       "    <tr>\n",
       "      <th>decline_app_cnt</th>\n",
       "      <td>-0.021417</td>\n",
       "      <td>-0.111175</td>\n",
       "      <td>1.000000</td>\n",
       "      <td>0.189987</td>\n",
       "      <td>0.155894</td>\n",
       "      <td>-0.021687</td>\n",
       "    </tr>\n",
       "    <tr>\n",
       "      <th>score_bki</th>\n",
       "      <td>-0.063293</td>\n",
       "      <td>-0.106275</td>\n",
       "      <td>0.189987</td>\n",
       "      <td>1.000000</td>\n",
       "      <td>0.156257</td>\n",
       "      <td>-0.012639</td>\n",
       "    </tr>\n",
       "    <tr>\n",
       "      <th>bki_request_cnt</th>\n",
       "      <td>-0.029028</td>\n",
       "      <td>0.046265</td>\n",
       "      <td>0.155894</td>\n",
       "      <td>0.156257</td>\n",
       "      <td>1.000000</td>\n",
       "      <td>0.082983</td>\n",
       "    </tr>\n",
       "    <tr>\n",
       "      <th>income</th>\n",
       "      <td>-0.000099</td>\n",
       "      <td>-0.018900</td>\n",
       "      <td>-0.021687</td>\n",
       "      <td>-0.012639</td>\n",
       "      <td>0.082983</td>\n",
       "      <td>1.000000</td>\n",
       "    </tr>\n",
       "  </tbody>\n",
       "</table>\n",
       "</div>"
      ],
      "text/plain": [
       "                 client_id       age  decline_app_cnt  score_bki  \\\n",
       "client_id         1.000000  0.015435        -0.021417  -0.063293   \n",
       "age               0.015435  1.000000        -0.111175  -0.106275   \n",
       "decline_app_cnt  -0.021417 -0.111175         1.000000   0.189987   \n",
       "score_bki        -0.063293 -0.106275         0.189987   1.000000   \n",
       "bki_request_cnt  -0.029028  0.046265         0.155894   0.156257   \n",
       "income           -0.000099 -0.018900        -0.021687  -0.012639   \n",
       "\n",
       "                 bki_request_cnt    income  \n",
       "client_id              -0.029028 -0.000099  \n",
       "age                     0.046265 -0.018900  \n",
       "decline_app_cnt         0.155894 -0.021687  \n",
       "score_bki               0.156257 -0.012639  \n",
       "bki_request_cnt         1.000000  0.082983  \n",
       "income                  0.082983  1.000000  "
      ]
     },
     "execution_count": 66,
     "metadata": {},
     "output_type": "execute_result"
    }
   ],
   "source": [
    "highs.corr()"
   ]
  },
  {
   "cell_type": "code",
   "execution_count": null,
   "metadata": {},
   "outputs": [],
   "source": []
  },
  {
   "cell_type": "code",
   "execution_count": 67,
   "metadata": {},
   "outputs": [
    {
     "data": {
      "text/plain": [
       "array([[<AxesSubplot:title={'center':'client_id'}>,\n",
       "        <AxesSubplot:title={'center':'age'}>],\n",
       "       [<AxesSubplot:title={'center':'decline_app_cnt'}>,\n",
       "        <AxesSubplot:title={'center':'score_bki'}>],\n",
       "       [<AxesSubplot:title={'center':'bki_request_cnt'}>,\n",
       "        <AxesSubplot:title={'center':'income'}>]], dtype=object)"
      ]
     },
     "execution_count": 67,
     "metadata": {},
     "output_type": "execute_result"
    },
    {
     "data": {
      "image/png": "[encoded data removed]",
      "text/plain": [
       "<Figure size 1440x1440 with 6 Axes>"
      ]
     },
     "metadata": {
      "needs_background": "light"
     },
     "output_type": "display_data"
    }
   ],
   "source": [
    "highs.hist(xlabelsize=8, ylabelsize=8, figsize=(20, 20) )"
   ]
  },
  {
   "cell_type": "code",
   "execution_count": null,
   "metadata": {},
   "outputs": [],
   "source": []
  },
  {
   "cell_type": "markdown",
   "metadata": {},
   "source": [
    "Попробуем винсоризировать переменные с тяжёлыми хвостами"
   ]
  },
  {
   "cell_type": "code",
   "execution_count": 68,
   "metadata": {},
   "outputs": [],
   "source": [
    "towins_cols=['decline_app_cnt', 'score_bki',\n",
    "       'bki_request_cnt', 'income']"
   ]
  },
  {
   "cell_type": "code",
   "execution_count": 69,
   "metadata": {},
   "outputs": [],
   "source": [
    "towins=highs[towins_cols]\n"
   ]
  },
  {
   "cell_type": "code",
   "execution_count": 70,
   "metadata": {},
   "outputs": [
    {
     "name": "stderr",
     "output_type": "stream",
     "text": [
      "C:\\Users\\User\\anaconda3\\envs\\spyder\\lib\\site-packages\\ipykernel_launcher.py:2: SettingWithCopyWarning: \n",
      "A value is trying to be set on a copy of a slice from a DataFrame.\n",
      "Try using .loc[row_indexer,col_indexer] = value instead\n",
      "\n",
      "See the caveats in the documentation: https://pandas.pydata.org/pandas-docs/stable/user_guide/indexing.html#returning-a-view-versus-a-copy\n",
      "  \n"
     ]
    },
    {
     "data": {
      "text/plain": [
       "decline_app_cnt    0.119740\n",
       "score_bki          0.175260\n",
       "bki_request_cnt    0.078140\n",
       "income            -0.047169\n",
       "dtype: float64"
      ]
     },
     "execution_count": 70,
     "metadata": {},
     "output_type": "execute_result"
    }
   ],
   "source": [
    "\n",
    "for col in towins_cols:\n",
    "    towins[col]=winsorize(towins[col], limits = 0.005)\n",
    "towins.corrwith(train['default'])"
   ]
  },
  {
   "cell_type": "code",
   "execution_count": 71,
   "metadata": {},
   "outputs": [
    {
     "data": {
      "text/plain": [
       "client_id         -0.039242\n",
       "age               -0.025004\n",
       "decline_app_cnt    0.113682\n",
       "score_bki          0.175369\n",
       "bki_request_cnt    0.078242\n",
       "income            -0.039752\n",
       "dtype: float64"
      ]
     },
     "execution_count": 71,
     "metadata": {},
     "output_type": "execute_result"
    }
   ],
   "source": [
    "highs.corrwith(train['default'])"
   ]
  },
  {
   "cell_type": "markdown",
   "metadata": {},
   "source": [
    "Отмечается слабое влияние на целевую переменную признаков score_bki, decline_app_cnt и bki_request_cnt"
   ]
  },
  {
   "cell_type": "code",
   "execution_count": null,
   "metadata": {},
   "outputs": [],
   "source": []
  },
  {
   "cell_type": "code",
   "execution_count": 72,
   "metadata": {},
   "outputs": [
    {
     "name": "stderr",
     "output_type": "stream",
     "text": [
      "C:\\Users\\User\\anaconda3\\envs\\spyder\\lib\\site-packages\\ipykernel_launcher.py:1: SettingWithCopyWarning: \n",
      "A value is trying to be set on a copy of a slice from a DataFrame.\n",
      "Try using .loc[row_indexer,col_indexer] = value instead\n",
      "\n",
      "See the caveats in the documentation: https://pandas.pydata.org/pandas-docs/stable/user_guide/indexing.html#returning-a-view-versus-a-copy\n",
      "  \"\"\"Entry point for launching an IPython kernel.\n"
     ]
    },
    {
     "data": {
      "text/plain": [
       "decline_app_cnt_om    0.124027\n",
       "dtype: float64"
      ]
     },
     "execution_count": 72,
     "metadata": {},
     "output_type": "execute_result"
    }
   ],
   "source": [
    "highs['decline_app_cnt_om']=np.log10(highs['decline_app_cnt']+1)\n",
    "highs[['decline_app_cnt_om']].corrwith(train['default'])"
   ]
  },
  {
   "cell_type": "code",
   "execution_count": 73,
   "metadata": {},
   "outputs": [
    {
     "name": "stderr",
     "output_type": "stream",
     "text": [
      "C:\\Users\\User\\anaconda3\\envs\\spyder\\lib\\site-packages\\ipykernel_launcher.py:1: SettingWithCopyWarning: \n",
      "A value is trying to be set on a copy of a slice from a DataFrame.\n",
      "Try using .loc[row_indexer,col_indexer] = value instead\n",
      "\n",
      "See the caveats in the documentation: https://pandas.pydata.org/pandas-docs/stable/user_guide/indexing.html#returning-a-view-versus-a-copy\n",
      "  \"\"\"Entry point for launching an IPython kernel.\n",
      "C:\\Users\\User\\anaconda3\\envs\\spyder\\lib\\site-packages\\pandas\\core\\indexing.py:1736: SettingWithCopyWarning: \n",
      "A value is trying to be set on a copy of a slice from a DataFrame.\n",
      "Try using .loc[row_indexer,col_indexer] = value instead\n",
      "\n",
      "See the caveats in the documentation: https://pandas.pydata.org/pandas-docs/stable/user_guide/indexing.html#returning-a-view-versus-a-copy\n",
      "  isetter(loc, value[:, i].tolist())\n"
     ]
    }
   ],
   "source": [
    "highs[['age', 'decline_app_cnt', 'score_bki', 'bki_request_cnt']]=mms.fit_transform(highs[['age', 'decline_app_cnt', 'score_bki', 'bki_request_cnt']])"
   ]
  },
  {
   "cell_type": "code",
   "execution_count": 74,
   "metadata": {},
   "outputs": [
    {
     "name": "stderr",
     "output_type": "stream",
     "text": [
      "C:\\Users\\User\\anaconda3\\envs\\spyder\\lib\\site-packages\\ipykernel_launcher.py:1: SettingWithCopyWarning: \n",
      "A value is trying to be set on a copy of a slice from a DataFrame.\n",
      "Try using .loc[row_indexer,col_indexer] = value instead\n",
      "\n",
      "See the caveats in the documentation: https://pandas.pydata.org/pandas-docs/stable/user_guide/indexing.html#returning-a-view-versus-a-copy\n",
      "  \"\"\"Entry point for launching an IPython kernel.\n"
     ]
    },
    {
     "data": {
      "text/plain": [
       "income   -0.053871\n",
       "dtype: float64"
      ]
     },
     "execution_count": 74,
     "metadata": {},
     "output_type": "execute_result"
    }
   ],
   "source": [
    "highs['income']=np.log10(highs[['income']]+1)\n",
    "highs[['income']].corrwith(train['default'])"
   ]
  },
  {
   "cell_type": "code",
   "execution_count": null,
   "metadata": {},
   "outputs": [],
   "source": []
  },
  {
   "cell_type": "markdown",
   "metadata": {},
   "source": [
    "В корреляционное сопоставление не попадл один из нашихпризнаков- временной ряд 'app_date'. \n",
    "Для того чтобы извлечь необходимую нам информацию, осуществим преобразование этого параметра"
   ]
  },
  {
   "cell_type": "code",
   "execution_count": 75,
   "metadata": {},
   "outputs": [
    {
     "name": "stderr",
     "output_type": "stream",
     "text": [
      "C:\\Users\\User\\anaconda3\\envs\\spyder\\lib\\site-packages\\ipykernel_launcher.py:1: SettingWithCopyWarning: \n",
      "A value is trying to be set on a copy of a slice from a DataFrame.\n",
      "Try using .loc[row_indexer,col_indexer] = value instead\n",
      "\n",
      "See the caveats in the documentation: https://pandas.pydata.org/pandas-docs/stable/user_guide/indexing.html#returning-a-view-versus-a-copy\n",
      "  \"\"\"Entry point for launching an IPython kernel.\n"
     ]
    }
   ],
   "source": [
    "highs['app_date'] = pd.to_datetime(highs.app_date)"
   ]
  },
  {
   "cell_type": "code",
   "execution_count": 76,
   "metadata": {},
   "outputs": [
    {
     "data": {
      "text/plain": [
       "0   2014-02-01\n",
       "1   2014-03-12\n",
       "2   2014-02-01\n",
       "3   2014-01-23\n",
       "4   2014-04-18\n",
       "Name: app_date, dtype: datetime64[ns]"
      ]
     },
     "execution_count": 76,
     "metadata": {},
     "output_type": "execute_result"
    }
   ],
   "source": [
    "highs['app_date'].head()"
   ]
  },
  {
   "cell_type": "code",
   "execution_count": 77,
   "metadata": {},
   "outputs": [
    {
     "name": "stderr",
     "output_type": "stream",
     "text": [
      "C:\\Users\\User\\anaconda3\\envs\\spyder\\lib\\site-packages\\ipykernel_launcher.py:1: SettingWithCopyWarning: \n",
      "A value is trying to be set on a copy of a slice from a DataFrame.\n",
      "Try using .loc[row_indexer,col_indexer] = value instead\n",
      "\n",
      "See the caveats in the documentation: https://pandas.pydata.org/pandas-docs/stable/user_guide/indexing.html#returning-a-view-versus-a-copy\n",
      "  \"\"\"Entry point for launching an IPython kernel.\n"
     ]
    }
   ],
   "source": [
    "highs['app_monthday']= highs['app_date'].apply(lambda x: x.day).astype('float64')\n"
   ]
  },
  {
   "cell_type": "code",
   "execution_count": 78,
   "metadata": {},
   "outputs": [
    {
     "name": "stderr",
     "output_type": "stream",
     "text": [
      "C:\\Users\\User\\anaconda3\\envs\\spyder\\lib\\site-packages\\ipykernel_launcher.py:1: SettingWithCopyWarning: \n",
      "A value is trying to be set on a copy of a slice from a DataFrame.\n",
      "Try using .loc[row_indexer,col_indexer] = value instead\n",
      "\n",
      "See the caveats in the documentation: https://pandas.pydata.org/pandas-docs/stable/user_guide/indexing.html#returning-a-view-versus-a-copy\n",
      "  \"\"\"Entry point for launching an IPython kernel.\n"
     ]
    }
   ],
   "source": [
    "highs['month']=highs['app_date'].dt.month.astype('int64')"
   ]
  },
  {
   "cell_type": "code",
   "execution_count": 79,
   "metadata": {},
   "outputs": [
    {
     "name": "stderr",
     "output_type": "stream",
     "text": [
      "C:\\Users\\User\\anaconda3\\envs\\spyder\\lib\\site-packages\\ipykernel_launcher.py:1: SettingWithCopyWarning: \n",
      "A value is trying to be set on a copy of a slice from a DataFrame.\n",
      "Try using .loc[row_indexer,col_indexer] = value instead\n",
      "\n",
      "See the caveats in the documentation: https://pandas.pydata.org/pandas-docs/stable/user_guide/indexing.html#returning-a-view-versus-a-copy\n",
      "  \"\"\"Entry point for launching an IPython kernel.\n"
     ]
    },
    {
     "data": {
      "text/html": [
       "<div>\n",
       "<style scoped>\n",
       "    .dataframe tbody tr th:only-of-type {\n",
       "        vertical-align: middle;\n",
       "    }\n",
       "\n",
       "    .dataframe tbody tr th {\n",
       "        vertical-align: top;\n",
       "    }\n",
       "\n",
       "    .dataframe thead th {\n",
       "        text-align: right;\n",
       "    }\n",
       "</style>\n",
       "<table border=\"1\" class=\"dataframe\">\n",
       "  <thead>\n",
       "    <tr style=\"text-align: right;\">\n",
       "      <th></th>\n",
       "      <th>app_weekday</th>\n",
       "    </tr>\n",
       "  </thead>\n",
       "  <tbody>\n",
       "    <tr>\n",
       "      <th>0</th>\n",
       "      <td>5.0</td>\n",
       "    </tr>\n",
       "    <tr>\n",
       "      <th>1</th>\n",
       "      <td>2.0</td>\n",
       "    </tr>\n",
       "    <tr>\n",
       "      <th>2</th>\n",
       "      <td>5.0</td>\n",
       "    </tr>\n",
       "    <tr>\n",
       "      <th>3</th>\n",
       "      <td>3.0</td>\n",
       "    </tr>\n",
       "    <tr>\n",
       "      <th>4</th>\n",
       "      <td>4.0</td>\n",
       "    </tr>\n",
       "  </tbody>\n",
       "</table>\n",
       "</div>"
      ],
      "text/plain": [
       "   app_weekday\n",
       "0          5.0\n",
       "1          2.0\n",
       "2          5.0\n",
       "3          3.0\n",
       "4          4.0"
      ]
     },
     "execution_count": 79,
     "metadata": {},
     "output_type": "execute_result"
    }
   ],
   "source": [
    "highs['app_weekday']=highs['app_date'].dt.weekday.astype('float64')\n",
    "highs[['app_weekday']].head()"
   ]
  },
  {
   "cell_type": "code",
   "execution_count": 80,
   "metadata": {},
   "outputs": [],
   "source": [
    "# ratio(train['default'].groupby(highs['app_weekday']).value_counts().unstack(), 3)"
   ]
  },
  {
   "cell_type": "code",
   "execution_count": 81,
   "metadata": {},
   "outputs": [],
   "source": [
    "# highs['dayofyear']=highs['app_date'].apply(lambda x: x.dayofyear).astype('float64')\n",
    "# highs['dayofyear']=mms.fit_transform(highs[['dayofyear']])\n",
    "# highs['dayofyear'].corr(train['default'])"
   ]
  },
  {
   "cell_type": "code",
   "execution_count": null,
   "metadata": {},
   "outputs": [],
   "source": []
  },
  {
   "cell_type": "code",
   "execution_count": 82,
   "metadata": {},
   "outputs": [],
   "source": [
    "# train['app_week']=train['app_date'].dt.isocalendar().week.astype('int64')"
   ]
  },
  {
   "cell_type": "code",
   "execution_count": 83,
   "metadata": {},
   "outputs": [
    {
     "name": "stderr",
     "output_type": "stream",
     "text": [
      "C:\\Users\\User\\anaconda3\\envs\\spyder\\lib\\site-packages\\ipykernel_launcher.py:1: SettingWithCopyWarning: \n",
      "A value is trying to be set on a copy of a slice from a DataFrame.\n",
      "Try using .loc[row_indexer,col_indexer] = value instead\n",
      "\n",
      "See the caveats in the documentation: https://pandas.pydata.org/pandas-docs/stable/user_guide/indexing.html#returning-a-view-versus-a-copy\n",
      "  \"\"\"Entry point for launching an IPython kernel.\n"
     ]
    },
    {
     "data": {
      "text/plain": [
       "0     5.0\n",
       "1    11.0\n",
       "2     5.0\n",
       "3     4.0\n",
       "4    16.0\n",
       "Name: app_week, dtype: float64"
      ]
     },
     "execution_count": 83,
     "metadata": {},
     "output_type": "execute_result"
    }
   ],
   "source": [
    "highs['app_week']=highs['app_date'].dt.isocalendar().week.astype('float64')\n",
    "highs['app_week'].head()"
   ]
  },
  {
   "cell_type": "code",
   "execution_count": 84,
   "metadata": {},
   "outputs": [
    {
     "data": {
      "text/plain": [
       "0         5.0\n",
       "1        11.0\n",
       "2         5.0\n",
       "3         4.0\n",
       "4        16.0\n",
       "         ... \n",
       "73794    10.0\n",
       "73795    13.0\n",
       "73796    17.0\n",
       "73797     1.0\n",
       "73798     4.0\n",
       "Name: app_week, Length: 73799, dtype: float64"
      ]
     },
     "execution_count": 84,
     "metadata": {},
     "output_type": "execute_result"
    }
   ],
   "source": [
    "highs['app_week']"
   ]
  },
  {
   "cell_type": "code",
   "execution_count": 85,
   "metadata": {},
   "outputs": [
    {
     "data": {
      "text/plain": [
       "client_id                      int64\n",
       "app_date              datetime64[ns]\n",
       "age                          float64\n",
       "decline_app_cnt              float64\n",
       "score_bki                    float64\n",
       "bki_request_cnt              float64\n",
       "income                       float64\n",
       "decline_app_cnt_om           float64\n",
       "app_monthday                 float64\n",
       "month                          int64\n",
       "app_weekday                  float64\n",
       "app_week                     float64\n",
       "dtype: object"
      ]
     },
     "execution_count": 85,
     "metadata": {},
     "output_type": "execute_result"
    }
   ],
   "source": [
    "highs.dtypes"
   ]
  },
  {
   "cell_type": "code",
   "execution_count": 86,
   "metadata": {},
   "outputs": [],
   "source": [
    "# d=train.default.groupby(train['app_monthday']).value_counts().unstack()"
   ]
  },
  {
   "cell_type": "code",
   "execution_count": 87,
   "metadata": {},
   "outputs": [
    {
     "data": {
      "text/plain": [
       "app_week\n",
       "1.0     0.164\n",
       "2.0     0.189\n",
       "3.0     0.154\n",
       "4.0     0.162\n",
       "5.0     0.164\n",
       "6.0     0.154\n",
       "7.0     0.152\n",
       "8.0     0.150\n",
       "9.0     0.156\n",
       "10.0    0.154\n",
       "11.0    0.143\n",
       "12.0    0.146\n",
       "13.0    0.142\n",
       "14.0    0.148\n",
       "15.0    0.122\n",
       "16.0    0.102\n",
       "17.0    0.102\n",
       "18.0    0.107\n",
       "dtype: float64"
      ]
     },
     "execution_count": 87,
     "metadata": {},
     "output_type": "execute_result"
    }
   ],
   "source": [
    "ratio(train.default.groupby(highs['app_week']).value_counts().unstack(), 3)"
   ]
  },
  {
   "cell_type": "code",
   "execution_count": 88,
   "metadata": {},
   "outputs": [
    {
     "name": "stderr",
     "output_type": "stream",
     "text": [
      "C:\\Users\\User\\anaconda3\\envs\\spyder\\lib\\site-packages\\ipykernel_launcher.py:1: SettingWithCopyWarning: \n",
      "A value is trying to be set on a copy of a slice from a DataFrame.\n",
      "Try using .loc[row_indexer,col_indexer] = value instead\n",
      "\n",
      "See the caveats in the documentation: https://pandas.pydata.org/pandas-docs/stable/user_guide/indexing.html#returning-a-view-versus-a-copy\n",
      "  \"\"\"Entry point for launching an IPython kernel.\n"
     ]
    },
    {
     "data": {
      "text/plain": [
       "app_week_bin    0.040581\n",
       "dtype: float64"
      ]
     },
     "execution_count": 88,
     "metadata": {},
     "output_type": "execute_result"
    }
   ],
   "source": [
    "highs['app_week_bin']=np.where(highs['app_week']<15, 1, 0)\n",
    "highs[['app_week_bin']].corrwith(train['default'])"
   ]
  },
  {
   "cell_type": "code",
   "execution_count": 89,
   "metadata": {},
   "outputs": [
    {
     "data": {
      "text/plain": [
       "app_week_bin   -0.669764\n",
       "dtype: float64"
      ]
     },
     "execution_count": 89,
     "metadata": {},
     "output_type": "execute_result"
    }
   ],
   "source": [
    "highs[['app_week_bin']].corrwith(highs['app_week'])"
   ]
  },
  {
   "cell_type": "code",
   "execution_count": 90,
   "metadata": {},
   "outputs": [
    {
     "data": {
      "text/plain": [
       "app_week_bin   -3.20446\n",
       "dtype: float64"
      ]
     },
     "execution_count": 90,
     "metadata": {},
     "output_type": "execute_result"
    }
   ],
   "source": [
    "np.log(highs[['app_week_bin']].corrwith(train['default']))"
   ]
  },
  {
   "cell_type": "code",
   "execution_count": 91,
   "metadata": {},
   "outputs": [
    {
     "data": {
      "text/plain": [
       "score_bki             0.175369\n",
       "decline_app_cnt_om    0.124027\n",
       "decline_app_cnt       0.113682\n",
       "bki_request_cnt       0.078242\n",
       "income                0.053871\n",
       "app_week_bin          0.040581\n",
       "app_week              0.039276\n",
       "client_id             0.039242\n",
       "month                 0.037115\n",
       "age                   0.025004\n",
       "app_monthday          0.006477\n",
       "app_weekday           0.001069\n",
       "dtype: float64"
      ]
     },
     "execution_count": 91,
     "metadata": {},
     "output_type": "execute_result"
    }
   ],
   "source": [
    "highs.corrwith(train['default']).abs().sort_values(ascending=False)"
   ]
  },
  {
   "cell_type": "code",
   "execution_count": 92,
   "metadata": {},
   "outputs": [
    {
     "name": "stderr",
     "output_type": "stream",
     "text": [
      "C:\\Users\\User\\anaconda3\\envs\\spyder\\lib\\site-packages\\pandas\\core\\frame.py:4169: SettingWithCopyWarning: \n",
      "A value is trying to be set on a copy of a slice from a DataFrame\n",
      "\n",
      "See the caveats in the documentation: https://pandas.pydata.org/pandas-docs/stable/user_guide/indexing.html#returning-a-view-versus-a-copy\n",
      "  errors=errors,\n"
     ]
    }
   ],
   "source": [
    "highs.drop('app_date', axis=1, inplace=True)"
   ]
  },
  {
   "cell_type": "code",
   "execution_count": 93,
   "metadata": {},
   "outputs": [
    {
     "data": {
      "text/html": [
       "<div>\n",
       "<style scoped>\n",
       "    .dataframe tbody tr th:only-of-type {\n",
       "        vertical-align: middle;\n",
       "    }\n",
       "\n",
       "    .dataframe tbody tr th {\n",
       "        vertical-align: top;\n",
       "    }\n",
       "\n",
       "    .dataframe thead th {\n",
       "        text-align: right;\n",
       "    }\n",
       "</style>\n",
       "<table border=\"1\" class=\"dataframe\">\n",
       "  <thead>\n",
       "    <tr style=\"text-align: right;\">\n",
       "      <th>app_week_bin</th>\n",
       "      <th>0</th>\n",
       "      <th>1</th>\n",
       "    </tr>\n",
       "    <tr>\n",
       "      <th>bki_request_cnt</th>\n",
       "      <th></th>\n",
       "      <th></th>\n",
       "    </tr>\n",
       "  </thead>\n",
       "  <tbody>\n",
       "    <tr>\n",
       "      <th>0.000000</th>\n",
       "      <td>4.0</td>\n",
       "      <td>22.0</td>\n",
       "    </tr>\n",
       "    <tr>\n",
       "      <th>0.018868</th>\n",
       "      <td>5.0</td>\n",
       "      <td>20.0</td>\n",
       "    </tr>\n",
       "    <tr>\n",
       "      <th>0.037736</th>\n",
       "      <td>4.0</td>\n",
       "      <td>15.0</td>\n",
       "    </tr>\n",
       "    <tr>\n",
       "      <th>0.056604</th>\n",
       "      <td>2.0</td>\n",
       "      <td>10.0</td>\n",
       "    </tr>\n",
       "    <tr>\n",
       "      <th>0.075472</th>\n",
       "      <td>1.0</td>\n",
       "      <td>6.0</td>\n",
       "    </tr>\n",
       "    <tr>\n",
       "      <th>0.094340</th>\n",
       "      <td>1.0</td>\n",
       "      <td>4.0</td>\n",
       "    </tr>\n",
       "    <tr>\n",
       "      <th>0.113208</th>\n",
       "      <td>0.0</td>\n",
       "      <td>2.0</td>\n",
       "    </tr>\n",
       "    <tr>\n",
       "      <th>0.132075</th>\n",
       "      <td>0.0</td>\n",
       "      <td>1.0</td>\n",
       "    </tr>\n",
       "    <tr>\n",
       "      <th>0.150943</th>\n",
       "      <td>0.0</td>\n",
       "      <td>1.0</td>\n",
       "    </tr>\n",
       "    <tr>\n",
       "      <th>0.169811</th>\n",
       "      <td>0.0</td>\n",
       "      <td>0.0</td>\n",
       "    </tr>\n",
       "    <tr>\n",
       "      <th>0.188679</th>\n",
       "      <td>0.0</td>\n",
       "      <td>0.0</td>\n",
       "    </tr>\n",
       "    <tr>\n",
       "      <th>0.207547</th>\n",
       "      <td>0.0</td>\n",
       "      <td>0.0</td>\n",
       "    </tr>\n",
       "    <tr>\n",
       "      <th>0.226415</th>\n",
       "      <td>0.0</td>\n",
       "      <td>0.0</td>\n",
       "    </tr>\n",
       "    <tr>\n",
       "      <th>0.245283</th>\n",
       "      <td>0.0</td>\n",
       "      <td>0.0</td>\n",
       "    </tr>\n",
       "    <tr>\n",
       "      <th>0.264151</th>\n",
       "      <td>0.0</td>\n",
       "      <td>0.0</td>\n",
       "    </tr>\n",
       "    <tr>\n",
       "      <th>0.283019</th>\n",
       "      <td>0.0</td>\n",
       "      <td>0.0</td>\n",
       "    </tr>\n",
       "    <tr>\n",
       "      <th>0.301887</th>\n",
       "      <td>0.0</td>\n",
       "      <td>0.0</td>\n",
       "    </tr>\n",
       "    <tr>\n",
       "      <th>0.320755</th>\n",
       "      <td>0.0</td>\n",
       "      <td>0.0</td>\n",
       "    </tr>\n",
       "    <tr>\n",
       "      <th>0.339623</th>\n",
       "      <td>0.0</td>\n",
       "      <td>0.0</td>\n",
       "    </tr>\n",
       "    <tr>\n",
       "      <th>0.358491</th>\n",
       "      <td>0.0</td>\n",
       "      <td>0.0</td>\n",
       "    </tr>\n",
       "    <tr>\n",
       "      <th>0.377358</th>\n",
       "      <td>0.0</td>\n",
       "      <td>0.0</td>\n",
       "    </tr>\n",
       "    <tr>\n",
       "      <th>0.396226</th>\n",
       "      <td>0.0</td>\n",
       "      <td>0.0</td>\n",
       "    </tr>\n",
       "    <tr>\n",
       "      <th>0.415094</th>\n",
       "      <td>0.0</td>\n",
       "      <td>0.0</td>\n",
       "    </tr>\n",
       "    <tr>\n",
       "      <th>0.433962</th>\n",
       "      <td>0.0</td>\n",
       "      <td>0.0</td>\n",
       "    </tr>\n",
       "    <tr>\n",
       "      <th>0.452830</th>\n",
       "      <td>0.0</td>\n",
       "      <td>0.0</td>\n",
       "    </tr>\n",
       "    <tr>\n",
       "      <th>0.471698</th>\n",
       "      <td>0.0</td>\n",
       "      <td>0.0</td>\n",
       "    </tr>\n",
       "    <tr>\n",
       "      <th>0.490566</th>\n",
       "      <td>0.0</td>\n",
       "      <td>0.0</td>\n",
       "    </tr>\n",
       "    <tr>\n",
       "      <th>0.509434</th>\n",
       "      <td>0.0</td>\n",
       "      <td>0.0</td>\n",
       "    </tr>\n",
       "    <tr>\n",
       "      <th>0.528302</th>\n",
       "      <td>0.0</td>\n",
       "      <td>0.0</td>\n",
       "    </tr>\n",
       "    <tr>\n",
       "      <th>0.547170</th>\n",
       "      <td>0.0</td>\n",
       "      <td>0.0</td>\n",
       "    </tr>\n",
       "    <tr>\n",
       "      <th>0.603774</th>\n",
       "      <td>0.0</td>\n",
       "      <td>0.0</td>\n",
       "    </tr>\n",
       "    <tr>\n",
       "      <th>0.622642</th>\n",
       "      <td>0.0</td>\n",
       "      <td>0.0</td>\n",
       "    </tr>\n",
       "    <tr>\n",
       "      <th>0.641509</th>\n",
       "      <td>0.0</td>\n",
       "      <td>0.0</td>\n",
       "    </tr>\n",
       "    <tr>\n",
       "      <th>0.679245</th>\n",
       "      <td>0.0</td>\n",
       "      <td>0.0</td>\n",
       "    </tr>\n",
       "    <tr>\n",
       "      <th>0.773585</th>\n",
       "      <td>0.0</td>\n",
       "      <td>0.0</td>\n",
       "    </tr>\n",
       "    <tr>\n",
       "      <th>0.849057</th>\n",
       "      <td>0.0</td>\n",
       "      <td>0.0</td>\n",
       "    </tr>\n",
       "    <tr>\n",
       "      <th>0.867925</th>\n",
       "      <td>0.0</td>\n",
       "      <td>0.0</td>\n",
       "    </tr>\n",
       "    <tr>\n",
       "      <th>1.000000</th>\n",
       "      <td>0.0</td>\n",
       "      <td>0.0</td>\n",
       "    </tr>\n",
       "  </tbody>\n",
       "</table>\n",
       "</div>"
      ],
      "text/plain": [
       "app_week_bin       0     1\n",
       "bki_request_cnt           \n",
       "0.000000         4.0  22.0\n",
       "0.018868         5.0  20.0\n",
       "0.037736         4.0  15.0\n",
       "0.056604         2.0  10.0\n",
       "0.075472         1.0   6.0\n",
       "0.094340         1.0   4.0\n",
       "0.113208         0.0   2.0\n",
       "0.132075         0.0   1.0\n",
       "0.150943         0.0   1.0\n",
       "0.169811         0.0   0.0\n",
       "0.188679         0.0   0.0\n",
       "0.207547         0.0   0.0\n",
       "0.226415         0.0   0.0\n",
       "0.245283         0.0   0.0\n",
       "0.264151         0.0   0.0\n",
       "0.283019         0.0   0.0\n",
       "0.301887         0.0   0.0\n",
       "0.320755         0.0   0.0\n",
       "0.339623         0.0   0.0\n",
       "0.358491         0.0   0.0\n",
       "0.377358         0.0   0.0\n",
       "0.396226         0.0   0.0\n",
       "0.415094         0.0   0.0\n",
       "0.433962         0.0   0.0\n",
       "0.452830         0.0   0.0\n",
       "0.471698         0.0   0.0\n",
       "0.490566         0.0   0.0\n",
       "0.509434         0.0   0.0\n",
       "0.528302         0.0   0.0\n",
       "0.547170         0.0   0.0\n",
       "0.603774         0.0   0.0\n",
       "0.622642         0.0   0.0\n",
       "0.641509         0.0   0.0\n",
       "0.679245         0.0   0.0\n",
       "0.773585         0.0   0.0\n",
       "0.849057         0.0   0.0\n",
       "0.867925         0.0   0.0\n",
       "1.000000         0.0   0.0"
      ]
     },
     "execution_count": 93,
     "metadata": {},
     "output_type": "execute_result"
    }
   ],
   "source": [
    "round(pd.crosstab(highs['bki_request_cnt'], highs['app_week_bin'], normalize=True)*100, 0)"
   ]
  },
  {
   "cell_type": "code",
   "execution_count": 94,
   "metadata": {},
   "outputs": [
    {
     "name": "stderr",
     "output_type": "stream",
     "text": [
      "C:\\Users\\User\\anaconda3\\envs\\spyder\\lib\\site-packages\\ipykernel_launcher.py:1: SettingWithCopyWarning: \n",
      "A value is trying to be set on a copy of a slice from a DataFrame.\n",
      "Try using .loc[row_indexer,col_indexer] = value instead\n",
      "\n",
      "See the caveats in the documentation: https://pandas.pydata.org/pandas-docs/stable/user_guide/indexing.html#returning-a-view-versus-a-copy\n",
      "  \"\"\"Entry point for launching an IPython kernel.\n"
     ]
    },
    {
     "data": {
      "text/plain": [
       "app_week_bin_bin   -0.056957\n",
       "dtype: float64"
      ]
     },
     "execution_count": 94,
     "metadata": {},
     "output_type": "execute_result"
    }
   ],
   "source": [
    "highs['app_week_bin_bin']=np.where((highs['app_week_bin']==1) & (highs['bki_request_cnt']>0.06), 0, 1)\n",
    "# .corr(\n",
    "highs[['app_week_bin_bin']].corrwith(train['default'])"
   ]
  },
  {
   "cell_type": "code",
   "execution_count": null,
   "metadata": {},
   "outputs": [],
   "source": []
  },
  {
   "cell_type": "markdown",
   "metadata": {},
   "source": [
    "Мы не видим разницы по возрасту и оценке заёмщика как хорошего работника. У дефолтников в имеется один отказ в заявке на кредит, у среднего недефолтника отказов не было. Интересно при этом что среди недефолтников встречается клиент с количеством отказов 33, \n",
    "что на 50% выше макксимального значения для дефолтников. Уровень зарплаты у обеих групп очень похож, но с увеличением зарплаты наблюдается отставание дефолтников.\n",
    "\n",
    "Посмотрим теперь на модальные значения параметров, здесь мы вернём в рассмотрение адреса."
   ]
  },
  {
   "cell_type": "markdown",
   "metadata": {},
   "source": [
    "Мы видим модальные различия только для двух параметров: возраста (дефолтники модально моложе на пять лет) и запрос в бюро кредитных историй (модально один запрос у дефолтников, при отсутствии запросов у недефолтников). "
   ]
  },
  {
   "cell_type": "markdown",
   "metadata": {},
   "source": [
    "Итак наши данные более не содержат пропусков и самой время проверить насколько тесно независимые переменные связаны между собой и целевой переменной. "
   ]
  },
  {
   "cell_type": "code",
   "execution_count": 95,
   "metadata": {},
   "outputs": [],
   "source": [
    "# highs.income.describe()"
   ]
  },
  {
   "cell_type": "code",
   "execution_count": 96,
   "metadata": {},
   "outputs": [
    {
     "name": "stderr",
     "output_type": "stream",
     "text": [
      "C:\\Users\\User\\anaconda3\\envs\\spyder\\lib\\site-packages\\ipykernel_launcher.py:1: SettingWithCopyWarning: \n",
      "A value is trying to be set on a copy of a slice from a DataFrame.\n",
      "Try using .loc[row_indexer,col_indexer] = value instead\n",
      "\n",
      "See the caveats in the documentation: https://pandas.pydata.org/pandas-docs/stable/user_guide/indexing.html#returning-a-view-versus-a-copy\n",
      "  \"\"\"Entry point for launching an IPython kernel.\n"
     ]
    },
    {
     "data": {
      "text/plain": [
       "income_om   -0.053013\n",
       "dtype: float64"
      ]
     },
     "execution_count": 96,
     "metadata": {},
     "output_type": "execute_result"
    }
   ],
   "source": [
    "highs['income_om']=np.log10(highs['income'])\n",
    "highs[['income_om']].corrwith(train['default'])"
   ]
  },
  {
   "cell_type": "code",
   "execution_count": null,
   "metadata": {},
   "outputs": [],
   "source": []
  },
  {
   "cell_type": "code",
   "execution_count": 97,
   "metadata": {},
   "outputs": [],
   "source": [
    "# imp_num = pd.Series(f_classif(X, train['default'])[0], index = X.columns)\n",
    "# imp_num.sort_values(inplace = True)\n",
    "# imp_num.plot(kind = 'barh')\n"
   ]
  },
  {
   "cell_type": "code",
   "execution_count": 98,
   "metadata": {},
   "outputs": [],
   "source": [
    "X_high=highs[['income', 'bki_request_cnt', \n",
    "              'decline_app_cnt_om', 'score_bki', 'decline_app_cnt', 'app_week_bin' \n",
    "             ]]"
   ]
  },
  {
   "cell_type": "code",
   "execution_count": 99,
   "metadata": {},
   "outputs": [
    {
     "data": {
      "text/plain": [
       "Index(['good_work', 'default', 'sex_M', 'car_Y', 'car_type_Y',\n",
       "       'foreign_passport_Y', 'fp', 'fp_ct', 'fp_ct_gw', 'home_address',\n",
       "       'work_address', 'home_address_1', 'home_address_2', 'home_address_3',\n",
       "       'work_address_1', 'work_address_2', 'work_address_3', 'adresses_h2w3',\n",
       "       'sna', 'first_time', 'sna_1', 'sna_2', 'sna_3', 'sna_4', 'first_time_1',\n",
       "       'first_time_2', 'first_time_3', 'first_time_4', 'sna_ft', 'education',\n",
       "       'ACD', 'GRD', 'PGR', 'SCH', 'UGR', 'region_rating'],\n",
       "      dtype='object')"
      ]
     },
     "execution_count": 99,
     "metadata": {},
     "output_type": "execute_result"
    }
   ],
   "source": [
    "X_low.columns"
   ]
  },
  {
   "cell_type": "code",
   "execution_count": 100,
   "metadata": {},
   "outputs": [],
   "source": [
    "X=pd.concat([X_low, X_high], axis=1)"
   ]
  },
  {
   "cell_type": "code",
   "execution_count": 101,
   "metadata": {},
   "outputs": [],
   "source": [
    "X.drop('default', axis=1, inplace=True)"
   ]
  },
  {
   "cell_type": "code",
   "execution_count": 102,
   "metadata": {},
   "outputs": [
    {
     "data": {
      "text/html": [
       "<div>\n",
       "<style scoped>\n",
       "    .dataframe tbody tr th:only-of-type {\n",
       "        vertical-align: middle;\n",
       "    }\n",
       "\n",
       "    .dataframe tbody tr th {\n",
       "        vertical-align: top;\n",
       "    }\n",
       "\n",
       "    .dataframe thead th {\n",
       "        text-align: right;\n",
       "    }\n",
       "</style>\n",
       "<table border=\"1\" class=\"dataframe\">\n",
       "  <thead>\n",
       "    <tr style=\"text-align: right;\">\n",
       "      <th></th>\n",
       "      <th>good_work</th>\n",
       "      <th>sex_M</th>\n",
       "      <th>car_Y</th>\n",
       "      <th>car_type_Y</th>\n",
       "      <th>foreign_passport_Y</th>\n",
       "      <th>fp</th>\n",
       "      <th>fp_ct</th>\n",
       "      <th>fp_ct_gw</th>\n",
       "      <th>home_address</th>\n",
       "      <th>work_address</th>\n",
       "      <th>home_address_1</th>\n",
       "      <th>home_address_2</th>\n",
       "      <th>home_address_3</th>\n",
       "      <th>work_address_1</th>\n",
       "      <th>work_address_2</th>\n",
       "      <th>...</th>\n",
       "      <th>first_time_4</th>\n",
       "      <th>sna_ft</th>\n",
       "      <th>education</th>\n",
       "      <th>ACD</th>\n",
       "      <th>GRD</th>\n",
       "      <th>PGR</th>\n",
       "      <th>SCH</th>\n",
       "      <th>UGR</th>\n",
       "      <th>region_rating</th>\n",
       "      <th>income</th>\n",
       "      <th>bki_request_cnt</th>\n",
       "      <th>decline_app_cnt_om</th>\n",
       "      <th>score_bki</th>\n",
       "      <th>decline_app_cnt</th>\n",
       "      <th>app_week_bin</th>\n",
       "    </tr>\n",
       "  </thead>\n",
       "  <tbody>\n",
       "    <tr>\n",
       "      <th>0</th>\n",
       "      <td>0</td>\n",
       "      <td>1.0</td>\n",
       "      <td>1.0</td>\n",
       "      <td>1.0</td>\n",
       "      <td>0.0</td>\n",
       "      <td>0.0</td>\n",
       "      <td>1.0</td>\n",
       "      <td>1.0</td>\n",
       "      <td>1</td>\n",
       "      <td>2</td>\n",
       "      <td>1.0</td>\n",
       "      <td>0.0</td>\n",
       "      <td>0.0</td>\n",
       "      <td>0.0</td>\n",
       "      <td>1.0</td>\n",
       "      <td>...</td>\n",
       "      <td>0.0</td>\n",
       "      <td>1.0</td>\n",
       "      <td>1.0</td>\n",
       "      <td>0.0</td>\n",
       "      <td>0.0</td>\n",
       "      <td>0.0</td>\n",
       "      <td>1.0</td>\n",
       "      <td>0.0</td>\n",
       "      <td>0.500000</td>\n",
       "      <td>4.255297</td>\n",
       "      <td>0.018868</td>\n",
       "      <td>0.000000</td>\n",
       "      <td>0.422511</td>\n",
       "      <td>0.000000</td>\n",
       "      <td>1</td>\n",
       "    </tr>\n",
       "    <tr>\n",
       "      <th>1</th>\n",
       "      <td>0</td>\n",
       "      <td>0.0</td>\n",
       "      <td>0.0</td>\n",
       "      <td>0.0</td>\n",
       "      <td>0.0</td>\n",
       "      <td>0.0</td>\n",
       "      <td>0.0</td>\n",
       "      <td>0.0</td>\n",
       "      <td>2</td>\n",
       "      <td>3</td>\n",
       "      <td>0.0</td>\n",
       "      <td>1.0</td>\n",
       "      <td>0.0</td>\n",
       "      <td>0.0</td>\n",
       "      <td>0.0</td>\n",
       "      <td>...</td>\n",
       "      <td>0.0</td>\n",
       "      <td>1.0</td>\n",
       "      <td>1.0</td>\n",
       "      <td>0.0</td>\n",
       "      <td>0.0</td>\n",
       "      <td>0.0</td>\n",
       "      <td>1.0</td>\n",
       "      <td>0.0</td>\n",
       "      <td>0.500000</td>\n",
       "      <td>4.278776</td>\n",
       "      <td>0.056604</td>\n",
       "      <td>0.000000</td>\n",
       "      <td>0.547101</td>\n",
       "      <td>0.000000</td>\n",
       "      <td>1</td>\n",
       "    </tr>\n",
       "    <tr>\n",
       "      <th>2</th>\n",
       "      <td>0</td>\n",
       "      <td>1.0</td>\n",
       "      <td>1.0</td>\n",
       "      <td>0.0</td>\n",
       "      <td>1.0</td>\n",
       "      <td>1.0</td>\n",
       "      <td>1.0</td>\n",
       "      <td>1.0</td>\n",
       "      <td>1</td>\n",
       "      <td>2</td>\n",
       "      <td>1.0</td>\n",
       "      <td>0.0</td>\n",
       "      <td>0.0</td>\n",
       "      <td>0.0</td>\n",
       "      <td>1.0</td>\n",
       "      <td>...</td>\n",
       "      <td>1.0</td>\n",
       "      <td>0.0</td>\n",
       "      <td>1.0</td>\n",
       "      <td>0.0</td>\n",
       "      <td>0.0</td>\n",
       "      <td>0.0</td>\n",
       "      <td>1.0</td>\n",
       "      <td>0.0</td>\n",
       "      <td>1.000000</td>\n",
       "      <td>4.477136</td>\n",
       "      <td>0.018868</td>\n",
       "      <td>0.477121</td>\n",
       "      <td>0.579560</td>\n",
       "      <td>0.060606</td>\n",
       "      <td>1</td>\n",
       "    </tr>\n",
       "    <tr>\n",
       "      <th>3</th>\n",
       "      <td>0</td>\n",
       "      <td>0.0</td>\n",
       "      <td>0.0</td>\n",
       "      <td>0.0</td>\n",
       "      <td>0.0</td>\n",
       "      <td>0.0</td>\n",
       "      <td>0.0</td>\n",
       "      <td>0.0</td>\n",
       "      <td>2</td>\n",
       "      <td>3</td>\n",
       "      <td>0.0</td>\n",
       "      <td>1.0</td>\n",
       "      <td>0.0</td>\n",
       "      <td>0.0</td>\n",
       "      <td>0.0</td>\n",
       "      <td>...</td>\n",
       "      <td>0.0</td>\n",
       "      <td>0.0</td>\n",
       "      <td>1.0</td>\n",
       "      <td>0.0</td>\n",
       "      <td>0.0</td>\n",
       "      <td>0.0</td>\n",
       "      <td>1.0</td>\n",
       "      <td>0.0</td>\n",
       "      <td>0.500000</td>\n",
       "      <td>4.000043</td>\n",
       "      <td>0.037736</td>\n",
       "      <td>0.000000</td>\n",
       "      <td>0.409772</td>\n",
       "      <td>0.000000</td>\n",
       "      <td>1</td>\n",
       "    </tr>\n",
       "    <tr>\n",
       "      <th>4</th>\n",
       "      <td>1</td>\n",
       "      <td>1.0</td>\n",
       "      <td>0.0</td>\n",
       "      <td>0.0</td>\n",
       "      <td>1.0</td>\n",
       "      <td>1.0</td>\n",
       "      <td>1.0</td>\n",
       "      <td>1.0</td>\n",
       "      <td>2</td>\n",
       "      <td>3</td>\n",
       "      <td>0.0</td>\n",
       "      <td>1.0</td>\n",
       "      <td>0.0</td>\n",
       "      <td>0.0</td>\n",
       "      <td>0.0</td>\n",
       "      <td>...</td>\n",
       "      <td>1.0</td>\n",
       "      <td>0.0</td>\n",
       "      <td>0.5</td>\n",
       "      <td>0.0</td>\n",
       "      <td>1.0</td>\n",
       "      <td>0.0</td>\n",
       "      <td>0.0</td>\n",
       "      <td>0.0</td>\n",
       "      <td>0.666667</td>\n",
       "      <td>4.477136</td>\n",
       "      <td>0.018868</td>\n",
       "      <td>0.000000</td>\n",
       "      <td>0.622291</td>\n",
       "      <td>0.000000</td>\n",
       "      <td>0</td>\n",
       "    </tr>\n",
       "  </tbody>\n",
       "</table>\n",
       "<p>5 rows × 41 columns</p>\n",
       "</div>"
      ],
      "text/plain": [
       "   good_work  sex_M  car_Y  car_type_Y  foreign_passport_Y   fp  fp_ct  \\\n",
       "0          0    1.0    1.0         1.0                 0.0  0.0    1.0   \n",
       "1          0    0.0    0.0         0.0                 0.0  0.0    0.0   \n",
       "2          0    1.0    1.0         0.0                 1.0  1.0    1.0   \n",
       "3          0    0.0    0.0         0.0                 0.0  0.0    0.0   \n",
       "4          1    1.0    0.0         0.0                 1.0  1.0    1.0   \n",
       "\n",
       "   fp_ct_gw  home_address  work_address  home_address_1  home_address_2  \\\n",
       "0       1.0             1             2             1.0             0.0   \n",
       "1       0.0             2             3             0.0             1.0   \n",
       "2       1.0             1             2             1.0             0.0   \n",
       "3       0.0             2             3             0.0             1.0   \n",
       "4       1.0             2             3             0.0             1.0   \n",
       "\n",
       "   home_address_3  work_address_1  work_address_2  ...  first_time_4  sna_ft  \\\n",
       "0             0.0             0.0             1.0  ...           0.0     1.0   \n",
       "1             0.0             0.0             0.0  ...           0.0     1.0   \n",
       "2             0.0             0.0             1.0  ...           1.0     0.0   \n",
       "3             0.0             0.0             0.0  ...           0.0     0.0   \n",
       "4             0.0             0.0             0.0  ...           1.0     0.0   \n",
       "\n",
       "   education  ACD  GRD  PGR  SCH  UGR  region_rating    income  \\\n",
       "0        1.0  0.0  0.0  0.0  1.0  0.0       0.500000  4.255297   \n",
       "1        1.0  0.0  0.0  0.0  1.0  0.0       0.500000  4.278776   \n",
       "2        1.0  0.0  0.0  0.0  1.0  0.0       1.000000  4.477136   \n",
       "3        1.0  0.0  0.0  0.0  1.0  0.0       0.500000  4.000043   \n",
       "4        0.5  0.0  1.0  0.0  0.0  0.0       0.666667  4.477136   \n",
       "\n",
       "   bki_request_cnt  decline_app_cnt_om  score_bki  decline_app_cnt  \\\n",
       "0         0.018868            0.000000   0.422511         0.000000   \n",
       "1         0.056604            0.000000   0.547101         0.000000   \n",
       "2         0.018868            0.477121   0.579560         0.060606   \n",
       "3         0.037736            0.000000   0.409772         0.000000   \n",
       "4         0.018868            0.000000   0.622291         0.000000   \n",
       "\n",
       "   app_week_bin  \n",
       "0             1  \n",
       "1             1  \n",
       "2             1  \n",
       "3             1  \n",
       "4             0  \n",
       "\n",
       "[5 rows x 41 columns]"
      ]
     },
     "execution_count": 102,
     "metadata": {},
     "output_type": "execute_result"
    }
   ],
   "source": [
    "X.head()"
   ]
  },
  {
   "cell_type": "code",
   "execution_count": 103,
   "metadata": {},
   "outputs": [
    {
     "data": {
      "text/plain": [
       "array([[<AxesSubplot:title={'center':'good_work'}>,\n",
       "        <AxesSubplot:title={'center':'sex_M'}>,\n",
       "        <AxesSubplot:title={'center':'car_Y'}>,\n",
       "        <AxesSubplot:title={'center':'car_type_Y'}>,\n",
       "        <AxesSubplot:title={'center':'foreign_passport_Y'}>,\n",
       "        <AxesSubplot:title={'center':'fp'}>],\n",
       "       [<AxesSubplot:title={'center':'fp_ct'}>,\n",
       "        <AxesSubplot:title={'center':'fp_ct_gw'}>,\n",
       "        <AxesSubplot:title={'center':'home_address'}>,\n",
       "        <AxesSubplot:title={'center':'work_address'}>,\n",
       "        <AxesSubplot:title={'center':'home_address_1'}>,\n",
       "        <AxesSubplot:title={'center':'home_address_2'}>],\n",
       "       [<AxesSubplot:title={'center':'home_address_3'}>,\n",
       "        <AxesSubplot:title={'center':'work_address_1'}>,\n",
       "        <AxesSubplot:title={'center':'work_address_2'}>,\n",
       "        <AxesSubplot:title={'center':'work_address_3'}>,\n",
       "        <AxesSubplot:title={'center':'adresses_h2w3'}>,\n",
       "        <AxesSubplot:title={'center':'sna'}>],\n",
       "       [<AxesSubplot:title={'center':'first_time'}>,\n",
       "        <AxesSubplot:title={'center':'sna_1'}>,\n",
       "        <AxesSubplot:title={'center':'sna_2'}>,\n",
       "        <AxesSubplot:title={'center':'sna_3'}>,\n",
       "        <AxesSubplot:title={'center':'sna_4'}>,\n",
       "        <AxesSubplot:title={'center':'first_time_1'}>],\n",
       "       [<AxesSubplot:title={'center':'first_time_2'}>,\n",
       "        <AxesSubplot:title={'center':'first_time_3'}>,\n",
       "        <AxesSubplot:title={'center':'first_time_4'}>,\n",
       "        <AxesSubplot:title={'center':'sna_ft'}>,\n",
       "        <AxesSubplot:title={'center':'education'}>,\n",
       "        <AxesSubplot:title={'center':'ACD'}>],\n",
       "       [<AxesSubplot:title={'center':'GRD'}>,\n",
       "        <AxesSubplot:title={'center':'PGR'}>,\n",
       "        <AxesSubplot:title={'center':'SCH'}>,\n",
       "        <AxesSubplot:title={'center':'UGR'}>,\n",
       "        <AxesSubplot:title={'center':'region_rating'}>,\n",
       "        <AxesSubplot:title={'center':'income'}>],\n",
       "       [<AxesSubplot:title={'center':'bki_request_cnt'}>,\n",
       "        <AxesSubplot:title={'center':'decline_app_cnt_om'}>,\n",
       "        <AxesSubplot:title={'center':'score_bki'}>,\n",
       "        <AxesSubplot:title={'center':'decline_app_cnt'}>,\n",
       "        <AxesSubplot:title={'center':'app_week_bin'}>, <AxesSubplot:>]],\n",
       "      dtype=object)"
      ]
     },
     "execution_count": 103,
     "metadata": {},
     "output_type": "execute_result"
    },
    {
     "data": {
      "image/png": "[encoded data removed]",
      "text/plain": [
       "<Figure size 1440x1440 with 42 Axes>"
      ]
     },
     "metadata": {
      "needs_background": "light"
     },
     "output_type": "display_data"
    }
   ],
   "source": [
    "X.hist(xlabelsize=8, ylabelsize=8, figsize=(20, 20) )"
   ]
  },
  {
   "cell_type": "code",
   "execution_count": null,
   "metadata": {},
   "outputs": [],
   "source": []
  },
  {
   "cell_type": "code",
   "execution_count": 104,
   "metadata": {},
   "outputs": [
    {
     "data": {
      "text/plain": [
       "(18450, 41)"
      ]
     },
     "execution_count": 104,
     "metadata": {},
     "output_type": "execute_result"
    }
   ],
   "source": [
    "y = train['default'].values\n",
    "\n",
    "\n",
    "\n",
    "X_train, X_test, y_train, y_test = train_test_split(X.values, y, test_size=0.25, random_state=42)\n",
    "X_test.shape"
   ]
  },
  {
   "cell_type": "code",
   "execution_count": 105,
   "metadata": {},
   "outputs": [
    {
     "data": {
      "text/plain": [
       "(array([0, 1], dtype=int64), array([16138,  2312], dtype=int64))"
      ]
     },
     "execution_count": 105,
     "metadata": {},
     "output_type": "execute_result"
    }
   ],
   "source": [
    "np.unique(y_test, return_counts=True)\n",
    "# .value_counts()"
   ]
  },
  {
   "cell_type": "code",
   "execution_count": 106,
   "metadata": {},
   "outputs": [
    {
     "name": "stderr",
     "output_type": "stream",
     "text": [
      "C:\\Users\\User\\anaconda3\\envs\\spyder\\lib\\site-packages\\sklearn\\linear_model\\_logistic.py:764: ConvergenceWarning: lbfgs failed to converge (status=1):\n",
      "STOP: TOTAL NO. of ITERATIONS REACHED LIMIT.\n",
      "\n",
      "Increase the number of iterations (max_iter) or scale the data as shown in:\n",
      "    https://scikit-learn.org/stable/modules/preprocessing.html\n",
      "Please also refer to the documentation for alternative solver options:\n",
      "    https://scikit-learn.org/stable/modules/linear_model.html#logistic-regression\n",
      "  extra_warning_msg=_LOGISTIC_SOLVER_CONVERGENCE_MSG)\n"
     ]
    },
    {
     "data": {
      "image/png": "[encoded data removed]",
      "text/plain": [
       "<Figure size 432x288 with 1 Axes>"
      ]
     },
     "metadata": {
      "needs_background": "light"
     },
     "output_type": "display_data"
    },
    {
     "name": "stdout",
     "output_type": "stream",
     "text": [
      "Accuracy: 0.8734\n",
      "Precision: 0.4196\n",
      "Recall: 0.0260\n",
      "F1: 0.0489\n"
     ]
    }
   ],
   "source": [
    "lr = LogisticRegression(random_state=42 )\n",
    "lr.fit(X_train, y_train)\n",
    "\n",
    "probs = lr.predict_proba(X_test)\n",
    "probs = probs[:,1]\n",
    "# y_pred=lr.predict(X_test)\n",
    "\n",
    "fpr, tpr, threshold = roc_curve(y_test, probs)\n",
    "roc_auc = roc_auc_score(y_test, probs)\n",
    "\n",
    "plt.figure()\n",
    "plt.plot([0, 1], label='Baseline', linestyle='--')\n",
    "plt.plot(fpr, tpr, label = 'Regression')\n",
    "plt.title('Logistic Regression ROC AUC = %0.3f' % roc_auc)\n",
    "plt.ylabel('True Positive Rate')\n",
    "plt.xlabel('False Positive Rate')\n",
    "plt.legend(loc = 'lower right')\n",
    "plt.show()\n",
    "y_pred = lr.predict(X_test)\n",
    "print('Accuracy: %.4f' % accuracy_score(y_test, y_pred))\n",
    "print('Precision: %.4f' % precision_score(y_test, y_pred))\n",
    "print('Recall: %.4f' % recall_score(y_test, y_pred))\n",
    "print('F1: %.4f' % f1_score(y_test, y_pred))"
   ]
  },
  {
   "cell_type": "code",
   "execution_count": 107,
   "metadata": {},
   "outputs": [
    {
     "data": {
      "text/plain": [
       "LogisticRegression(random_state=42)"
      ]
     },
     "execution_count": 107,
     "metadata": {},
     "output_type": "execute_result"
    }
   ],
   "source": [
    "lr"
   ]
  },
  {
   "cell_type": "code",
   "execution_count": 108,
   "metadata": {},
   "outputs": [
    {
     "data": {
      "text/plain": [
       "array([[16055,    83],\n",
       "       [ 2252,    60]], dtype=int64)"
      ]
     },
     "execution_count": 108,
     "metadata": {},
     "output_type": "execute_result"
    }
   ],
   "source": [
    "# confusion_matrix(y_test, probs, labels=[0, 1], normalize=True)\n",
    "\n",
    "np.round(confusion_matrix(y_test, y_pred), 3)"
   ]
  },
  {
   "cell_type": "code",
   "execution_count": 109,
   "metadata": {},
   "outputs": [
    {
     "data": {
      "text/plain": [
       "(73799,)"
      ]
     },
     "execution_count": 109,
     "metadata": {},
     "output_type": "execute_result"
    }
   ],
   "source": [
    "y.shape"
   ]
  },
  {
   "cell_type": "code",
   "execution_count": 110,
   "metadata": {},
   "outputs": [],
   "source": [
    "params = {\n",
    "        'min_child_weight': [1, 5, 10],\n",
    "        'gamma': [0.5, 1, 1.5, 2, 5],\n",
    "        'subsample': [0.6, 0.8, 1.0],\n",
    "        'colsample_bytree': [0.6, 0.8, 1.0],\n",
    "        'max_depth': [3, 4, 5]\n",
    "        }"
   ]
  },
  {
   "cell_type": "code",
   "execution_count": 111,
   "metadata": {},
   "outputs": [],
   "source": [
    "import xgboost"
   ]
  },
  {
   "cell_type": "code",
   "execution_count": 127,
   "metadata": {},
   "outputs": [
    {
     "name": "stdout",
     "output_type": "stream",
     "text": [
      "Fitting 5 folds for each of 105 candidates, totalling 525 fits\n"
     ]
    },
    {
     "name": "stderr",
     "output_type": "stream",
     "text": [
      "[Parallel(n_jobs=-1)]: Using backend LokyBackend with 8 concurrent workers.\n",
      "[Parallel(n_jobs=-1)]: Done  34 tasks      | elapsed:   27.3s\n",
      "[Parallel(n_jobs=-1)]: Done 184 tasks      | elapsed:  3.5min\n",
      "[Parallel(n_jobs=-1)]: Done 434 tasks      | elapsed:  8.4min\n",
      "[Parallel(n_jobs=-1)]: Done 525 out of 525 | elapsed: 11.0min finished\n"
     ]
    },
    {
     "data": {
      "image/png": "[encoded data removed]",
      "text/plain": [
       "<Figure size 432x288 with 1 Axes>"
      ]
     },
     "metadata": {
      "needs_background": "light"
     },
     "output_type": "display_data"
    },
    {
     "name": "stdout",
     "output_type": "stream",
     "text": [
      "Accuracy: 0.8745\n",
      "Precision: 0.4835\n",
      "Recall: 0.0190\n",
      "F1: 0.0366\n"
     ]
    }
   ],
   "source": [
    "model = xgboost.XGBClassifier(objective= 'binary:logistic',    nthread=4,    seed=42)\n",
    "\n",
    "\n",
    "parameters = {\n",
    "    'max_depth': range (2, 7, 1),\n",
    "    'n_estimators': range(60, 200, 20),\n",
    "    'learning_rate': [0.1, 0.01, 0.025]\n",
    "}\n",
    "\n",
    "\n",
    "grid_search = GridSearchCV(\n",
    "    estimator=model,\n",
    "    param_grid=parameters,\n",
    "    scoring = 'roc_auc',\n",
    "    n_jobs = -1,\n",
    "    cv = 5,\n",
    "    verbose=True\n",
    ")\n",
    "\n",
    "\n",
    "grid_search.fit(X_train, y_train)\n",
    "\n",
    "y_pred = grid_search.predict(X_test)\n",
    "probs = grid_search.predict_proba(X_test)\n",
    "probs = probs[:,1]\n",
    "\n",
    "\n",
    "fpr, tpr, threshold = roc_curve(y_test, probs)\n",
    "roc_auc = roc_auc_score(y_test, probs)\n",
    "\n",
    "plt.figure()\n",
    "plt.plot([0, 1], label='Baseline', linestyle='--')\n",
    "plt.plot(fpr, tpr, label = 'Regression')\n",
    "plt.title('Logistic Regression ROC AUC = %0.3f' % roc_auc)\n",
    "plt.ylabel('True Positive Rate')\n",
    "plt.xlabel('False Positive Rate')\n",
    "plt.legend(loc = 'lower right')\n",
    "plt.show()\n",
    "\n",
    "print('Accuracy: %.4f' % accuracy_score(y_test, y_pred))\n",
    "print('Precision: %.4f' % precision_score(y_test, y_pred))\n",
    "print('Recall: %.4f' % recall_score(y_test, y_pred))\n",
    "print('F1: %.4f' % f1_score(y_test, y_pred))"
   ]
  },
  {
   "cell_type": "code",
   "execution_count": 125,
   "metadata": {},
   "outputs": [
    {
     "data": {
      "text/plain": [
       "array([[16105,    33],\n",
       "       [ 2282,    30]], dtype=int64)"
      ]
     },
     "execution_count": 125,
     "metadata": {},
     "output_type": "execute_result"
    }
   ],
   "source": [
    "confusion_matrix(y_test, y_pred)"
   ]
  },
  {
   "cell_type": "code",
   "execution_count": 126,
   "metadata": {},
   "outputs": [
    {
     "data": {
      "image/png": "[encoded data removed]",
      "text/plain": [
       "<Figure size 432x288 with 1 Axes>"
      ]
     },
     "metadata": {
      "needs_background": "light"
     },
     "output_type": "display_data"
    },
    {
     "name": "stdout",
     "output_type": "stream",
     "text": [
      "Accuracy: 0.8743\n",
      "Precision: 0.4568\n",
      "Recall: 0.0160\n",
      "F1: 0.0309\n"
     ]
    }
   ],
   "source": [
    "model = xgboost.XGBClassifier(seed=42)\n",
    "\n",
    "\n",
    "model.fit(X_train, y_train)\n",
    "\n",
    "y_pred = model.predict(X_test)\n",
    "probs = model.predict_proba(X_test)\n",
    "probs = probs[:,1]\n",
    "\n",
    "\n",
    "fpr, tpr, threshold = roc_curve(y_test, probs)\n",
    "roc_auc = roc_auc_score(y_test, probs)\n",
    "\n",
    "plt.figure()\n",
    "plt.plot([0, 1], label='Baseline', linestyle='--')\n",
    "plt.plot(fpr, tpr, label = 'Regression')\n",
    "plt.title('Logistic Regression ROC AUC = %0.3f' % roc_auc)\n",
    "plt.ylabel('True Positive Rate')\n",
    "plt.xlabel('False Positive Rate')\n",
    "plt.legend(loc = 'lower right')\n",
    "plt.show()\n",
    "\n",
    "print('Accuracy: %.4f' % accuracy_score(y_test, y_pred))\n",
    "print('Precision: %.4f' % precision_score(y_test, y_pred))\n",
    "print('Recall: %.4f' % recall_score(y_test, y_pred))\n",
    "print('F1: %.4f' % f1_score(y_test, y_pred))"
   ]
  },
  {
   "cell_type": "code",
   "execution_count": 122,
   "metadata": {},
   "outputs": [
    {
     "data": {
      "text/plain": [
       "array([[10792,  5346],\n",
       "       [  738,  1574]], dtype=int64)"
      ]
     },
     "execution_count": 122,
     "metadata": {},
     "output_type": "execute_result"
    }
   ],
   "source": [
    "confusion_matrix(y_test, y_pred)"
   ]
  },
  {
   "cell_type": "code",
   "execution_count": 114,
   "metadata": {},
   "outputs": [
    {
     "data": {
      "text/plain": [
       "(55349, 41)"
      ]
     },
     "execution_count": 114,
     "metadata": {},
     "output_type": "execute_result"
    }
   ],
   "source": [
    "X_train.shape"
   ]
  },
  {
   "cell_type": "code",
   "execution_count": 115,
   "metadata": {},
   "outputs": [],
   "source": [
    "\n",
    "\n",
    "# from sklearn.model_selection import GridSearchCV\n",
    "\n",
    "# # Добавим типы регуляризации\n",
    "# penalty = ['l1', 'l2']\n",
    "\n",
    "# # Зададим ограничения для параметра регуляризации\n",
    "# C = np.logspace(0, 4, 10)\n",
    "\n",
    "# # Создадим гиперпараметры\n",
    "# hyperparameters = dict(C=C, penalty=penalty)\n",
    "\n",
    "# model = LogisticRegression()\n",
    "# model.fit(X_train, y_train)\n",
    "\n",
    "# # Создаем сетку поиска с использованием 5-кратной перекрестной проверки\n",
    "# clf = GridSearchCV(model, hyperparameters, cv=5, verbose=0)\n",
    "\n",
    "# best_model = clf.fit(X_train, y_train)\n",
    "\n",
    "# # View best hyperparameters\n",
    "# print('Лучшее Penalty:', best_model.best_estimator_.get_params()['penalty'])\n",
    "# print('Лучшее C:', best_model.best_estimator_.get_params()['C'])\n",
    "\n"
   ]
  },
  {
   "cell_type": "code",
   "execution_count": null,
   "metadata": {},
   "outputs": [],
   "source": []
  },
  {
   "cell_type": "markdown",
   "metadata": {},
   "source": []
  },
  {
   "cell_type": "code",
   "execution_count": 116,
   "metadata": {},
   "outputs": [
    {
     "name": "stderr",
     "output_type": "stream",
     "text": [
      "C:\\Users\\User\\anaconda3\\envs\\spyder\\lib\\site-packages\\sklearn\\linear_model\\_logistic.py:764: ConvergenceWarning: lbfgs failed to converge (status=1):\n",
      "STOP: TOTAL NO. of ITERATIONS REACHED LIMIT.\n",
      "\n",
      "Increase the number of iterations (max_iter) or scale the data as shown in:\n",
      "    https://scikit-learn.org/stable/modules/preprocessing.html\n",
      "Please also refer to the documentation for alternative solver options:\n",
      "    https://scikit-learn.org/stable/modules/linear_model.html#logistic-regression\n",
      "  extra_warning_msg=_LOGISTIC_SOLVER_CONVERGENCE_MSG)\n"
     ]
    },
    {
     "name": "stdout",
     "output_type": "stream",
     "text": [
      "\tC: 1.0\n",
      "\tclass_weight: 'balanced'\n",
      "\tdual: False\n",
      "\tfit_intercept: True\n",
      "\tintercept_scaling: 1\n",
      "\tl1_ratio: None\n",
      "\tmax_iter: 50\n",
      "\tmulti_class: 'auto'\n",
      "\tn_jobs: None\n",
      "\tpenalty: 'l2'\n",
      "\trandom_state: 42\n",
      "\tsolver: 'lbfgs'\n",
      "\ttol: 0.001\n",
      "\tverbose: 0\n",
      "\twarm_start: False\n",
      "Accuracy: 0.6702\n",
      "Precision: 0.2275\n",
      "Recall: 0.6808\n",
      "F1: 0.3410\n"
     ]
    },
    {
     "data": {
      "text/plain": [
       "array([[10792,  5346],\n",
       "       [  738,  1574]], dtype=int64)"
      ]
     },
     "execution_count": 116,
     "metadata": {},
     "output_type": "execute_result"
    }
   ],
   "source": [
    "LR = LogisticRegression(random_state=42)\n",
    "\n",
    "iter_ = 50\n",
    "epsilon_stop = 1e-3\n",
    "\n",
    "param_grid = [\n",
    "    {'penalty': ['l1'], \n",
    "     'solver': ['liblinear', 'lbfgs'], \n",
    "     'class_weight':['none', 'balanced'], \n",
    "     'multi_class': ['auto','ovr'], \n",
    "     'max_iter':[iter_],\n",
    "     'tol':[epsilon_stop]},\n",
    "    {'penalty': ['l2'], \n",
    "     'solver': ['newton-cg', 'lbfgs', 'liblinear', 'sag', 'saga'], \n",
    "     'class_weight':['none', 'balanced'], \n",
    "     'multi_class': ['auto','ovr'], \n",
    "     'max_iter':[iter_],\n",
    "     'tol':[epsilon_stop]},\n",
    "    {'penalty': ['none'], \n",
    "     'solver': ['newton-cg', 'lbfgs', 'sag', 'saga'], \n",
    "     'class_weight':['none', 'balanced'], \n",
    "     'multi_class': ['auto','ovr'], \n",
    "     'max_iter':[iter_],\n",
    "     'tol':[epsilon_stop]},\n",
    "]\n",
    "gridsearch = GridSearchCV(LR, param_grid, scoring='f1', n_jobs=-1, cv=5)\n",
    "gridsearch.fit(X_train, y_train)\n",
    "LR = gridsearch.best_estimator_\n",
    "##печатаем параметры\n",
    "best_parameters = LR.get_params()\n",
    "for param_name in sorted(best_parameters.keys()):\n",
    "        print('\\t%s: %r' % (param_name, best_parameters[param_name]))\n",
    "    ##печатаем метрики\n",
    "y_pred = LR.predict(X_test)\n",
    "y_prob = LR.predict_proba(X_test)\n",
    "y_prob = y_prob[:,1]\n",
    "\n",
    "print('Accuracy: %.4f' % accuracy_score(y_test, y_pred))\n",
    "print('Precision: %.4f' % precision_score(y_test, y_pred))\n",
    "print('Recall: %.4f' % recall_score(y_test, y_pred))\n",
    "print('F1: %.4f' % f1_score(y_test, y_pred))\n",
    "confusion_matrix( y_test, y_pred,  labels=[0, 1])"
   ]
  },
  {
   "cell_type": "code",
   "execution_count": 120,
   "metadata": {},
   "outputs": [
    {
     "data": {
      "text/plain": [
       "array([[58.5, 29. ],\n",
       "       [ 4. ,  8.5]])"
      ]
     },
     "execution_count": 120,
     "metadata": {},
     "output_type": "execute_result"
    }
   ],
   "source": [
    "np.round(confusion_matrix(y_test, y_pred, normalize='all'), 3)*100"
   ]
  },
  {
   "cell_type": "code",
   "execution_count": null,
   "metadata": {},
   "outputs": [],
   "source": []
  },
  {
   "cell_type": "code",
   "execution_count": 121,
   "metadata": {},
   "outputs": [
    {
     "data": {
      "text/plain": [
       "array([[10792,  5346],\n",
       "       [  738,  1574]], dtype=int64)"
      ]
     },
     "execution_count": 121,
     "metadata": {},
     "output_type": "execute_result"
    }
   ],
   "source": [
    "confusion_matrix(y_test, y_pred)"
   ]
  },
  {
   "cell_type": "code",
   "execution_count": null,
   "metadata": {},
   "outputs": [],
   "source": []
  },
  {
   "cell_type": "code",
   "execution_count": null,
   "metadata": {},
   "outputs": [],
   "source": []
  },
  {
   "cell_type": "code",
   "execution_count": null,
   "metadata": {},
   "outputs": [],
   "source": []
  },
  {
   "cell_type": "code",
   "execution_count": null,
   "metadata": {},
   "outputs": [],
   "source": []
  }
 ],
 "metadata": {
  "kernelspec": {
   "display_name": "Python 3",
   "language": "python",
   "name": "python3"
  },
  "language_info": {
   "codemirror_mode": {
    "name": "ipython",
    "version": 3
   },
   "file_extension": ".py",
   "mimetype": "text/x-python",
   "name": "python",
   "nbconvert_exporter": "python",
   "pygments_lexer": "ipython3",
   "version": "3.7.8"
  }
 },
 "nbformat": 4,
 "nbformat_minor": 4
}
